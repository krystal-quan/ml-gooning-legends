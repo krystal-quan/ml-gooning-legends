{
 "cells": [
  {
   "cell_type": "code",
   "execution_count": 1,
   "id": "f1588250",
   "metadata": {
    "_cell_guid": "b1076dfc-b9ad-4769-8c92-a6c4dae69d19",
    "_uuid": "8f2839f25d086af736a60e9eeb907d3b93b6e0e5",
    "execution": {
     "iopub.execute_input": "2024-12-17T19:31:22.896645Z",
     "iopub.status.busy": "2024-12-17T19:31:22.896299Z",
     "iopub.status.idle": "2024-12-17T19:31:33.081130Z",
     "shell.execute_reply": "2024-12-17T19:31:33.079871Z"
    },
    "papermill": {
     "duration": 10.192049,
     "end_time": "2024-12-17T19:31:33.083475",
     "exception": false,
     "start_time": "2024-12-17T19:31:22.891426",
     "status": "completed"
    },
    "tags": []
   },
   "outputs": [],
   "source": [
    "import torch\n",
    "\n",
    "\n",
    "import numpy as np\n",
    "import polars as pl\n",
    "import pandas as pd\n",
    "from sklearn.base import clone, BaseEstimator, RegressorMixin\n",
    "from copy import deepcopy\n",
    "import optuna\n",
    "from scipy.optimize import minimize\n",
    "import os\n",
    "import matplotlib.pyplot as plt\n",
    "import seaborn as sns\n",
    "\n",
    "import re\n",
    "from colorama import Fore, Style\n",
    "\n",
    "from tqdm import tqdm\n",
    "from IPython.display import clear_output\n",
    "from concurrent.futures import ThreadPoolExecutor\n",
    "\n",
    "import warnings\n",
    "\n",
    "warnings.filterwarnings(\"ignore\")\n",
    "pd.options.display.max_columns = None\n",
    "\n",
    "import lightgbm as lgb\n",
    "from catboost import CatBoostRegressor, CatBoostClassifier\n",
    "from xgboost import XGBRegressor\n",
    "from sklearn.ensemble import (\n",
    "    VotingRegressor,\n",
    "    StackingRegressor,\n",
    "    GradientBoostingRegressor,\n",
    ")\n",
    "from sklearn.model_selection import *\n",
    "from sklearn.metrics import *\n",
    "from sklearn.impute import SimpleImputer, KNNImputer\n",
    "from sklearn.linear_model import Ridge, LinearRegression\n",
    "\n",
    "SEED = 42\n",
    "n_splits = 5"
   ]
  },
  {
   "cell_type": "code",
   "execution_count": 2,
   "id": "cdd7580f",
   "metadata": {
    "execution": {
     "iopub.execute_input": "2024-12-17T19:31:33.091235Z",
     "iopub.status.busy": "2024-12-17T19:31:33.089825Z",
     "iopub.status.idle": "2024-12-17T19:32:46.801906Z",
     "shell.execute_reply": "2024-12-17T19:32:46.800826Z"
    },
    "papermill": {
     "duration": 73.71741,
     "end_time": "2024-12-17T19:32:46.803619",
     "exception": false,
     "start_time": "2024-12-17T19:31:33.086209",
     "status": "completed"
    },
    "tags": []
   },
   "outputs": [
    {
     "name": "stderr",
     "output_type": "stream",
     "text": [
      "100%|██████████| 996/996 [01:13<00:00, 13.59it/s]\n",
      "100%|██████████| 2/2 [00:00<00:00, 10.55it/s]\n"
     ]
    },
    {
     "name": "stdout",
     "output_type": "stream",
     "text": [
      "Train Shape : (2736, 155) || Test Shape : (20, 154)\n",
      "CPU times: user 2min 59s, sys: 20.3 s, total: 3min 19s\n",
      "Wall time: 1min 13s\n"
     ]
    }
   ],
   "source": [
    "%%time\n",
    "\n",
    "def process_file(filename, dirname):\n",
    "    df = pd.read_parquet(os.path.join(dirname, filename, 'part-0.parquet'))\n",
    "    df.drop('step', axis=1, inplace=True)\n",
    "    return df.describe().values.reshape(-1), filename.split('=')[1]\n",
    "\n",
    "def load_time_series(dirname) -> pd.DataFrame:\n",
    "    ids = os.listdir(dirname)\n",
    "    \n",
    "    with ThreadPoolExecutor() as executor:\n",
    "        results = list(tqdm(executor.map(lambda fname: process_file(fname, dirname), ids), total=len(ids)))\n",
    "    \n",
    "    stats, indexes = zip(*results)\n",
    "    \n",
    "    df = pd.DataFrame(stats, columns=[f\"Stat_{i}\" for i in range(len(stats[0]))])\n",
    "    df['id'] = indexes\n",
    "    \n",
    "    return df\n",
    "\n",
    "train = pd.read_csv('/kaggle/input/child-mind-institute-problematic-internet-use/train.csv')\n",
    "test = pd.read_csv('/kaggle/input/child-mind-institute-problematic-internet-use/test.csv')\n",
    "sample = pd.read_csv('/kaggle/input/child-mind-institute-problematic-internet-use/sample_submission.csv')\n",
    "\n",
    "train_ts = load_time_series(\"/kaggle/input/child-mind-institute-problematic-internet-use/series_train.parquet\")\n",
    "test_ts = load_time_series(\"/kaggle/input/child-mind-institute-problematic-internet-use/series_test.parquet\")\n",
    "time_series_cols = train_ts.columns.tolist()\n",
    "time_series_cols.remove(\"id\")\n",
    "\n",
    "train = pd.merge(train, train_ts, how=\"left\", on='id')\n",
    "test = pd.merge(test, test_ts, how=\"left\", on='id')\n",
    "\n",
    "train = train.drop('id', axis=1)\n",
    "test = test.drop('id', axis=1)\n",
    "\n",
    "featuresCols = ['Basic_Demos-Enroll_Season', 'Basic_Demos-Age', 'Basic_Demos-Sex',\n",
    "                'CGAS-Season', 'CGAS-CGAS_Score', 'Physical-Season', 'Physical-BMI',\n",
    "                'Physical-Height', 'Physical-Weight', 'Physical-Waist_Circumference',\n",
    "                'Physical-Diastolic_BP', 'Physical-HeartRate', 'Physical-Systolic_BP',\n",
    "                'Fitness_Endurance-Season', 'Fitness_Endurance-Max_Stage',\n",
    "                'Fitness_Endurance-Time_Mins', 'Fitness_Endurance-Time_Sec',\n",
    "                'FGC-Season', 'FGC-FGC_CU', 'FGC-FGC_CU_Zone', 'FGC-FGC_GSND',\n",
    "                'FGC-FGC_GSND_Zone', 'FGC-FGC_GSD', 'FGC-FGC_GSD_Zone', 'FGC-FGC_PU',\n",
    "                'FGC-FGC_PU_Zone', 'FGC-FGC_SRL', 'FGC-FGC_SRL_Zone', 'FGC-FGC_SRR',\n",
    "                'FGC-FGC_SRR_Zone', 'FGC-FGC_TL', 'FGC-FGC_TL_Zone', 'BIA-Season',\n",
    "                'BIA-BIA_Activity_Level_num', 'BIA-BIA_BMC', 'BIA-BIA_BMI',\n",
    "                'BIA-BIA_BMR', 'BIA-BIA_DEE', 'BIA-BIA_ECW', 'BIA-BIA_FFM',\n",
    "                'BIA-BIA_FFMI', 'BIA-BIA_FMI', 'BIA-BIA_Fat', 'BIA-BIA_Frame_num',\n",
    "                'BIA-BIA_ICW', 'BIA-BIA_LDM', 'BIA-BIA_LST', 'BIA-BIA_SMM',\n",
    "                'BIA-BIA_TBW', 'PAQ_A-Season', 'PAQ_A-PAQ_A_Total', 'PAQ_C-Season',\n",
    "                'PAQ_C-PAQ_C_Total', 'SDS-Season', 'SDS-SDS_Total_Raw',\n",
    "                'SDS-SDS_Total_T', 'PreInt_EduHx-Season',\n",
    "                'PreInt_EduHx-computerinternet_hoursday', 'sii']\n",
    "\n",
    "featuresCols += time_series_cols\n",
    "\n",
    "train = train[featuresCols]\n",
    "train = train.dropna(subset='sii')\n",
    "\n",
    "cat_c = ['Basic_Demos-Enroll_Season', 'CGAS-Season', 'Physical-Season', 'Fitness_Endurance-Season', \n",
    "          'FGC-Season', 'BIA-Season', 'PAQ_A-Season', 'PAQ_C-Season', 'SDS-Season', 'PreInt_EduHx-Season']\n",
    "\n",
    "def update(df):\n",
    "    for c in cat_c: \n",
    "        df[c] = df[c].fillna('Missing')\n",
    "        df[c] = df[c].astype('category')\n",
    "    return df\n",
    "        \n",
    "train = update(train)\n",
    "test = update(test)\n",
    "\n",
    "def create_mapping(column, dataset):\n",
    "    unique_values = dataset[column].unique()\n",
    "    return {value: idx for idx, value in enumerate(unique_values)}\n",
    "\n",
    "\n",
    "\n",
    "for col in cat_c:\n",
    "    mapping_train = create_mapping(col, train)\n",
    "    mapping_test = create_mapping(col, test)\n",
    "    \n",
    "    train[col] = train[col].replace(mapping_train).astype(int)\n",
    "    test[col] = test[col].replace(mapping_train).astype(int)\n",
    "\n",
    "print(f'Train Shape : {train.shape} || Test Shape : {test.shape}')\n"
   ]
  },
  {
   "cell_type": "code",
   "execution_count": 3,
   "id": "60f4f37c",
   "metadata": {
    "execution": {
     "iopub.execute_input": "2024-12-17T19:32:46.836389Z",
     "iopub.status.busy": "2024-12-17T19:32:46.836036Z",
     "iopub.status.idle": "2024-12-17T19:32:46.841102Z",
     "shell.execute_reply": "2024-12-17T19:32:46.840269Z"
    },
    "papermill": {
     "duration": 0.023446,
     "end_time": "2024-12-17T19:32:46.842763",
     "exception": false,
     "start_time": "2024-12-17T19:32:46.819317",
     "status": "completed"
    },
    "tags": []
   },
   "outputs": [],
   "source": [
    "all_importances = pd.DataFrame({\"feature\": featuresCols})"
   ]
  },
  {
   "cell_type": "code",
   "execution_count": 4,
   "id": "0282f856",
   "metadata": {
    "execution": {
     "iopub.execute_input": "2024-12-17T19:32:46.878136Z",
     "iopub.status.busy": "2024-12-17T19:32:46.877756Z",
     "iopub.status.idle": "2024-12-17T19:32:51.223947Z",
     "shell.execute_reply": "2024-12-17T19:32:51.222122Z"
    },
    "papermill": {
     "duration": 4.36688,
     "end_time": "2024-12-17T19:32:51.226222",
     "exception": false,
     "start_time": "2024-12-17T19:32:46.859342",
     "status": "completed"
    },
    "tags": []
   },
   "outputs": [],
   "source": [
    "imputer = KNNImputer(n_neighbors=5)\n",
    "train_imputer = imputer.fit_transform(train)\n",
    "train = pd.DataFrame(train_imputer, columns=train.columns)\n",
    "test_imputer = imputer.fit_transform(test)\n",
    "test = pd.DataFrame(test_imputer, columns=test.columns)"
   ]
  },
  {
   "cell_type": "code",
   "execution_count": 5,
   "id": "2352539f",
   "metadata": {
    "execution": {
     "iopub.execute_input": "2024-12-17T19:32:51.260393Z",
     "iopub.status.busy": "2024-12-17T19:32:51.259582Z",
     "iopub.status.idle": "2024-12-17T19:32:51.271397Z",
     "shell.execute_reply": "2024-12-17T19:32:51.269844Z"
    },
    "papermill": {
     "duration": 0.030462,
     "end_time": "2024-12-17T19:32:51.273007",
     "exception": false,
     "start_time": "2024-12-17T19:32:51.242545",
     "status": "completed"
    },
    "tags": []
   },
   "outputs": [
    {
     "name": "stdout",
     "output_type": "stream",
     "text": [
      "CPU times: user 5 µs, sys: 1 µs, total: 6 µs\n",
      "Wall time: 9.3 µs\n"
     ]
    }
   ],
   "source": [
    "%%time\n",
    "\n",
    "def quadratic_weighted_kappa(y_true, y_pred):\n",
    "    return cohen_kappa_score(y_true, y_pred, weights='quadratic')\n",
    "\n",
    "def threshold_Rounder(oof_non_rounded, thresholds):\n",
    "    return np.where(oof_non_rounded < thresholds[0], 0,\n",
    "                    np.where(oof_non_rounded < thresholds[1], 1,\n",
    "                             np.where(oof_non_rounded < thresholds[2], 2, 3)))\n",
    "\n",
    "def evaluate_predictions(thresholds, y_true, oof_non_rounded):\n",
    "    rounded_p = threshold_Rounder(oof_non_rounded, thresholds)\n",
    "    return -quadratic_weighted_kappa(y_true, rounded_p)\n",
    "\n",
    "def TrainML(model_class, test_data):\n",
    "    \n",
    "    X = train.drop(['sii'], axis=1)\n",
    "    y = train['sii']\n",
    "\n",
    "    SKF = RepeatedStratifiedKFold(n_splits=n_splits, n_repeats=1, random_state=SEED)\n",
    "    \n",
    "    train_S = []\n",
    "    test_S = []\n",
    "    \n",
    "    oof_non_rounded = np.zeros(len(y), dtype=float) \n",
    "    oof_rounded = np.zeros(len(y), dtype=int) \n",
    "    test_preds = np.zeros((len(test_data), n_splits))\n",
    "\n",
    "    for fold, (train_idx, test_idx) in enumerate(tqdm(SKF.split(X, y), desc=\"Training Folds\", total=n_splits)):\n",
    "        X_train, X_val = X.iloc[train_idx], X.iloc[test_idx]\n",
    "        y_train, y_val = y.iloc[train_idx], y.iloc[test_idx]\n",
    "\n",
    "        model = clone(model_class)\n",
    "        model.fit(X_train, y_train)\n",
    "\n",
    "        y_train_pred = model.predict(X_train)\n",
    "        y_val_pred = model.predict(X_val)\n",
    "\n",
    "        oof_non_rounded[test_idx] = y_val_pred\n",
    "        y_val_pred_rounded = y_val_pred.round(0).astype(int)\n",
    "        oof_rounded[test_idx] = y_val_pred_rounded\n",
    "\n",
    "        train_kappa = quadratic_weighted_kappa(y_train, y_train_pred.round(0).astype(int))\n",
    "        val_kappa = quadratic_weighted_kappa(y_val, y_val_pred_rounded)\n",
    "\n",
    "        train_S.append(train_kappa)\n",
    "        test_S.append(val_kappa)\n",
    "        \n",
    "        test_preds[:, fold] = model.predict(test_data)\n",
    "        \n",
    "        print(f\"Fold {fold+1} - Train QWK: {train_kappa:.4f}, Validation QWK: {val_kappa:.4f}\")\n",
    "        clear_output(wait=True)\n",
    "\n",
    "    print(f\"Mean Train QWK --> {np.mean(train_S):.4f}\")\n",
    "    print(f\"Mean Validation QWK ---> {np.mean(test_S):.4f}\")\n",
    "\n",
    "    KappaOPtimizer = minimize(evaluate_predictions,\n",
    "                              x0=[0.5, 1.5, 2.5], args=(y, oof_non_rounded), \n",
    "                              method='Nelder-Mead') # Nelder-Mead | # Powell\n",
    "    assert KappaOPtimizer.success, \"Optimization did not converge.\"\n",
    "    \n",
    "    oof_tuned = threshold_Rounder(oof_non_rounded, KappaOPtimizer.x)\n",
    "    tKappa = quadratic_weighted_kappa(y, oof_tuned)\n",
    "\n",
    "    print(f\"----> || Optimized QWK SCORE :: {Fore.CYAN}{Style.BRIGHT} {tKappa:.3f}{Style.RESET_ALL}\")\n",
    "\n",
    "    tpm = test_preds.mean(axis=1)\n",
    "    tpTuned = threshold_Rounder(tpm, KappaOPtimizer.x)\n",
    "    \n",
    "    submission = pd.DataFrame({\n",
    "        'id': sample['id'],\n",
    "        'sii': tpTuned\n",
    "    })\n",
    "\n",
    "    return submission,model"
   ]
  },
  {
   "cell_type": "code",
   "execution_count": 6,
   "id": "1cd74ee4",
   "metadata": {
    "execution": {
     "iopub.execute_input": "2024-12-17T19:32:51.304543Z",
     "iopub.status.busy": "2024-12-17T19:32:51.304173Z",
     "iopub.status.idle": "2024-12-17T19:32:51.309893Z",
     "shell.execute_reply": "2024-12-17T19:32:51.308802Z"
    },
    "papermill": {
     "duration": 0.024137,
     "end_time": "2024-12-17T19:32:51.312090",
     "exception": false,
     "start_time": "2024-12-17T19:32:51.287953",
     "status": "completed"
    },
    "tags": []
   },
   "outputs": [],
   "source": [
    "params3 = {\n",
    "    \"lambda_l1\": 2.9209409268664883,\n",
    "    \"lambda_l2\": 0.00012976118112242174,\n",
    "    \"num_leaves\": 202,\n",
    "    \"feature_fraction\": 0.8038056112369449,\n",
    "    \"bagging_fraction\": 0.6991108077097957,\n",
    "    \"bagging_freq\": 3,\n",
    "    \"learning_rate\": 0.05,\n",
    "    \"min_child_samples\": 85,\n",
    "}\n",
    "# catboost_params = {'learning_rate': 0.019252771685694288,\n",
    "#  'depth': 7,\n",
    "#  'subsample': 0.40628186539007644,\n",
    "#  'colsample_bylevel': 0.6904206855559013,\n",
    "#  'min_data_in_leaf': 38}\n",
    "# XGB_Params = {'lambda_l1': 0.1543921843752799,\n",
    "#  'lambda_l2': 0.000281461450194636,\n",
    "#  'num_leaves': 2,\n",
    "#  'feature_fraction': 0.6799895242815174,\n",
    "#  'bagging_fraction': 0.5050148144157642,\n",
    "#  'bagging_freq': 1,\n",
    "#  'min_child_samples': 86}"
   ]
  },
  {
   "cell_type": "code",
   "execution_count": 7,
   "id": "53373516",
   "metadata": {
    "execution": {
     "iopub.execute_input": "2024-12-17T19:32:51.345971Z",
     "iopub.status.busy": "2024-12-17T19:32:51.345621Z",
     "iopub.status.idle": "2024-12-17T19:32:51.356303Z",
     "shell.execute_reply": "2024-12-17T19:32:51.355346Z"
    },
    "papermill": {
     "duration": 0.02959,
     "end_time": "2024-12-17T19:32:51.357790",
     "exception": false,
     "start_time": "2024-12-17T19:32:51.328200",
     "status": "completed"
    },
    "tags": []
   },
   "outputs": [],
   "source": [
    "Light1 = lgb.LGBMRegressor(**params3, random_state=SEED, verbose=-1, n_estimators=200)\n",
    "# Light2 = lgb.LGBMRegressor()\n",
    "# Catboost_model = CatBoostRegressor(**catboost_params)\n",
    "# XGB_Model = XGBRegressor(**XGB_Params)"
   ]
  },
  {
   "cell_type": "code",
   "execution_count": 8,
   "id": "b5cb6e83",
   "metadata": {
    "execution": {
     "iopub.execute_input": "2024-12-17T19:32:51.390078Z",
     "iopub.status.busy": "2024-12-17T19:32:51.389716Z",
     "iopub.status.idle": "2024-12-17T19:32:53.517950Z",
     "shell.execute_reply": "2024-12-17T19:32:53.516803Z"
    },
    "papermill": {
     "duration": 2.146329,
     "end_time": "2024-12-17T19:32:53.519576",
     "exception": false,
     "start_time": "2024-12-17T19:32:51.373247",
     "status": "completed"
    },
    "tags": []
   },
   "outputs": [
    {
     "name": "stderr",
     "output_type": "stream",
     "text": [
      "Training Folds: 100%|██████████| 5/5 [00:01<00:00,  2.63it/s]"
     ]
    },
    {
     "name": "stdout",
     "output_type": "stream",
     "text": [
      "Mean Train QWK --> 0.6493\n",
      "Mean Validation QWK ---> 0.3801\n"
     ]
    },
    {
     "name": "stderr",
     "output_type": "stream",
     "text": [
      "\n"
     ]
    },
    {
     "name": "stdout",
     "output_type": "stream",
     "text": [
      "----> || Optimized QWK SCORE :: \u001b[36m\u001b[1m 0.465\u001b[0m\n"
     ]
    }
   ],
   "source": [
    "Submission, model = TrainML(Light1, test)"
   ]
  },
  {
   "cell_type": "code",
   "execution_count": 9,
   "id": "e56a5aff",
   "metadata": {
    "execution": {
     "iopub.execute_input": "2024-12-17T19:32:53.553123Z",
     "iopub.status.busy": "2024-12-17T19:32:53.552755Z",
     "iopub.status.idle": "2024-12-17T19:32:53.570470Z",
     "shell.execute_reply": "2024-12-17T19:32:53.569674Z"
    },
    "papermill": {
     "duration": 0.03704,
     "end_time": "2024-12-17T19:32:53.572229",
     "exception": false,
     "start_time": "2024-12-17T19:32:53.535189",
     "status": "completed"
    },
    "tags": []
   },
   "outputs": [
    {
     "name": "stdout",
     "output_type": "stream",
     "text": [
      "sii\n",
      "1    15\n",
      "0     5\n",
      "Name: count, dtype: int64\n",
      "CPU times: user 4.79 ms, sys: 981 µs, total: 5.77 ms\n",
      "Wall time: 13.1 ms\n"
     ]
    }
   ],
   "source": [
    "%%time\n",
    "\n",
    "Submission.to_csv('submission.csv', index=False)\n",
    "print(Submission['sii'].value_counts())"
   ]
  }
 ],
 "metadata": {
  "kaggle": {
   "accelerator": "none",
   "dataSources": [
    {
     "databundleVersionId": 9643020,
     "sourceId": 81933,
     "sourceType": "competition"
    },
    {
     "datasetId": 921302,
     "sourceId": 7453542,
     "sourceType": "datasetVersion"
    }
   ],
   "dockerImageVersionId": 30804,
   "isGpuEnabled": false,
   "isInternetEnabled": false,
   "language": "python",
   "sourceType": "notebook"
  },
  "kernelspec": {
   "display_name": "Python 3",
   "language": "python",
   "name": "python3"
  },
  "language_info": {
   "codemirror_mode": {
    "name": "ipython",
    "version": 3
   },
   "file_extension": ".py",
   "mimetype": "text/x-python",
   "name": "python",
   "nbconvert_exporter": "python",
   "pygments_lexer": "ipython3",
   "version": "3.10.14"
  },
  "papermill": {
   "default_parameters": {},
   "duration": 95.058034,
   "end_time": "2024-12-17T19:32:55.315010",
   "environment_variables": {},
   "exception": null,
   "input_path": "__notebook__.ipynb",
   "output_path": "__notebook__.ipynb",
   "parameters": {},
   "start_time": "2024-12-17T19:31:20.256976",
   "version": "2.6.0"
  }
 },
 "nbformat": 4,
 "nbformat_minor": 5
}
