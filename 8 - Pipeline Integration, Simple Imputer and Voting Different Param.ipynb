{
 "cells": [
  {
   "cell_type": "markdown",
   "id": "95c82923",
   "metadata": {
    "papermill": {
     "duration": 0.004583,
     "end_time": "2024-12-19T22:29:45.083053",
     "exception": false,
     "start_time": "2024-12-19T22:29:45.078470",
     "status": "completed"
    },
    "tags": []
   },
   "source": [
    "### Import libraries\n"
   ]
  },
  {
   "cell_type": "code",
   "execution_count": 1,
   "id": "871aa055",
   "metadata": {
    "_cell_guid": "b1076dfc-b9ad-4769-8c92-a6c4dae69d19",
    "_uuid": "8f2839f25d086af736a60e9eeb907d3b93b6e0e5",
    "execution": {
     "iopub.execute_input": "2024-12-19T22:29:45.092032Z",
     "iopub.status.busy": "2024-12-19T22:29:45.091657Z",
     "iopub.status.idle": "2024-12-19T22:29:52.552661Z",
     "shell.execute_reply": "2024-12-19T22:29:52.551536Z"
    },
    "papermill": {
     "duration": 7.469075,
     "end_time": "2024-12-19T22:29:52.555961",
     "exception": false,
     "start_time": "2024-12-19T22:29:45.086886",
     "status": "completed"
    },
    "tags": []
   },
   "outputs": [],
   "source": [
    "import torch\n",
    "import torch.nn as nn\n",
    "import torch.optim as optim\n",
    "\n",
    "import numpy as np\n",
    "import polars as pl\n",
    "import pandas as pd\n",
    "from sklearn.base import clone, BaseEstimator, RegressorMixin\n",
    "from copy import deepcopy\n",
    "import optuna\n",
    "from scipy.optimize import minimize\n",
    "import os\n",
    "import matplotlib.pyplot as plt\n",
    "import seaborn as sns\n",
    "\n",
    "import re\n",
    "from colorama import Fore, Style\n",
    "\n",
    "from tqdm import tqdm\n",
    "from IPython.display import clear_output\n",
    "from concurrent.futures import ThreadPoolExecutor\n",
    "\n",
    "import warnings\n",
    "warnings.filterwarnings('ignore')\n",
    "pd.options.display.max_columns = None\n",
    "\n",
    "import lightgbm as lgb\n",
    "from catboost import CatBoostRegressor, CatBoostClassifier\n",
    "from xgboost import XGBRegressor\n",
    "from sklearn.ensemble import VotingRegressor, StackingRegressor, GradientBoostingRegressor, RandomForestRegressor\n",
    "from sklearn.model_selection import *\n",
    "from sklearn.metrics import *\n",
    "from sklearn.impute import SimpleImputer, KNNImputer\n",
    "from sklearn.linear_model import Ridge, LinearRegression\n",
    "from sklearn.preprocessing import StandardScaler\n",
    "from sklearn.pipeline import Pipeline\n",
    "SEED = 42\n",
    "n_splits = 5"
   ]
  },
  {
   "cell_type": "code",
   "execution_count": 2,
   "id": "7f6f9924",
   "metadata": {
    "execution": {
     "iopub.execute_input": "2024-12-19T22:29:52.565192Z",
     "iopub.status.busy": "2024-12-19T22:29:52.564632Z",
     "iopub.status.idle": "2024-12-19T22:31:13.134534Z",
     "shell.execute_reply": "2024-12-19T22:31:13.133118Z"
    },
    "papermill": {
     "duration": 80.577482,
     "end_time": "2024-12-19T22:31:13.137295",
     "exception": false,
     "start_time": "2024-12-19T22:29:52.559813",
     "status": "completed"
    },
    "tags": []
   },
   "outputs": [
    {
     "name": "stderr",
     "output_type": "stream",
     "text": [
      "100%|██████████| 996/996 [01:20<00:00, 12.44it/s]\n",
      "100%|██████████| 2/2 [00:00<00:00,  7.91it/s]"
     ]
    },
    {
     "name": "stdout",
     "output_type": "stream",
     "text": [
      "Train Shape : (2736, 155) || Test Shape : (20, 154)\n",
      "CPU times: user 3min 43s, sys: 18.4 s, total: 4min 2s\n",
      "Wall time: 1min 20s\n"
     ]
    },
    {
     "name": "stderr",
     "output_type": "stream",
     "text": [
      "\n"
     ]
    }
   ],
   "source": [
    "%%time\n",
    "\n",
    "def process_file(filename, dirname):\n",
    "    df = pd.read_parquet(os.path.join(dirname, filename, 'part-0.parquet'))\n",
    "    df.drop('step', axis=1, inplace=True)\n",
    "    return df.describe().values.reshape(-1), filename.split('=')[1]\n",
    "\n",
    "def load_time_series(dirname) -> pd.DataFrame:\n",
    "    ids = os.listdir(dirname)\n",
    "    \n",
    "    with ThreadPoolExecutor() as executor:\n",
    "        results = list(tqdm(executor.map(lambda fname: process_file(fname, dirname), ids), total=len(ids)))\n",
    "    \n",
    "    stats, indexes = zip(*results)\n",
    "    \n",
    "    df = pd.DataFrame(stats, columns=[f\"Stat_{i}\" for i in range(len(stats[0]))])\n",
    "    df['id'] = indexes\n",
    "    \n",
    "    return df\n",
    "\n",
    "train = pd.read_csv('/kaggle/input/child-mind-institute-problematic-internet-use/train.csv')\n",
    "test = pd.read_csv('/kaggle/input/child-mind-institute-problematic-internet-use/test.csv')\n",
    "sample = pd.read_csv('/kaggle/input/child-mind-institute-problematic-internet-use/sample_submission.csv')\n",
    "\n",
    "train_ts = load_time_series(\"/kaggle/input/child-mind-institute-problematic-internet-use/series_train.parquet\")\n",
    "test_ts = load_time_series(\"/kaggle/input/child-mind-institute-problematic-internet-use/series_test.parquet\")\n",
    "time_series_cols = train_ts.columns.tolist()\n",
    "time_series_cols.remove(\"id\")\n",
    "\n",
    "train = pd.merge(train, train_ts, how=\"left\", on='id')\n",
    "test = pd.merge(test, test_ts, how=\"left\", on='id')\n",
    "\n",
    "train = train.drop('id', axis=1)\n",
    "test = test.drop('id', axis=1)\n",
    "\n",
    "featuresCols = ['Basic_Demos-Enroll_Season', 'Basic_Demos-Age', 'Basic_Demos-Sex',\n",
    "                'CGAS-Season', 'CGAS-CGAS_Score', 'Physical-Season', 'Physical-BMI',\n",
    "                'Physical-Height', 'Physical-Weight', 'Physical-Waist_Circumference',\n",
    "                'Physical-Diastolic_BP', 'Physical-HeartRate', 'Physical-Systolic_BP',\n",
    "                'Fitness_Endurance-Season', 'Fitness_Endurance-Max_Stage',\n",
    "                'Fitness_Endurance-Time_Mins', 'Fitness_Endurance-Time_Sec',\n",
    "                'FGC-Season', 'FGC-FGC_CU', 'FGC-FGC_CU_Zone', 'FGC-FGC_GSND',\n",
    "                'FGC-FGC_GSND_Zone', 'FGC-FGC_GSD', 'FGC-FGC_GSD_Zone', 'FGC-FGC_PU',\n",
    "                'FGC-FGC_PU_Zone', 'FGC-FGC_SRL', 'FGC-FGC_SRL_Zone', 'FGC-FGC_SRR',\n",
    "                'FGC-FGC_SRR_Zone', 'FGC-FGC_TL', 'FGC-FGC_TL_Zone', 'BIA-Season',\n",
    "                'BIA-BIA_Activity_Level_num', 'BIA-BIA_BMC', 'BIA-BIA_BMI',\n",
    "                'BIA-BIA_BMR', 'BIA-BIA_DEE', 'BIA-BIA_ECW', 'BIA-BIA_FFM',\n",
    "                'BIA-BIA_FFMI', 'BIA-BIA_FMI', 'BIA-BIA_Fat', 'BIA-BIA_Frame_num',\n",
    "                'BIA-BIA_ICW', 'BIA-BIA_LDM', 'BIA-BIA_LST', 'BIA-BIA_SMM',\n",
    "                'BIA-BIA_TBW', 'PAQ_A-Season', 'PAQ_A-PAQ_A_Total', 'PAQ_C-Season',\n",
    "                'PAQ_C-PAQ_C_Total', 'SDS-Season', 'SDS-SDS_Total_Raw',\n",
    "                'SDS-SDS_Total_T', 'PreInt_EduHx-Season',\n",
    "                'PreInt_EduHx-computerinternet_hoursday', 'sii']\n",
    "\n",
    "featuresCols += time_series_cols\n",
    "\n",
    "train = train[featuresCols]\n",
    "train = train.dropna(subset='sii')\n",
    "\n",
    "cat_c = ['Basic_Demos-Enroll_Season', 'CGAS-Season', 'Physical-Season', 'Fitness_Endurance-Season', \n",
    "          'FGC-Season', 'BIA-Season', 'PAQ_A-Season', 'PAQ_C-Season', 'SDS-Season', 'PreInt_EduHx-Season']\n",
    "\n",
    "def update(df):\n",
    "    for c in cat_c: \n",
    "        df[c] = df[c].fillna('Missing')\n",
    "        df[c] = df[c].astype('category')\n",
    "    return df\n",
    "        \n",
    "train = update(train)\n",
    "test = update(test)\n",
    "\n",
    "def create_mapping(column, dataset):\n",
    "    unique_values = dataset[column].unique()\n",
    "    return {value: idx for idx, value in enumerate(unique_values)}\n",
    "\n",
    "\n",
    "\n",
    "for col in cat_c:\n",
    "    mapping_train = create_mapping(col, train)\n",
    "    mapping_test = create_mapping(col, test)\n",
    "    \n",
    "    train[col] = train[col].replace(mapping_train).astype(int)\n",
    "    test[col] = test[col].replace(mapping_train).astype(int)\n",
    "\n",
    "print(f'Train Shape : {train.shape} || Test Shape : {test.shape}')"
   ]
  },
  {
   "cell_type": "code",
   "execution_count": 3,
   "id": "7f7aa557",
   "metadata": {
    "execution": {
     "iopub.execute_input": "2024-12-19T22:31:13.182902Z",
     "iopub.status.busy": "2024-12-19T22:31:13.182531Z",
     "iopub.status.idle": "2024-12-19T22:31:13.195361Z",
     "shell.execute_reply": "2024-12-19T22:31:13.194348Z"
    },
    "papermill": {
     "duration": 0.038293,
     "end_time": "2024-12-19T22:31:13.197747",
     "exception": false,
     "start_time": "2024-12-19T22:31:13.159454",
     "status": "completed"
    },
    "tags": []
   },
   "outputs": [
    {
     "name": "stdout",
     "output_type": "stream",
     "text": [
      "CPU times: user 7 µs, sys: 0 ns, total: 7 µs\n",
      "Wall time: 12.6 µs\n"
     ]
    }
   ],
   "source": [
    "%%time\n",
    "\n",
    "def quadratic_weighted_kappa(y_true, y_pred):\n",
    "    return cohen_kappa_score(y_true, y_pred, weights='quadratic')\n",
    "\n",
    "def threshold_Rounder(oof_non_rounded, thresholds):\n",
    "    return np.where(oof_non_rounded < thresholds[0], 0,\n",
    "                    np.where(oof_non_rounded < thresholds[1], 1,\n",
    "                             np.where(oof_non_rounded < thresholds[2], 2, 3)))\n",
    "\n",
    "def evaluate_predictions(thresholds, y_true, oof_non_rounded):\n",
    "    rounded_p = threshold_Rounder(oof_non_rounded, thresholds)\n",
    "    return -quadratic_weighted_kappa(y_true, rounded_p)\n",
    "\n",
    "def TrainML(model_class, test_data):\n",
    "    \n",
    "    X = train.drop(['sii'], axis=1)\n",
    "    y = train['sii']\n",
    "\n",
    "    SKF = RepeatedStratifiedKFold(n_splits=n_splits, n_repeats=1, random_state=SEED)\n",
    "    \n",
    "    train_S = []\n",
    "    test_S = []\n",
    "    \n",
    "    oof_non_rounded = np.zeros(len(y), dtype=float) \n",
    "    oof_rounded = np.zeros(len(y), dtype=int) \n",
    "    test_preds = np.zeros((len(test_data), n_splits))\n",
    "\n",
    "    for fold, (train_idx, test_idx) in enumerate(tqdm(SKF.split(X, y), desc=\"Training Folds\", total=n_splits)):\n",
    "        X_train, X_val = X.iloc[train_idx], X.iloc[test_idx]\n",
    "        y_train, y_val = y.iloc[train_idx], y.iloc[test_idx]\n",
    "\n",
    "        model = clone(model_class)\n",
    "        model.fit(X_train, y_train)\n",
    "\n",
    "        y_train_pred = model.predict(X_train)\n",
    "        y_val_pred = model.predict(X_val)\n",
    "\n",
    "        oof_non_rounded[test_idx] = y_val_pred\n",
    "        y_val_pred_rounded = y_val_pred.round(0).astype(int)\n",
    "        oof_rounded[test_idx] = y_val_pred_rounded\n",
    "\n",
    "        train_kappa = quadratic_weighted_kappa(y_train, y_train_pred.round(0).astype(int))\n",
    "        val_kappa = quadratic_weighted_kappa(y_val, y_val_pred_rounded)\n",
    "\n",
    "        train_S.append(train_kappa)\n",
    "        test_S.append(val_kappa)\n",
    "        \n",
    "        test_preds[:, fold] = model.predict(test_data)\n",
    "        \n",
    "        print(f\"Fold {fold+1} - Train QWK: {train_kappa:.4f}, Validation QWK: {val_kappa:.4f}\")\n",
    "        clear_output(wait=True)\n",
    "\n",
    "    print(f\"Mean Train QWK --> {np.mean(train_S):.4f}\")\n",
    "    print(f\"Mean Validation QWK ---> {np.mean(test_S):.4f}\")\n",
    "\n",
    "    KappaOPtimizer = minimize(evaluate_predictions,\n",
    "                              x0=[0.5, 1.5, 2.5], args=(y, oof_non_rounded), \n",
    "                              method='Nelder-Mead') # Nelder-Mead | # Powell\n",
    "    assert KappaOPtimizer.success, \"Optimization did not converge.\"\n",
    "    \n",
    "    oof_tuned = threshold_Rounder(oof_non_rounded, KappaOPtimizer.x)\n",
    "    tKappa = quadratic_weighted_kappa(y, oof_tuned)\n",
    "\n",
    "    print(f\"----> || Optimized QWK SCORE :: {Fore.CYAN}{Style.BRIGHT} {tKappa:.3f}{Style.RESET_ALL}\")\n",
    "\n",
    "    tpm = test_preds.mean(axis=1)\n",
    "    tpTuned = threshold_Rounder(tpm, KappaOPtimizer.x)\n",
    "    \n",
    "    submission = pd.DataFrame({\n",
    "        'id': sample['id'],\n",
    "        'sii': tpTuned\n",
    "    })\n",
    "\n",
    "    return submission,model"
   ]
  },
  {
   "cell_type": "code",
   "execution_count": 4,
   "id": "36410f07",
   "metadata": {
    "execution": {
     "iopub.execute_input": "2024-12-19T22:31:13.242435Z",
     "iopub.status.busy": "2024-12-19T22:31:13.242036Z",
     "iopub.status.idle": "2024-12-19T22:31:13.248058Z",
     "shell.execute_reply": "2024-12-19T22:31:13.247030Z"
    },
    "papermill": {
     "duration": 0.030674,
     "end_time": "2024-12-19T22:31:13.250004",
     "exception": false,
     "start_time": "2024-12-19T22:31:13.219330",
     "status": "completed"
    },
    "tags": []
   },
   "outputs": [],
   "source": [
    "params3 = {'lambda_l1': 2.9209409268664883,\n",
    " 'lambda_l2': 0.00012976118112242174,\n",
    " 'num_leaves': 202,\n",
    " 'feature_fraction': 0.8038056112369449,\n",
    " 'bagging_fraction': 0.6991108077097957,\n",
    " 'bagging_freq': 3,\n",
    " \"learning_rate\": 0.05,\n",
    " 'min_child_samples': 85}\n",
    "catboost_params = {'iterations': 600,\n",
    " 'learning_rate': 0.08253310959576234,\n",
    " 'depth': 5,\n",
    " 'subsample': 0.7001638224003233,\n",
    " 'colsample_bylevel': 0.5344688428614438,\n",
    " 'min_data_in_leaf': 17}\n",
    "XGB_Params = {'lambda_l1': 2.1557498004513445e-07,\n",
    " 'lambda_l2': 0.01696561445185348,\n",
    " 'num_leaves': 2,\n",
    " 'feature_fraction': 0.522014692739495,\n",
    " 'bagging_fraction': 0.4732385180866612,\n",
    " 'bagging_freq': 5,\n",
    " 'min_child_samples': 84,\n",
    " 'learning_rate': 0.055}"
   ]
  },
  {
   "cell_type": "code",
   "execution_count": 5,
   "id": "53394571",
   "metadata": {
    "execution": {
     "iopub.execute_input": "2024-12-19T22:31:13.295132Z",
     "iopub.status.busy": "2024-12-19T22:31:13.294757Z",
     "iopub.status.idle": "2024-12-19T22:31:13.299311Z",
     "shell.execute_reply": "2024-12-19T22:31:13.298329Z"
    },
    "papermill": {
     "duration": 0.029657,
     "end_time": "2024-12-19T22:31:13.301243",
     "exception": false,
     "start_time": "2024-12-19T22:31:13.271586",
     "status": "completed"
    },
    "tags": []
   },
   "outputs": [],
   "source": [
    "from sklearn.impute import SimpleImputer\n",
    "\n",
    "imputer = SimpleImputer(strategy='median')\n"
   ]
  },
  {
   "cell_type": "code",
   "execution_count": 6,
   "id": "97d7f180",
   "metadata": {
    "execution": {
     "iopub.execute_input": "2024-12-19T22:31:13.345904Z",
     "iopub.status.busy": "2024-12-19T22:31:13.345501Z",
     "iopub.status.idle": "2024-12-19T22:31:13.355610Z",
     "shell.execute_reply": "2024-12-19T22:31:13.354607Z"
    },
    "papermill": {
     "duration": 0.035052,
     "end_time": "2024-12-19T22:31:13.357838",
     "exception": false,
     "start_time": "2024-12-19T22:31:13.322786",
     "status": "completed"
    },
    "tags": []
   },
   "outputs": [],
   "source": [
    "ensemble = VotingRegressor(estimators=[\n",
    "    ('lgb', Pipeline(steps=[('imputer', imputer), ('regressor', lgb.LGBMRegressor(**params3,random_state=SEED, verbose=-1,n_estimators=30))])),\n",
    "    ('xgb', Pipeline(steps=[('imputer', imputer), ('regressor', XGBRegressor(**XGB_Params, random_state=SEED))])),\n",
    "    ('cat', Pipeline(steps=[('imputer', imputer), ('regressor', CatBoostRegressor(**catboost_params, random_state=SEED, silent=True))])),\n",
    "    ('rf', Pipeline(steps=[('imputer', imputer), ('regressor', RandomForestRegressor(random_state=SEED))])),\n",
    "    ('gb', Pipeline(steps=[('imputer', imputer), ('regressor', GradientBoostingRegressor(random_state=SEED))]))\n",
    "])"
   ]
  },
  {
   "cell_type": "code",
   "execution_count": 7,
   "id": "66a7ec36",
   "metadata": {
    "execution": {
     "iopub.execute_input": "2024-12-19T22:31:13.402552Z",
     "iopub.status.busy": "2024-12-19T22:31:13.402142Z",
     "iopub.status.idle": "2024-12-19T22:32:47.337447Z",
     "shell.execute_reply": "2024-12-19T22:32:47.336150Z"
    },
    "papermill": {
     "duration": 93.960351,
     "end_time": "2024-12-19T22:32:47.339719",
     "exception": false,
     "start_time": "2024-12-19T22:31:13.379368",
     "status": "completed"
    },
    "tags": []
   },
   "outputs": [
    {
     "name": "stderr",
     "output_type": "stream",
     "text": [
      "Training Folds: 100%|██████████| 5/5 [01:33<00:00, 18.72s/it]"
     ]
    },
    {
     "name": "stdout",
     "output_type": "stream",
     "text": [
      "Mean Train QWK --> 0.7481\n",
      "Mean Validation QWK ---> 0.3605\n"
     ]
    },
    {
     "name": "stderr",
     "output_type": "stream",
     "text": [
      "\n"
     ]
    },
    {
     "name": "stdout",
     "output_type": "stream",
     "text": [
      "----> || Optimized QWK SCORE :: \u001b[36m\u001b[1m 0.464\u001b[0m\n"
     ]
    }
   ],
   "source": [
    "Submission1,model1 = TrainML(ensemble,test)\n",
    "#Mean Train QWK --> 0.5349\n",
    "#Mean Validation QWK ---> 0.3742\n",
    "\n",
    "#----> || Optimized QWK SCORE ::  0.465"
   ]
  },
  {
   "cell_type": "code",
   "execution_count": 8,
   "id": "cc341fa6",
   "metadata": {
    "execution": {
     "iopub.execute_input": "2024-12-19T22:32:47.386500Z",
     "iopub.status.busy": "2024-12-19T22:32:47.385520Z",
     "iopub.status.idle": "2024-12-19T22:32:47.391920Z",
     "shell.execute_reply": "2024-12-19T22:32:47.390848Z"
    },
    "papermill": {
     "duration": 0.032268,
     "end_time": "2024-12-19T22:32:47.393954",
     "exception": false,
     "start_time": "2024-12-19T22:32:47.361686",
     "status": "completed"
    },
    "tags": []
   },
   "outputs": [],
   "source": [
    "Light = lgb.LGBMRegressor(**params3,random_state=SEED, verbose=-1,n_estimators=300)\n",
    "Catboost_model = CatBoostRegressor(**catboost_params)\n",
    "XGB_Model = XGBRegressor(**XGB_Params)\n",
    "voting_model = VotingRegressor(estimators=[\n",
    "    ('lightgbm', Light),\n",
    "    ('xgboost', XGB_Model),\n",
    "    ('catboost', Catboost_model)\n",
    "])"
   ]
  },
  {
   "cell_type": "code",
   "execution_count": 9,
   "id": "69e7d1a7",
   "metadata": {
    "execution": {
     "iopub.execute_input": "2024-12-19T22:32:47.439180Z",
     "iopub.status.busy": "2024-12-19T22:32:47.438799Z",
     "iopub.status.idle": "2024-12-19T22:33:27.311985Z",
     "shell.execute_reply": "2024-12-19T22:33:27.310841Z"
    },
    "papermill": {
     "duration": 39.898326,
     "end_time": "2024-12-19T22:33:27.314222",
     "exception": false,
     "start_time": "2024-12-19T22:32:47.415896",
     "status": "completed"
    },
    "tags": []
   },
   "outputs": [
    {
     "name": "stderr",
     "output_type": "stream",
     "text": [
      "Training Folds: 100%|██████████| 5/5 [00:39<00:00,  7.92s/it]"
     ]
    },
    {
     "name": "stdout",
     "output_type": "stream",
     "text": [
      "Mean Train QWK --> 0.7955\n",
      "Mean Validation QWK ---> 0.3708\n"
     ]
    },
    {
     "name": "stderr",
     "output_type": "stream",
     "text": [
      "\n"
     ]
    },
    {
     "name": "stdout",
     "output_type": "stream",
     "text": [
      "----> || Optimized QWK SCORE :: \u001b[36m\u001b[1m 0.457\u001b[0m\n"
     ]
    }
   ],
   "source": [
    "Submission2,model2 = TrainML(voting_model,test)"
   ]
  },
  {
   "cell_type": "code",
   "execution_count": 10,
   "id": "9ae1be8e",
   "metadata": {
    "execution": {
     "iopub.execute_input": "2024-12-19T22:33:27.361071Z",
     "iopub.status.busy": "2024-12-19T22:33:27.360324Z",
     "iopub.status.idle": "2024-12-19T22:33:27.366510Z",
     "shell.execute_reply": "2024-12-19T22:33:27.365423Z"
    },
    "papermill": {
     "duration": 0.031656,
     "end_time": "2024-12-19T22:33:27.368582",
     "exception": false,
     "start_time": "2024-12-19T22:33:27.336926",
     "status": "completed"
    },
    "tags": []
   },
   "outputs": [],
   "source": [
    "params3 = {'lambda_l1': 2.9209409268664883,\n",
    " 'lambda_l2': 0.00012976118112242174,\n",
    " 'num_leaves': 202,\n",
    " 'feature_fraction': 0.8038056112369449,\n",
    " 'bagging_fraction': 0.6991108077097957,\n",
    " 'bagging_freq': 3,\n",
    " \"learning_rate\": 0.05,\n",
    " 'min_child_samples': 85}\n",
    "catboost_params = {'learning_rate': 0.019252771685694288,\n",
    " 'depth': 7,\n",
    " 'subsample': 0.40628186539007644,\n",
    " 'colsample_bylevel': 0.6904206855559013,\n",
    " 'min_data_in_leaf': 38}\n",
    "XGB_Params = {'lambda_l1': 0.1543921843752799,\n",
    " 'lambda_l2': 0.000281461450194636,\n",
    " 'num_leaves': 2,\n",
    " 'feature_fraction': 0.6799895242815174,\n",
    " 'bagging_fraction': 0.5050148144157642,\n",
    " 'bagging_freq': 1,\n",
    " 'min_child_samples': 84}"
   ]
  },
  {
   "cell_type": "code",
   "execution_count": 11,
   "id": "fb0be621",
   "metadata": {
    "execution": {
     "iopub.execute_input": "2024-12-19T22:33:27.415407Z",
     "iopub.status.busy": "2024-12-19T22:33:27.414419Z",
     "iopub.status.idle": "2024-12-19T22:33:27.420443Z",
     "shell.execute_reply": "2024-12-19T22:33:27.419333Z"
    },
    "papermill": {
     "duration": 0.031682,
     "end_time": "2024-12-19T22:33:27.422542",
     "exception": false,
     "start_time": "2024-12-19T22:33:27.390860",
     "status": "completed"
    },
    "tags": []
   },
   "outputs": [],
   "source": [
    "Light = lgb.LGBMRegressor(**params3,random_state=SEED, verbose=-1,n_estimators=300)\n",
    "Catboost_model = CatBoostRegressor(**catboost_params)\n",
    "XGB_Model = XGBRegressor(**XGB_Params)\n",
    "voting_model = VotingRegressor(estimators=[\n",
    "    ('lightgbm', Light),\n",
    "    ('xgboost', XGB_Model),\n",
    "    ('catboost', Catboost_model)\n",
    "])"
   ]
  },
  {
   "cell_type": "code",
   "execution_count": 12,
   "id": "b92e4f16",
   "metadata": {
    "execution": {
     "iopub.execute_input": "2024-12-19T22:33:27.469336Z",
     "iopub.status.busy": "2024-12-19T22:33:27.468347Z",
     "iopub.status.idle": "2024-12-19T22:36:57.676097Z",
     "shell.execute_reply": "2024-12-19T22:36:57.674308Z"
    },
    "papermill": {
     "duration": 210.233968,
     "end_time": "2024-12-19T22:36:57.679055",
     "exception": false,
     "start_time": "2024-12-19T22:33:27.445087",
     "status": "completed"
    },
    "tags": []
   },
   "outputs": [
    {
     "name": "stderr",
     "output_type": "stream",
     "text": [
      "Training Folds: 100%|██████████| 5/5 [03:29<00:00, 41.98s/it]"
     ]
    },
    {
     "name": "stdout",
     "output_type": "stream",
     "text": [
      "Mean Train QWK --> 0.8784\n",
      "Mean Validation QWK ---> 0.3686\n"
     ]
    },
    {
     "name": "stderr",
     "output_type": "stream",
     "text": [
      "\n"
     ]
    },
    {
     "name": "stdout",
     "output_type": "stream",
     "text": [
      "----> || Optimized QWK SCORE :: \u001b[36m\u001b[1m 0.445\u001b[0m\n"
     ]
    }
   ],
   "source": [
    "Submission3,model3 = TrainML(voting_model,test)"
   ]
  },
  {
   "cell_type": "code",
   "execution_count": 13,
   "id": "44fddb7c",
   "metadata": {
    "execution": {
     "iopub.execute_input": "2024-12-19T22:36:57.728719Z",
     "iopub.status.busy": "2024-12-19T22:36:57.728231Z",
     "iopub.status.idle": "2024-12-19T22:36:57.759436Z",
     "shell.execute_reply": "2024-12-19T22:36:57.758332Z"
    },
    "papermill": {
     "duration": 0.058104,
     "end_time": "2024-12-19T22:36:57.761680",
     "exception": false,
     "start_time": "2024-12-19T22:36:57.703576",
     "status": "completed"
    },
    "tags": []
   },
   "outputs": [],
   "source": [
    "sub1 = Submission1\n",
    "sub2 = Submission2\n",
    "sub3 = Submission3\n",
    "\n",
    "sub1 = sub1.sort_values(by='id').reset_index(drop=True)\n",
    "sub2 = sub2.sort_values(by='id').reset_index(drop=True)\n",
    "sub3 = sub3.sort_values(by='id').reset_index(drop=True)\n",
    "\n",
    "combined = pd.DataFrame({\n",
    "    'id': sub1['id'],\n",
    "    'sii_1': sub1['sii'],\n",
    "    'sii_2': sub2['sii'],\n",
    "    'sii_3': sub3['sii']\n",
    "})\n",
    "\n",
    "def majority_vote(row):\n",
    "    return row.mode()[0]\n",
    "\n",
    "combined['final_sii'] = combined[['sii_1', 'sii_2', 'sii_3']].apply(majority_vote, axis=1)\n",
    "\n",
    "final_submission = combined[['id', 'final_sii']].rename(columns={'final_sii': 'sii'})\n",
    "\n",
    "final_submission.to_csv('submission.csv', index=False)\n",
    "\n"
   ]
  }
 ],
 "metadata": {
  "kaggle": {
   "accelerator": "none",
   "dataSources": [
    {
     "databundleVersionId": 9643020,
     "sourceId": 81933,
     "sourceType": "competition"
    }
   ],
   "dockerImageVersionId": 30804,
   "isGpuEnabled": false,
   "isInternetEnabled": false,
   "language": "python",
   "sourceType": "notebook"
  },
  "kernelspec": {
   "display_name": "Python 3",
   "language": "python",
   "name": "python3"
  },
  "language_info": {
   "codemirror_mode": {
    "name": "ipython",
    "version": 3
   },
   "file_extension": ".py",
   "mimetype": "text/x-python",
   "name": "python",
   "nbconvert_exporter": "python",
   "pygments_lexer": "ipython3",
   "version": "3.10.14"
  },
  "papermill": {
   "default_parameters": {},
   "duration": 437.260164,
   "end_time": "2024-12-19T22:36:59.411037",
   "environment_variables": {},
   "exception": null,
   "input_path": "__notebook__.ipynb",
   "output_path": "__notebook__.ipynb",
   "parameters": {},
   "start_time": "2024-12-19T22:29:42.150873",
   "version": "2.6.0"
  }
 },
 "nbformat": 4,
 "nbformat_minor": 5
}
