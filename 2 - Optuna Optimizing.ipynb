{
 "cells": [
  {
   "cell_type": "code",
   "execution_count": 1,
   "id": "1baec872",
   "metadata": {
    "_cell_guid": "b1076dfc-b9ad-4769-8c92-a6c4dae69d19",
    "_uuid": "8f2839f25d086af736a60e9eeb907d3b93b6e0e5",
    "execution": {
     "iopub.execute_input": "2024-12-17T19:36:44.147998Z",
     "iopub.status.busy": "2024-12-17T19:36:44.147642Z",
     "iopub.status.idle": "2024-12-17T19:36:55.584551Z",
     "shell.execute_reply": "2024-12-17T19:36:55.583424Z"
    },
    "papermill": {
     "duration": 11.44527,
     "end_time": "2024-12-17T19:36:55.587084",
     "exception": false,
     "start_time": "2024-12-17T19:36:44.141814",
     "status": "completed"
    },
    "tags": []
   },
   "outputs": [
    {
     "name": "stdout",
     "output_type": "stream",
     "text": [
      "Collecting optuna-integration\r\n",
      "  Downloading optuna_integration-4.1.0-py3-none-any.whl.metadata (12 kB)\r\n",
      "Requirement already satisfied: optuna in /opt/conda/lib/python3.10/site-packages (from optuna-integration) (4.1.0)\r\n",
      "Requirement already satisfied: alembic>=1.5.0 in /opt/conda/lib/python3.10/site-packages (from optuna->optuna-integration) (1.14.0)\r\n",
      "Requirement already satisfied: colorlog in /opt/conda/lib/python3.10/site-packages (from optuna->optuna-integration) (6.9.0)\r\n",
      "Requirement already satisfied: numpy in /opt/conda/lib/python3.10/site-packages (from optuna->optuna-integration) (1.26.4)\r\n",
      "Requirement already satisfied: packaging>=20.0 in /opt/conda/lib/python3.10/site-packages (from optuna->optuna-integration) (21.3)\r\n",
      "Requirement already satisfied: sqlalchemy>=1.4.2 in /opt/conda/lib/python3.10/site-packages (from optuna->optuna-integration) (2.0.30)\r\n",
      "Requirement already satisfied: tqdm in /opt/conda/lib/python3.10/site-packages (from optuna->optuna-integration) (4.66.4)\r\n",
      "Requirement already satisfied: PyYAML in /opt/conda/lib/python3.10/site-packages (from optuna->optuna-integration) (6.0.2)\r\n",
      "Requirement already satisfied: Mako in /opt/conda/lib/python3.10/site-packages (from alembic>=1.5.0->optuna->optuna-integration) (1.3.6)\r\n",
      "Requirement already satisfied: typing-extensions>=4 in /opt/conda/lib/python3.10/site-packages (from alembic>=1.5.0->optuna->optuna-integration) (4.12.2)\r\n",
      "Requirement already satisfied: pyparsing!=3.0.5,>=2.0.2 in /opt/conda/lib/python3.10/site-packages (from packaging>=20.0->optuna->optuna-integration) (3.1.2)\r\n",
      "Requirement already satisfied: greenlet!=0.4.17 in /opt/conda/lib/python3.10/site-packages (from sqlalchemy>=1.4.2->optuna->optuna-integration) (3.0.3)\r\n",
      "Requirement already satisfied: MarkupSafe>=0.9.2 in /opt/conda/lib/python3.10/site-packages (from Mako->alembic>=1.5.0->optuna->optuna-integration) (2.1.5)\r\n",
      "Downloading optuna_integration-4.1.0-py3-none-any.whl (97 kB)\r\n",
      "\u001b[2K   \u001b[90m━━━━━━━━━━━━━━━━━━━━━━━━━━━━━━━━━━━━━━━━\u001b[0m \u001b[32m97.4/97.4 kB\u001b[0m \u001b[31m2.9 MB/s\u001b[0m eta \u001b[36m0:00:00\u001b[0m\r\n",
      "\u001b[?25hInstalling collected packages: optuna-integration\r\n",
      "Successfully installed optuna-integration-4.1.0\r\n"
     ]
    }
   ],
   "source": [
    "!pip install optuna-integration"
   ]
  },
  {
   "cell_type": "code",
   "execution_count": 2,
   "id": "223456dc",
   "metadata": {
    "execution": {
     "iopub.execute_input": "2024-12-17T19:36:55.598501Z",
     "iopub.status.busy": "2024-12-17T19:36:55.598126Z",
     "iopub.status.idle": "2024-12-17T19:36:59.119375Z",
     "shell.execute_reply": "2024-12-17T19:36:59.118497Z"
    },
    "papermill": {
     "duration": 3.529611,
     "end_time": "2024-12-17T19:36:59.121608",
     "exception": false,
     "start_time": "2024-12-17T19:36:55.591997",
     "status": "completed"
    },
    "tags": []
   },
   "outputs": [],
   "source": [
    "import numpy as np\n",
    "import optuna\n",
    "import pandas as pd\n",
    "import optuna.integration.lightgbm as lgbo\n",
    "import sklearn.datasets\n",
    "import sklearn.metrics\n",
    "from sklearn.model_selection import train_test_split, GridSearchCV\n",
    "import lightgbm as lgb\n",
    "from sklearn.metrics import mean_squared_error, r2_score\n",
    "from sklearn.impute import SimpleImputer, KNNImputer"
   ]
  },
  {
   "cell_type": "code",
   "execution_count": 3,
   "id": "f57d7b06",
   "metadata": {
    "execution": {
     "iopub.execute_input": "2024-12-17T19:36:59.132754Z",
     "iopub.status.busy": "2024-12-17T19:36:59.131680Z",
     "iopub.status.idle": "2024-12-17T19:36:59.239279Z",
     "shell.execute_reply": "2024-12-17T19:36:59.238474Z"
    },
    "papermill": {
     "duration": 0.115371,
     "end_time": "2024-12-17T19:36:59.241579",
     "exception": false,
     "start_time": "2024-12-17T19:36:59.126208",
     "status": "completed"
    },
    "tags": []
   },
   "outputs": [],
   "source": [
    "train = pd.read_csv(\"/kaggle/input/child-mind/train.csv\")\n",
    "target_col='sii'\n",
    "X = train.drop([target_col], axis=1)\n",
    "y = train[target_col]\n"
   ]
  },
  {
   "cell_type": "code",
   "execution_count": 4,
   "id": "e761b444",
   "metadata": {
    "execution": {
     "iopub.execute_input": "2024-12-17T19:36:59.252142Z",
     "iopub.status.busy": "2024-12-17T19:36:59.251333Z",
     "iopub.status.idle": "2024-12-17T19:37:05.393428Z",
     "shell.execute_reply": "2024-12-17T19:37:05.392412Z"
    },
    "papermill": {
     "duration": 6.149574,
     "end_time": "2024-12-17T19:37:05.395719",
     "exception": false,
     "start_time": "2024-12-17T19:36:59.246145",
     "status": "completed"
    },
    "tags": []
   },
   "outputs": [],
   "source": [
    "imputer = KNNImputer(n_neighbors=5)\n",
    "X_imputer = imputer.fit_transform(X)\n",
    "X = pd.DataFrame(X_imputer, columns=X.columns)"
   ]
  },
  {
   "cell_type": "code",
   "execution_count": 5,
   "id": "6c81af95",
   "metadata": {
    "execution": {
     "iopub.execute_input": "2024-12-17T19:37:05.406314Z",
     "iopub.status.busy": "2024-12-17T19:37:05.405954Z",
     "iopub.status.idle": "2024-12-17T19:37:05.416133Z",
     "shell.execute_reply": "2024-12-17T19:37:05.415240Z"
    },
    "papermill": {
     "duration": 0.017731,
     "end_time": "2024-12-17T19:37:05.418163",
     "exception": false,
     "start_time": "2024-12-17T19:37:05.400432",
     "status": "completed"
    },
    "tags": []
   },
   "outputs": [],
   "source": [
    "X_train, X_val, y_train, y_val = train_test_split(X, y, test_size=0.2, random_state=42)"
   ]
  },
  {
   "cell_type": "code",
   "execution_count": 6,
   "id": "6f1db88a",
   "metadata": {
    "execution": {
     "iopub.execute_input": "2024-12-17T19:37:05.429894Z",
     "iopub.status.busy": "2024-12-17T19:37:05.429556Z",
     "iopub.status.idle": "2024-12-17T19:37:05.438633Z",
     "shell.execute_reply": "2024-12-17T19:37:05.437654Z"
    },
    "papermill": {
     "duration": 0.016461,
     "end_time": "2024-12-17T19:37:05.440549",
     "exception": false,
     "start_time": "2024-12-17T19:37:05.424088",
     "status": "completed"
    },
    "tags": []
   },
   "outputs": [
    {
     "data": {
      "text/plain": [
       "247     1.0\n",
       "2488    0.0\n",
       "2318    0.0\n",
       "347     2.0\n",
       "1090    2.0\n",
       "       ... \n",
       "1638    0.0\n",
       "1095    0.0\n",
       "1130    0.0\n",
       "1294    0.0\n",
       "860     1.0\n",
       "Name: sii, Length: 2188, dtype: float64"
      ]
     },
     "execution_count": 6,
     "metadata": {},
     "output_type": "execute_result"
    }
   ],
   "source": [
    "y_train"
   ]
  },
  {
   "cell_type": "code",
   "execution_count": 7,
   "id": "d34cb455",
   "metadata": {
    "execution": {
     "iopub.execute_input": "2024-12-17T19:37:05.451270Z",
     "iopub.status.busy": "2024-12-17T19:37:05.450400Z",
     "iopub.status.idle": "2024-12-17T19:37:05.455151Z",
     "shell.execute_reply": "2024-12-17T19:37:05.454279Z"
    },
    "papermill": {
     "duration": 0.012082,
     "end_time": "2024-12-17T19:37:05.457048",
     "exception": false,
     "start_time": "2024-12-17T19:37:05.444966",
     "status": "completed"
    },
    "tags": []
   },
   "outputs": [],
   "source": [
    "params2 = {'learning_rate': 0.057885574535498495,\n",
    " 'lambda_l1': 2.08185822086368e-05,\n",
    " 'lambda_l2': 4.538468316534467,\n",
    " 'num_leaves': 209,\n",
    " 'feature_fraction': 0.930147922801105,\n",
    " 'bagging_fraction': 0.6831325500550711,\n",
    " 'bagging_freq': 1,\n",
    " 'min_child_samples': 37}\n"
   ]
  },
  {
   "cell_type": "code",
   "execution_count": 8,
   "id": "63712f00",
   "metadata": {
    "execution": {
     "iopub.execute_input": "2024-12-17T19:37:05.468614Z",
     "iopub.status.busy": "2024-12-17T19:37:05.468297Z",
     "iopub.status.idle": "2024-12-17T19:51:42.665416Z",
     "shell.execute_reply": "2024-12-17T19:51:42.664174Z"
    },
    "papermill": {
     "duration": 877.20657,
     "end_time": "2024-12-17T19:51:42.668198",
     "exception": false,
     "start_time": "2024-12-17T19:37:05.461628",
     "status": "completed"
    },
    "tags": []
   },
   "outputs": [
    {
     "name": "stderr",
     "output_type": "stream",
     "text": [
      "[I 2024-12-17 19:37:05,475] A new study created in memory with name: no-name-1b62d235-59a4-4d83-b2dc-434b9831c331\n",
      "[I 2024-12-17 19:37:31,478] Trial 0 finished with value: 0.3066801619433198 and parameters: {'lambda_l1': 0.6401706809181154, 'lambda_l2': 5.672425248257563e-05, 'num_leaves': 33, 'feature_fraction': 0.7586564901564246, 'bagging_fraction': 0.43894620863816314, 'bagging_freq': 3, 'min_child_samples': 17, 'learning_rate': 0.03384580966107191}. Best is trial 0 with value: 0.3066801619433198.\n",
      "[I 2024-12-17 19:38:27,477] Trial 1 finished with value: 0.3244205796942634 and parameters: {'lambda_l1': 5.344642525008196e-05, 'lambda_l2': 0.02173946046387079, 'num_leaves': 240, 'feature_fraction': 0.8206919437562326, 'bagging_fraction': 0.9520211377133625, 'bagging_freq': 4, 'min_child_samples': 25, 'learning_rate': 0.010363032468271678}. Best is trial 1 with value: 0.3244205796942634.\n",
      "[I 2024-12-17 19:39:15,288] Trial 2 finished with value: 0.29238251815317173 and parameters: {'lambda_l1': 5.58526937632448e-05, 'lambda_l2': 0.016949245579673547, 'num_leaves': 252, 'feature_fraction': 0.9403179495580397, 'bagging_fraction': 0.6145574238101897, 'bagging_freq': 6, 'min_child_samples': 18, 'learning_rate': 0.01734892353149343}. Best is trial 1 with value: 0.3244205796942634.\n",
      "[I 2024-12-17 19:39:32,068] Trial 3 finished with value: 0.29661523416277313 and parameters: {'lambda_l1': 4.785479802394865e-07, 'lambda_l2': 2.5575225202009534e-07, 'num_leaves': 128, 'feature_fraction': 0.9869448694894087, 'bagging_fraction': 0.4071841323026141, 'bagging_freq': 1, 'min_child_samples': 50, 'learning_rate': 0.02141507871396996}. Best is trial 1 with value: 0.3244205796942634.\n",
      "[I 2024-12-17 19:39:41,824] Trial 4 finished with value: 0.31747346129829224 and parameters: {'lambda_l1': 7.656130339910155e-08, 'lambda_l2': 5.75002703352457e-05, 'num_leaves': 167, 'feature_fraction': 0.5960357747260622, 'bagging_fraction': 0.43205556913018517, 'bagging_freq': 5, 'min_child_samples': 75, 'learning_rate': 0.0200408152697769}. Best is trial 1 with value: 0.3244205796942634.\n",
      "[I 2024-12-17 19:40:39,054] Trial 5 finished with value: 0.3083388837085388 and parameters: {'lambda_l1': 0.20669554816587443, 'lambda_l2': 1.282259449628593e-06, 'num_leaves': 135, 'feature_fraction': 0.9936659115652426, 'bagging_fraction': 0.7889847241535513, 'bagging_freq': 5, 'min_child_samples': 5, 'learning_rate': 0.017719070452038195}. Best is trial 1 with value: 0.3244205796942634.\n",
      "[I 2024-12-17 19:40:56,569] Trial 6 finished with value: 0.29540340726454517 and parameters: {'lambda_l1': 0.0002131718815397703, 'lambda_l2': 0.4777953955730873, 'num_leaves': 135, 'feature_fraction': 0.7085578354124722, 'bagging_fraction': 0.5439960042701607, 'bagging_freq': 6, 'min_child_samples': 44, 'learning_rate': 0.03129806997002969}. Best is trial 1 with value: 0.3244205796942634.\n",
      "[I 2024-12-17 19:41:02,479] Trial 7 finished with value: 0.3361037414045157 and parameters: {'lambda_l1': 7.494787190578102, 'lambda_l2': 0.025719745807468396, 'num_leaves': 33, 'feature_fraction': 0.5538268259217327, 'bagging_fraction': 0.9497959091279128, 'bagging_freq': 7, 'min_child_samples': 34, 'learning_rate': 0.05718197164398895}. Best is trial 7 with value: 0.3361037414045157.\n",
      "[I 2024-12-17 19:41:46,872] Trial 8 finished with value: 0.32215399797154676 and parameters: {'lambda_l1': 7.123381045978118e-06, 'lambda_l2': 0.011243255633470747, 'num_leaves': 86, 'feature_fraction': 0.5714116101986193, 'bagging_fraction': 0.9814007490287897, 'bagging_freq': 1, 'min_child_samples': 31, 'learning_rate': 0.011632780082455527}. Best is trial 7 with value: 0.3361037414045157.\n",
      "[I 2024-12-17 19:42:05,292] Trial 9 finished with value: 0.3001747546713268 and parameters: {'lambda_l1': 0.00015136088941237422, 'lambda_l2': 2.3700912966616597e-07, 'num_leaves': 242, 'feature_fraction': 0.8665170467992794, 'bagging_fraction': 0.7753666935619968, 'bagging_freq': 5, 'min_child_samples': 77, 'learning_rate': 0.03343829493430599}. Best is trial 7 with value: 0.3361037414045157.\n",
      "[I 2024-12-17 19:42:18,263] Trial 10 finished with value: 0.3340380265000539 and parameters: {'lambda_l1': 0.01851696397989843, 'lambda_l2': 5.485391562116103, 'num_leaves': 16, 'feature_fraction': 0.4092838511100119, 'bagging_fraction': 0.8588138016140272, 'bagging_freq': 7, 'min_child_samples': 98, 'learning_rate': 0.0861875630083168}. Best is trial 7 with value: 0.3361037414045157.\n",
      "[I 2024-12-17 19:42:23,688] Trial 11 finished with value: 0.33347233805949394 and parameters: {'lambda_l1': 0.014735515949056758, 'lambda_l2': 3.7216128441780016, 'num_leaves': 4, 'feature_fraction': 0.4040063064234549, 'bagging_fraction': 0.8834084612421733, 'bagging_freq': 7, 'min_child_samples': 96, 'learning_rate': 0.09465102990008765}. Best is trial 7 with value: 0.3361037414045157.\n",
      "[I 2024-12-17 19:42:29,618] Trial 12 finished with value: 0.3531736558711971 and parameters: {'lambda_l1': 8.552012739025379, 'lambda_l2': 3.1996827632894553, 'num_leaves': 48, 'feature_fraction': 0.4062952256256415, 'bagging_fraction': 0.8324653879850773, 'bagging_freq': 7, 'min_child_samples': 66, 'learning_rate': 0.08448562283287943}. Best is trial 12 with value: 0.3531736558711971.\n",
      "[I 2024-12-17 19:42:35,743] Trial 13 finished with value: 0.3357641932998592 and parameters: {'lambda_l1': 9.832547072675682, 'lambda_l2': 0.13551427437072916, 'num_leaves': 67, 'feature_fraction': 0.518265846290806, 'bagging_fraction': 0.7337357169465814, 'bagging_freq': 7, 'min_child_samples': 68, 'learning_rate': 0.06279032492549953}. Best is trial 12 with value: 0.3531736558711971.\n",
      "[I 2024-12-17 19:42:44,823] Trial 14 finished with value: 0.389738830703964 and parameters: {'lambda_l1': 6.867958298215203, 'lambda_l2': 0.0010621982857393474, 'num_leaves': 55, 'feature_fraction': 0.5053798017764384, 'bagging_fraction': 0.8712517983148399, 'bagging_freq': 3, 'min_child_samples': 62, 'learning_rate': 0.060063227417318364}. Best is trial 14 with value: 0.389738830703964.\n",
      "[I 2024-12-17 19:42:59,127] Trial 15 finished with value: 0.2949134494621307 and parameters: {'lambda_l1': 0.01328239359809707, 'lambda_l2': 0.0004956038834360716, 'num_leaves': 71, 'feature_fraction': 0.4788592925600876, 'bagging_fraction': 0.659377000192864, 'bagging_freq': 3, 'min_child_samples': 63, 'learning_rate': 0.0523393456783274}. Best is trial 14 with value: 0.389738830703964.\n",
      "[I 2024-12-17 19:43:10,607] Trial 16 finished with value: 0.31821158228345425 and parameters: {'lambda_l1': 0.5390554732060864, 'lambda_l2': 0.0007899794250446939, 'num_leaves': 86, 'feature_fraction': 0.6307404937097177, 'bagging_fraction': 0.8508604384497643, 'bagging_freq': 2, 'min_child_samples': 84, 'learning_rate': 0.07674643099022818}. Best is trial 14 with value: 0.389738830703964.\n",
      "[I 2024-12-17 19:43:27,916] Trial 17 finished with value: 0.28571044639737697 and parameters: {'lambda_l1': 0.08257452091103047, 'lambda_l2': 1.8971159865137475e-08, 'num_leaves': 50, 'feature_fraction': 0.46925546902551973, 'bagging_fraction': 0.8096161597433074, 'bagging_freq': 3, 'min_child_samples': 60, 'learning_rate': 0.04954456814649694}. Best is trial 14 with value: 0.389738830703964.\n",
      "[I 2024-12-17 19:43:56,635] Trial 18 finished with value: 0.29251267315459895 and parameters: {'lambda_l1': 0.0025184518104851648, 'lambda_l2': 1.0684098497622449e-05, 'num_leaves': 103, 'feature_fraction': 0.679290334294211, 'bagging_fraction': 0.9051514710258585, 'bagging_freq': 4, 'min_child_samples': 45, 'learning_rate': 0.04106216534579657}. Best is trial 14 with value: 0.389738830703964.\n",
      "[I 2024-12-17 19:44:05,115] Trial 19 finished with value: 0.3225776356124217 and parameters: {'lambda_l1': 2.4493185522618477, 'lambda_l2': 0.6867780111745496, 'num_leaves': 160, 'feature_fraction': 0.4531084443250774, 'bagging_fraction': 0.6835623797054549, 'bagging_freq': 2, 'min_child_samples': 86, 'learning_rate': 0.0698716016522559}. Best is trial 14 with value: 0.389738830703964.\n",
      "[I 2024-12-17 19:44:25,020] Trial 20 finished with value: 0.30657855456346517 and parameters: {'lambda_l1': 0.0018181979742353065, 'lambda_l2': 0.0017566612016953662, 'num_leaves': 199, 'feature_fraction': 0.5144992981875977, 'bagging_fraction': 0.7365431161495803, 'bagging_freq': 4, 'min_child_samples': 57, 'learning_rate': 0.04286828210348212}. Best is trial 14 with value: 0.389738830703964.\n",
      "[I 2024-12-17 19:44:29,945] Trial 21 finished with value: 0.3585172990770228 and parameters: {'lambda_l1': 9.034028484743592, 'lambda_l2': 0.07171824891902226, 'num_leaves': 42, 'feature_fraction': 0.5585125545985057, 'bagging_fraction': 0.9333602745323645, 'bagging_freq': 6, 'min_child_samples': 40, 'learning_rate': 0.05789349454994218}. Best is trial 14 with value: 0.389738830703964.\n",
      "[I 2024-12-17 19:44:37,761] Trial 22 finished with value: 0.30326552462526757 and parameters: {'lambda_l1': 1.8499544434574717, 'lambda_l2': 0.23426753615274268, 'num_leaves': 41, 'feature_fraction': 0.6294225920246936, 'bagging_fraction': 0.9160433184849825, 'bagging_freq': 6, 'min_child_samples': 39, 'learning_rate': 0.09805276115819879}. Best is trial 14 with value: 0.389738830703964.\n",
      "[I 2024-12-17 19:44:51,910] Trial 23 finished with value: 0.3449125831739447 and parameters: {'lambda_l1': 0.10984439208131722, 'lambda_l2': 0.0023977375835195812, 'num_leaves': 64, 'feature_fraction': 0.515720920742214, 'bagging_fraction': 0.9995664126883388, 'bagging_freq': 6, 'min_child_samples': 51, 'learning_rate': 0.06725129549369466}. Best is trial 14 with value: 0.389738830703964.\n",
      "[I 2024-12-17 19:44:58,741] Trial 24 finished with value: 0.352114579110931 and parameters: {'lambda_l1': 9.570827414051298, 'lambda_l2': 1.2737665152934443, 'num_leaves': 107, 'feature_fraction': 0.4451181701409878, 'bagging_fraction': 0.8134987731843544, 'bagging_freq': 5, 'min_child_samples': 68, 'learning_rate': 0.0442311855574055}. Best is trial 14 with value: 0.389738830703964.\n",
      "[I 2024-12-17 19:45:09,088] Trial 25 finished with value: 0.332613130066026 and parameters: {'lambda_l1': 1.2103937035323937, 'lambda_l2': 0.09504341608031387, 'num_leaves': 17, 'feature_fraction': 0.5550603929925939, 'bagging_fraction': 0.8556709839444632, 'bagging_freq': 2, 'min_child_samples': 70, 'learning_rate': 0.07905800316349484}. Best is trial 14 with value: 0.389738830703964.\n",
      "[I 2024-12-17 19:45:29,010] Trial 26 finished with value: 0.32696304694037304 and parameters: {'lambda_l1': 0.12765966068853607, 'lambda_l2': 9.5420857846173, 'num_leaves': 54, 'feature_fraction': 0.4030951747790662, 'bagging_fraction': 0.9280048079586045, 'bagging_freq': 6, 'min_child_samples': 54, 'learning_rate': 0.027045450020146553}. Best is trial 14 with value: 0.389738830703964.\n",
      "[I 2024-12-17 19:45:38,714] Trial 27 finished with value: 0.3020404914161382 and parameters: {'lambda_l1': 1.9160582767781216, 'lambda_l2': 0.0031721188202379407, 'num_leaves': 83, 'feature_fraction': 0.49086604861674654, 'bagging_fraction': 0.7447310006983705, 'bagging_freq': 7, 'min_child_samples': 83, 'learning_rate': 0.05964788301810296}. Best is trial 14 with value: 0.389738830703964.\n",
      "[I 2024-12-17 19:45:52,451] Trial 28 finished with value: 0.3117427397039464 and parameters: {'lambda_l1': 0.3528793697813067, 'lambda_l2': 0.00012560017486365818, 'num_leaves': 24, 'feature_fraction': 0.6098079912101786, 'bagging_fraction': 0.8340369959125024, 'bagging_freq': 4, 'min_child_samples': 63, 'learning_rate': 0.07700969372917471}. Best is trial 14 with value: 0.389738830703964.\n",
      "[I 2024-12-17 19:46:16,997] Trial 29 finished with value: 0.30260180995475117 and parameters: {'lambda_l1': 0.043899182719600194, 'lambda_l2': 0.07027847605777367, 'num_leaves': 43, 'feature_fraction': 0.6790348071350305, 'bagging_fraction': 0.8942783105172815, 'bagging_freq': 3, 'min_child_samples': 42, 'learning_rate': 0.03848290174608997}. Best is trial 14 with value: 0.389738830703964.\n",
      "[I 2024-12-17 19:46:49,419] Trial 30 finished with value: 0.3382259008889126 and parameters: {'lambda_l1': 0.0024638610190295613, 'lambda_l2': 1.3650461706232417, 'num_leaves': 109, 'feature_fraction': 0.755489076153669, 'bagging_fraction': 0.970402317177729, 'bagging_freq': 5, 'min_child_samples': 34, 'learning_rate': 0.05086050785571504}. Best is trial 14 with value: 0.389738830703964.\n",
      "[I 2024-12-17 19:46:57,551] Trial 31 finished with value: 0.3549179008370895 and parameters: {'lambda_l1': 9.486641516107378, 'lambda_l2': 1.1055021237451852, 'num_leaves': 106, 'feature_fraction': 0.4489897295805108, 'bagging_fraction': 0.8105031157002025, 'bagging_freq': 5, 'min_child_samples': 72, 'learning_rate': 0.04518643033116166}. Best is trial 14 with value: 0.389738830703964.\n",
      "[I 2024-12-17 19:47:09,207] Trial 32 finished with value: 0.31520195116721605 and parameters: {'lambda_l1': 0.7190022830530843, 'lambda_l2': 2.187914044847034, 'num_leaves': 54, 'feature_fraction': 0.4382059680421485, 'bagging_fraction': 0.7841340799869915, 'bagging_freq': 6, 'min_child_samples': 75, 'learning_rate': 0.057010331681075985}. Best is trial 14 with value: 0.389738830703964.\n",
      "[I 2024-12-17 19:47:18,973] Trial 33 finished with value: 0.3335725677830941 and parameters: {'lambda_l1': 3.595944032884581, 'lambda_l2': 0.3472417444799098, 'num_leaves': 80, 'feature_fraction': 0.5363284992661623, 'bagging_fraction': 0.8794150997149667, 'bagging_freq': 6, 'min_child_samples': 48, 'learning_rate': 0.067815999065915}. Best is trial 14 with value: 0.389738830703964.\n",
      "[I 2024-12-17 19:47:26,728] Trial 34 finished with value: 0.33551244200759167 and parameters: {'lambda_l1': 0.6736074341762588, 'lambda_l2': 0.00854917109509082, 'num_leaves': 4, 'feature_fraction': 0.49209020595554315, 'bagging_fraction': 0.5702622466250437, 'bagging_freq': 5, 'min_child_samples': 17, 'learning_rate': 0.04746613853311672}. Best is trial 14 with value: 0.389738830703964.\n",
      "[I 2024-12-17 19:48:25,755] Trial 35 finished with value: 0.30804312903313646 and parameters: {'lambda_l1': 6.2778553214386586e-06, 'lambda_l2': 0.03941950358533082, 'num_leaves': 207, 'feature_fraction': 0.4332695910019591, 'bagging_fraction': 0.9423919445933926, 'bagging_freq': 4, 'min_child_samples': 26, 'learning_rate': 0.037109283438645446}. Best is trial 14 with value: 0.389738830703964.\n",
      "[I 2024-12-17 19:48:39,242] Trial 36 finished with value: 0.3568844916088194 and parameters: {'lambda_l1': 5.172323289951255, 'lambda_l2': 1.2706659662372044e-05, 'num_leaves': 121, 'feature_fraction': 0.5812918265184022, 'bagging_fraction': 0.8240975938628559, 'bagging_freq': 7, 'min_child_samples': 90, 'learning_rate': 0.0300175303037342}. Best is trial 14 with value: 0.389738830703964.\n",
      "[I 2024-12-17 19:48:48,763] Trial 37 finished with value: 0.3580773381768406 and parameters: {'lambda_l1': 2.2613871776193704, 'lambda_l2': 1.3568854556651341e-05, 'num_leaves': 123, 'feature_fraction': 0.5887854784436097, 'bagging_fraction': 0.47958115727424155, 'bagging_freq': 6, 'min_child_samples': 80, 'learning_rate': 0.026095538232356635}. Best is trial 14 with value: 0.389738830703964.\n",
      "[I 2024-12-17 19:48:57,892] Trial 38 finished with value: 0.32907183545119467 and parameters: {'lambda_l1': 0.3016779052473178, 'lambda_l2': 1.296172644452151e-05, 'num_leaves': 159, 'feature_fraction': 0.5973693513929552, 'bagging_fraction': 0.4494242614091702, 'bagging_freq': 6, 'min_child_samples': 89, 'learning_rate': 0.02285368057160858}. Best is trial 14 with value: 0.389738830703964.\n",
      "[I 2024-12-17 19:49:10,097] Trial 39 finished with value: 0.3153192811642238 and parameters: {'lambda_l1': 3.9627609240311036e-08, 'lambda_l2': 8.844169412818664e-06, 'num_leaves': 149, 'feature_fraction': 0.6576642740868238, 'bagging_fraction': 0.4807071931782746, 'bagging_freq': 7, 'min_child_samples': 93, 'learning_rate': 0.02807410045401287}. Best is trial 14 with value: 0.389738830703964.\n",
      "[I 2024-12-17 19:49:21,556] Trial 40 finished with value: 0.32378890174032326 and parameters: {'lambda_l1': 3.332485906156331, 'lambda_l2': 1.4421545758394529e-06, 'num_leaves': 186, 'feature_fraction': 0.7224931722159822, 'bagging_fraction': 0.6246139378037352, 'bagging_freq': 3, 'min_child_samples': 80, 'learning_rate': 0.015060893614927063}. Best is trial 14 with value: 0.389738830703964.\n",
      "[I 2024-12-17 19:49:31,898] Trial 41 finished with value: 0.35110386022156137 and parameters: {'lambda_l1': 2.966673621239769, 'lambda_l2': 4.6727002941313034e-05, 'num_leaves': 123, 'feature_fraction': 0.5728671144650351, 'bagging_fraction': 0.5395969090039533, 'bagging_freq': 5, 'min_child_samples': 72, 'learning_rate': 0.025047533565396837}. Best is trial 14 with value: 0.389738830703964.\n",
      "[I 2024-12-17 19:49:44,646] Trial 42 finished with value: 0.332114564290067 and parameters: {'lambda_l1': 1.196415153069043, 'lambda_l2': 0.00015469284776258726, 'num_leaves': 97, 'feature_fraction': 0.5802235653228743, 'bagging_fraction': 0.7087120141864998, 'bagging_freq': 6, 'min_child_samples': 90, 'learning_rate': 0.03170918247775348}. Best is trial 14 with value: 0.389738830703964.\n",
      "[I 2024-12-17 19:49:55,339] Trial 43 finished with value: 0.37243397910432086 and parameters: {'lambda_l1': 4.549833242949721, 'lambda_l2': 8.597916685983386e-07, 'num_leaves': 122, 'feature_fraction': 0.5422846075302283, 'bagging_fraction': 0.7549233767694106, 'bagging_freq': 5, 'min_child_samples': 78, 'learning_rate': 0.01961868834794668}. Best is trial 14 with value: 0.389738830703964.\n",
      "[I 2024-12-17 19:50:14,914] Trial 44 finished with value: 0.33162603383966693 and parameters: {'lambda_l1': 1.1927717083725854e-08, 'lambda_l2': 9.479629281213051e-07, 'num_leaves': 125, 'feature_fraction': 0.5411440214135627, 'bagging_fraction': 0.7856408854723653, 'bagging_freq': 7, 'min_child_samples': 79, 'learning_rate': 0.018741711465016048}. Best is trial 14 with value: 0.389738830703964.\n",
      "[I 2024-12-17 19:50:21,253] Trial 45 finished with value: 0.37387748556767164 and parameters: {'lambda_l1': 4.093612569211352, 'lambda_l2': 2.997533760610424e-07, 'num_leaves': 140, 'feature_fraction': 0.8302245319854832, 'bagging_fraction': 0.40222321639112496, 'bagging_freq': 6, 'min_child_samples': 100, 'learning_rate': 0.014895678563513442}. Best is trial 14 with value: 0.389738830703964.\n",
      "[I 2024-12-17 19:50:31,836] Trial 46 finished with value: 0.3513865043442068 and parameters: {'lambda_l1': 1.0204286632683672e-05, 'lambda_l2': 5.430389726659338e-08, 'num_leaves': 140, 'feature_fraction': 0.8200597190180144, 'bagging_fraction': 0.4719206759647111, 'bagging_freq': 5, 'min_child_samples': 95, 'learning_rate': 0.016030607808032542}. Best is trial 14 with value: 0.389738830703964.\n",
      "[I 2024-12-17 19:50:46,922] Trial 47 finished with value: 0.3503260225251926 and parameters: {'lambda_l1': 0.2514061062486869, 'lambda_l2': 2.623582389067977e-07, 'num_leaves': 142, 'feature_fraction': 0.918019620539704, 'bagging_fraction': 0.42169165683409915, 'bagging_freq': 6, 'min_child_samples': 56, 'learning_rate': 0.010851683106015579}. Best is trial 14 with value: 0.389738830703964.\n",
      "[I 2024-12-17 19:51:32,337] Trial 48 finished with value: 0.2831503321133251 and parameters: {'lambda_l1': 0.03242863747449941, 'lambda_l2': 3.1955864712038077e-06, 'num_leaves': 115, 'feature_fraction': 0.8475498441045378, 'bagging_fraction': 0.4012650677890491, 'bagging_freq': 5, 'min_child_samples': 10, 'learning_rate': 0.014352172489057912}. Best is trial 14 with value: 0.389738830703964.\n",
      "[I 2024-12-17 19:51:42,659] Trial 49 finished with value: 0.3418777826958628 and parameters: {'lambda_l1': 0.8924155632751712, 'lambda_l2': 7.917472745938548e-08, 'num_leaves': 176, 'feature_fraction': 0.785520099172035, 'bagging_fraction': 0.4960089748588614, 'bagging_freq': 6, 'min_child_samples': 100, 'learning_rate': 0.021083753778698304}. Best is trial 14 with value: 0.389738830703964.\n"
     ]
    },
    {
     "name": "stdout",
     "output_type": "stream",
     "text": [
      "Best Value: 0.389738830703964\n",
      "Best Params: {'lambda_l1': 6.867958298215203, 'lambda_l2': 0.0010621982857393474, 'num_leaves': 55, 'feature_fraction': 0.5053798017764384, 'bagging_fraction': 0.8712517983148399, 'bagging_freq': 3, 'min_child_samples': 62, 'learning_rate': 0.060063227417318364}\n"
     ]
    }
   ],
   "source": [
    "import optuna\n",
    "import lightgbm as lgb\n",
    "from sklearn.metrics import cohen_kappa_score, make_scorer\n",
    "\n",
    "def quadratic_weighted_kappa(y_true, y_pred):\n",
    "    return cohen_kappa_score(y_true, y_pred, weights='quadratic')\n",
    "\n",
    "qwk_scorer = make_scorer(quadratic_weighted_kappa, greater_is_better=True)\n",
    "\n",
    "def objective(trial):\n",
    "    # Suggest hyperparameters\n",
    "    param = {\n",
    "        \"objective\": \"multiclass\",\n",
    "        \"num_class\": 4,  # since sii has 4 classes\n",
    "        \"metric\": \"multi_logloss\",  # can optimize different metrics\n",
    "        \"verbosity\": -1,\n",
    "        \"boosting_type\": \"gbdt\",\n",
    "        \"lambda_l1\": trial.suggest_float(\"lambda_l1\", 1e-8, 10.0, log=True),\n",
    "        \"lambda_l2\": trial.suggest_float(\"lambda_l2\", 1e-8, 10.0, log=True),\n",
    "        \"num_leaves\": trial.suggest_int(\"num_leaves\", 2, 256),\n",
    "        \"feature_fraction\": trial.suggest_float(\"feature_fraction\", 0.4, 1.0),\n",
    "        \"bagging_fraction\": trial.suggest_float(\"bagging_fraction\", 0.4, 1.0),\n",
    "        \"bagging_freq\": trial.suggest_int(\"bagging_freq\", 1, 7),\n",
    "        \"min_child_samples\": trial.suggest_int(\"min_child_samples\", 5, 100),\n",
    "        \"learning_rate\": trial.suggest_float(\"learning_rate\", 0.01, 0.1, log=True)\n",
    "    }\n",
    "\n",
    "    # Create datasets for LightGBM\n",
    "    dtrain = lgb.Dataset(X_train, label=y_train)\n",
    "    dval = lgb.Dataset(X_val, label=y_val, reference=dtrain)\n",
    "\n",
    "    # Train model with early stopping\n",
    "    gbm = lgb.train(\n",
    "        param,\n",
    "        dtrain,\n",
    "        num_boost_round=1000,\n",
    "        valid_sets=[dval],\n",
    "    )\n",
    "\n",
    "    # Predict on validation set\n",
    "    y_pred = gbm.predict(X_val)\n",
    "    # Convert probabilities to predicted classes\n",
    "    y_pred_classes = y_pred.argmax(axis=1)\n",
    "\n",
    "    # Calculate QWK\n",
    "    score = quadratic_weighted_kappa(y_val, y_pred_classes)\n",
    "    return score\n",
    "\n",
    "# Optimize with Optuna, aiming to maximize QWK\n",
    "study = optuna.create_study(direction=\"maximize\")\n",
    "study.optimize(objective, n_trials=50)\n",
    "\n",
    "print(\"Best Value:\", study.best_value)\n",
    "print(\"Best Params:\", study.best_params)\n"
   ]
  },
  {
   "cell_type": "code",
   "execution_count": 9,
   "id": "a1ffba65",
   "metadata": {
    "execution": {
     "iopub.execute_input": "2024-12-17T19:51:42.685295Z",
     "iopub.status.busy": "2024-12-17T19:51:42.684876Z",
     "iopub.status.idle": "2024-12-17T19:51:42.689819Z",
     "shell.execute_reply": "2024-12-17T19:51:42.688896Z"
    },
    "papermill": {
     "duration": 0.015845,
     "end_time": "2024-12-17T19:51:42.691732",
     "exception": false,
     "start_time": "2024-12-17T19:51:42.675887",
     "status": "completed"
    },
    "tags": []
   },
   "outputs": [],
   "source": [
    "params3 = {'lambda_l1': 2.9209409268664883,\n",
    " 'lambda_l2': 0.00012976118112242174,\n",
    " 'num_leaves': 202,\n",
    " 'feature_fraction': 0.8038056112369449,\n",
    " 'bagging_fraction': 0.6991108077097957,\n",
    " 'bagging_freq': 3,\n",
    " \"learning_rate\": 0.05,\n",
    " 'min_child_samples': 85}"
   ]
  },
  {
   "cell_type": "code",
   "execution_count": 10,
   "id": "86e481eb",
   "metadata": {
    "execution": {
     "iopub.execute_input": "2024-12-17T19:51:42.708042Z",
     "iopub.status.busy": "2024-12-17T19:51:42.707688Z",
     "iopub.status.idle": "2024-12-17T19:51:43.076482Z",
     "shell.execute_reply": "2024-12-17T19:51:43.075398Z"
    },
    "papermill": {
     "duration": 0.379726,
     "end_time": "2024-12-17T19:51:43.078893",
     "exception": false,
     "start_time": "2024-12-17T19:51:42.699167",
     "status": "completed"
    },
    "tags": []
   },
   "outputs": [],
   "source": [
    "import catboost as cb\n",
    "from sklearn.metrics import mean_squared_error\n",
    "\n",
    "def objective_cat(trial):\n",
    "    params = {\n",
    "        \"iterations\": 1000,\n",
    "        \"learning_rate\": trial.suggest_float(\"learning_rate\", 1e-3, 0.1, log=True),\n",
    "        \"depth\": trial.suggest_int(\"depth\", 1, 10),\n",
    "        \"subsample\": trial.suggest_float(\"subsample\", 0.05, 1.0),\n",
    "        \"colsample_bylevel\": trial.suggest_float(\"colsample_bylevel\", 0.05, 1.0),\n",
    "        \"min_data_in_leaf\": trial.suggest_int(\"min_data_in_leaf\", 1, 100),\n",
    "    }\n",
    "\n",
    "    model = cb.CatBoostRegressor(**params, silent=True)\n",
    "    model.fit(X_train, y_train)\n",
    "    predictions = model.predict(X_val)\n",
    "    rmse = mean_squared_error(y_val, predictions, squared=False)\n",
    "    return rmse"
   ]
  },
  {
   "cell_type": "code",
   "execution_count": 11,
   "id": "e97e59bb",
   "metadata": {
    "execution": {
     "iopub.execute_input": "2024-12-17T19:51:43.095773Z",
     "iopub.status.busy": "2024-12-17T19:51:43.095406Z",
     "iopub.status.idle": "2024-12-17T20:05:38.323360Z",
     "shell.execute_reply": "2024-12-17T20:05:38.322316Z"
    },
    "papermill": {
     "duration": 835.239046,
     "end_time": "2024-12-17T20:05:38.325732",
     "exception": false,
     "start_time": "2024-12-17T19:51:43.086686",
     "status": "completed"
    },
    "tags": []
   },
   "outputs": [
    {
     "name": "stderr",
     "output_type": "stream",
     "text": [
      "[I 2024-12-17 19:51:43,097] A new study created in memory with name: no-name-dc2302a6-3608-4482-9634-f39cdbc94ee0\n",
      "[I 2024-12-17 19:51:45,159] Trial 0 finished with value: 0.6756232937062647 and parameters: {'learning_rate': 0.00785958003589479, 'depth': 4, 'subsample': 0.7028937254444567, 'colsample_bylevel': 0.22226500375869712, 'min_data_in_leaf': 83}. Best is trial 0 with value: 0.6756232937062647.\n",
      "[I 2024-12-17 19:52:37,573] Trial 1 finished with value: 0.6804645416296724 and parameters: {'learning_rate': 0.004531586040868085, 'depth': 9, 'subsample': 0.6086580540179518, 'colsample_bylevel': 0.2478319621799746, 'min_data_in_leaf': 70}. Best is trial 0 with value: 0.6756232937062647.\n",
      "[I 2024-12-17 19:53:01,135] Trial 2 finished with value: 0.6948838994529288 and parameters: {'learning_rate': 0.09852921141596002, 'depth': 7, 'subsample': 0.3103716923346792, 'colsample_bylevel': 0.42081977890096633, 'min_data_in_leaf': 59}. Best is trial 0 with value: 0.6756232937062647.\n",
      "[I 2024-12-17 19:54:29,761] Trial 3 finished with value: 0.6749054820480344 and parameters: {'learning_rate': 0.008637352694149896, 'depth': 9, 'subsample': 0.7782005538731093, 'colsample_bylevel': 0.4634930479484029, 'min_data_in_leaf': 75}. Best is trial 3 with value: 0.6749054820480344.\n",
      "[I 2024-12-17 19:54:30,370] Trial 4 finished with value: 0.6930158465546746 and parameters: {'learning_rate': 0.007581514177590062, 'depth': 1, 'subsample': 0.2932069580768467, 'colsample_bylevel': 0.23260806818738977, 'min_data_in_leaf': 10}. Best is trial 3 with value: 0.6749054820480344.\n",
      "[I 2024-12-17 19:54:30,906] Trial 5 finished with value: 0.6926306305410029 and parameters: {'learning_rate': 0.015744115298589136, 'depth': 1, 'subsample': 0.09040617501146903, 'colsample_bylevel': 0.16087940238587586, 'min_data_in_leaf': 65}. Best is trial 3 with value: 0.6749054820480344.\n",
      "[I 2024-12-17 19:54:33,147] Trial 6 finished with value: 0.6825501349264522 and parameters: {'learning_rate': 0.06426069750391811, 'depth': 3, 'subsample': 0.8698936987410184, 'colsample_bylevel': 0.472911282591547, 'min_data_in_leaf': 53}. Best is trial 3 with value: 0.6749054820480344.\n",
      "[I 2024-12-17 19:54:38,028] Trial 7 finished with value: 0.6734118561000703 and parameters: {'learning_rate': 0.009680403711583989, 'depth': 5, 'subsample': 0.4967493520038, 'colsample_bylevel': 0.3329686835728035, 'min_data_in_leaf': 44}. Best is trial 7 with value: 0.6734118561000703.\n",
      "[I 2024-12-17 19:56:27,208] Trial 8 finished with value: 0.6771530048339895 and parameters: {'learning_rate': 0.0395607774210672, 'depth': 9, 'subsample': 0.9421367903016343, 'colsample_bylevel': 0.615519861966382, 'min_data_in_leaf': 49}. Best is trial 7 with value: 0.6734118561000703.\n",
      "[I 2024-12-17 19:56:34,343] Trial 9 finished with value: 0.6751397739811836 and parameters: {'learning_rate': 0.008861936597723271, 'depth': 5, 'subsample': 0.255271093475673, 'colsample_bylevel': 0.5599082308782394, 'min_data_in_leaf': 17}. Best is trial 7 with value: 0.6734118561000703.\n",
      "[I 2024-12-17 19:57:12,970] Trial 10 finished with value: 0.7071894667181101 and parameters: {'learning_rate': 0.001208868662369147, 'depth': 7, 'subsample': 0.4881125172912722, 'colsample_bylevel': 0.898487220407816, 'min_data_in_leaf': 32}. Best is trial 7 with value: 0.6734118561000703.\n",
      "[I 2024-12-17 19:57:48,031] Trial 11 finished with value: 0.6749672488568179 and parameters: {'learning_rate': 0.023315388532996462, 'depth': 7, 'subsample': 0.7481432525005985, 'colsample_bylevel': 0.7429445310834473, 'min_data_in_leaf': 92}. Best is trial 7 with value: 0.6734118561000703.\n",
      "[I 2024-12-17 19:58:41,920] Trial 12 finished with value: 0.6953835540295767 and parameters: {'learning_rate': 0.002210097434164219, 'depth': 10, 'subsample': 0.4622910462769509, 'colsample_bylevel': 0.3796646475914456, 'min_data_in_leaf': 36}. Best is trial 7 with value: 0.6734118561000703.\n",
      "[I 2024-12-17 19:58:53,833] Trial 13 finished with value: 0.6774679890478313 and parameters: {'learning_rate': 0.004380988211670703, 'depth': 6, 'subsample': 0.8070947198143121, 'colsample_bylevel': 0.35247740697013613, 'min_data_in_leaf': 80}. Best is trial 7 with value: 0.6734118561000703.\n",
      "[I 2024-12-17 19:58:54,815] Trial 14 finished with value: 0.6749070336887575 and parameters: {'learning_rate': 0.022415676871887766, 'depth': 3, 'subsample': 0.6152169982759756, 'colsample_bylevel': 0.08880193754844887, 'min_data_in_leaf': 100}. Best is trial 7 with value: 0.6734118561000703.\n",
      "[I 2024-12-17 19:59:02,584] Trial 15 finished with value: 0.6833316330374865 and parameters: {'learning_rate': 0.0034314706334393824, 'depth': 5, 'subsample': 0.4185115561528669, 'colsample_bylevel': 0.6777573886309265, 'min_data_in_leaf': 38}. Best is trial 7 with value: 0.6734118561000703.\n",
      "[I 2024-12-17 20:00:11,231] Trial 16 finished with value: 0.6735387137020206 and parameters: {'learning_rate': 0.014757694953080625, 'depth': 8, 'subsample': 0.6170254535505255, 'colsample_bylevel': 0.8047394556906013, 'min_data_in_leaf': 74}. Best is trial 7 with value: 0.6734118561000703.\n",
      "[I 2024-12-17 20:01:17,784] Trial 17 finished with value: 0.6749945068665733 and parameters: {'learning_rate': 0.01566033813093339, 'depth': 8, 'subsample': 0.5772763030464398, 'colsample_bylevel': 0.9560513598815403, 'min_data_in_leaf': 21}. Best is trial 7 with value: 0.6734118561000703.\n",
      "[I 2024-12-17 20:01:39,776] Trial 18 finished with value: 0.6765355409397268 and parameters: {'learning_rate': 0.03233661719701391, 'depth': 6, 'subsample': 0.4051370593919145, 'colsample_bylevel': 0.8505799774591803, 'min_data_in_leaf': 42}. Best is trial 7 with value: 0.6734118561000703.\n",
      "[I 2024-12-17 20:01:44,396] Trial 19 finished with value: 0.6728440145881173 and parameters: {'learning_rate': 0.013493350154927197, 'depth': 4, 'subsample': 0.6626359381952815, 'colsample_bylevel': 0.7801768047213022, 'min_data_in_leaf': 2}. Best is trial 19 with value: 0.6728440145881173.\n",
      "[I 2024-12-17 20:01:47,136] Trial 20 finished with value: 0.6891527857866284 and parameters: {'learning_rate': 0.002705196534389673, 'depth': 3, 'subsample': 0.9829574306046865, 'colsample_bylevel': 0.6095928809350873, 'min_data_in_leaf': 2}. Best is trial 19 with value: 0.6728440145881173.\n",
      "[I 2024-12-17 20:01:51,737] Trial 21 finished with value: 0.6730388444852498 and parameters: {'learning_rate': 0.013509140872327874, 'depth': 4, 'subsample': 0.699590120557006, 'colsample_bylevel': 0.7663680068464344, 'min_data_in_leaf': 26}. Best is trial 19 with value: 0.6728440145881173.\n",
      "[I 2024-12-17 20:01:57,736] Trial 22 finished with value: 0.673206156621783 and parameters: {'learning_rate': 0.011804069738733988, 'depth': 4, 'subsample': 0.6868135973444087, 'colsample_bylevel': 0.992326589946859, 'min_data_in_leaf': 28}. Best is trial 19 with value: 0.6728440145881173.\n",
      "[I 2024-12-17 20:02:03,132] Trial 23 finished with value: 0.6741858673808224 and parameters: {'learning_rate': 0.005746424092286609, 'depth': 4, 'subsample': 0.7074343553929077, 'colsample_bylevel': 0.9505154587960719, 'min_data_in_leaf': 29}. Best is trial 19 with value: 0.6728440145881173.\n",
      "[I 2024-12-17 20:02:05,580] Trial 24 finished with value: 0.676134162517024 and parameters: {'learning_rate': 0.012766713008525762, 'depth': 2, 'subsample': 0.8787107686273969, 'colsample_bylevel': 0.9906117404034308, 'min_data_in_leaf': 2}. Best is trial 19 with value: 0.6728440145881173.\n",
      "[I 2024-12-17 20:02:10,120] Trial 25 finished with value: 0.6769478948056638 and parameters: {'learning_rate': 0.024816859173085366, 'depth': 4, 'subsample': 0.6813544156659369, 'colsample_bylevel': 0.7533181569207781, 'min_data_in_leaf': 23}. Best is trial 19 with value: 0.6728440145881173.\n",
      "[I 2024-12-17 20:02:12,424] Trial 26 finished with value: 0.6835267685284975 and parameters: {'learning_rate': 0.04773886181872309, 'depth': 2, 'subsample': 0.8638276041460518, 'colsample_bylevel': 0.8619036916966799, 'min_data_in_leaf': 12}. Best is trial 19 with value: 0.6728440145881173.\n",
      "[I 2024-12-17 20:02:16,681] Trial 27 finished with value: 0.6715028719543306 and parameters: {'learning_rate': 0.011841213040080838, 'depth': 4, 'subsample': 0.5595979307764377, 'colsample_bylevel': 0.6998020077395419, 'min_data_in_leaf': 12}. Best is trial 27 with value: 0.6715028719543306.\n",
      "[I 2024-12-17 20:02:19,534] Trial 28 finished with value: 0.6728667920988326 and parameters: {'learning_rate': 0.021517277858556283, 'depth': 3, 'subsample': 0.5596050769844388, 'colsample_bylevel': 0.6951103971796084, 'min_data_in_leaf': 8}. Best is trial 27 with value: 0.6715028719543306.\n",
      "[I 2024-12-17 20:02:22,394] Trial 29 finished with value: 0.67321407498889 and parameters: {'learning_rate': 0.019397170396449986, 'depth': 3, 'subsample': 0.5502903966004912, 'colsample_bylevel': 0.6726747528039415, 'min_data_in_leaf': 8}. Best is trial 27 with value: 0.6715028719543306.\n",
      "[I 2024-12-17 20:02:24,212] Trial 30 finished with value: 0.6830268388513774 and parameters: {'learning_rate': 0.006087116912381775, 'depth': 2, 'subsample': 0.36562494796645756, 'colsample_bylevel': 0.6912564171480307, 'min_data_in_leaf': 17}. Best is trial 27 with value: 0.6715028719543306.\n",
      "[I 2024-12-17 20:02:29,212] Trial 31 finished with value: 0.6792564242914092 and parameters: {'learning_rate': 0.0306563142428741, 'depth': 4, 'subsample': 0.6579145398481212, 'colsample_bylevel': 0.7620238132106593, 'min_data_in_leaf': 7}. Best is trial 27 with value: 0.6715028719543306.\n",
      "[I 2024-12-17 20:02:37,419] Trial 32 finished with value: 0.6695033380697093 and parameters: {'learning_rate': 0.017747581822839028, 'depth': 5, 'subsample': 0.5324952077642681, 'colsample_bylevel': 0.8180498009117981, 'min_data_in_leaf': 15}. Best is trial 32 with value: 0.6695033380697093.\n",
      "[I 2024-12-17 20:02:45,751] Trial 33 finished with value: 0.6849538616323879 and parameters: {'learning_rate': 0.054080151869653995, 'depth': 5, 'subsample': 0.5448650758863786, 'colsample_bylevel': 0.8258315820308282, 'min_data_in_leaf': 1}. Best is trial 32 with value: 0.6695033380697093.\n",
      "[I 2024-12-17 20:03:03,599] Trial 34 finished with value: 0.6736197611528947 and parameters: {'learning_rate': 0.01808544776623509, 'depth': 6, 'subsample': 0.6038585703207487, 'colsample_bylevel': 0.6065905127816225, 'min_data_in_leaf': 15}. Best is trial 32 with value: 0.6695033380697093.\n",
      "[I 2024-12-17 20:03:05,943] Trial 35 finished with value: 0.6785819137246657 and parameters: {'learning_rate': 0.006878721196113656, 'depth': 3, 'subsample': 0.4475925915846938, 'colsample_bylevel': 0.5403149268421602, 'min_data_in_leaf': 20}. Best is trial 32 with value: 0.6695033380697093.\n",
      "[I 2024-12-17 20:03:08,077] Trial 36 finished with value: 0.6759173116254477 and parameters: {'learning_rate': 0.030098468086749687, 'depth': 2, 'subsample': 0.5134156883604064, 'colsample_bylevel': 0.8897342313166725, 'min_data_in_leaf': 9}. Best is trial 32 with value: 0.6695033380697093.\n",
      "[I 2024-12-17 20:03:15,911] Trial 37 finished with value: 0.6856753577942497 and parameters: {'learning_rate': 0.08759302704787107, 'depth': 5, 'subsample': 0.33101383208983826, 'colsample_bylevel': 0.7015596369162358, 'min_data_in_leaf': 6}. Best is trial 32 with value: 0.6695033380697093.\n",
      "[I 2024-12-17 20:03:16,884] Trial 38 finished with value: 0.6868013824265572 and parameters: {'learning_rate': 0.010013043923492972, 'depth': 1, 'subsample': 0.25389532311812585, 'colsample_bylevel': 0.6454703790001934, 'min_data_in_leaf': 13}. Best is trial 32 with value: 0.6695033380697093.\n",
      "[I 2024-12-17 20:03:19,895] Trial 39 finished with value: 0.6770524521361787 and parameters: {'learning_rate': 0.011568065202561211, 'depth': 4, 'subsample': 0.1399420173416424, 'colsample_bylevel': 0.4730773760913059, 'min_data_in_leaf': 61}. Best is trial 32 with value: 0.6695033380697093.\n",
      "[I 2024-12-17 20:03:41,411] Trial 40 finished with value: 0.6813943218542768 and parameters: {'learning_rate': 0.039403526622540534, 'depth': 6, 'subsample': 0.7809862973082389, 'colsample_bylevel': 0.8132858885100405, 'min_data_in_leaf': 13}. Best is trial 32 with value: 0.6695033380697093.\n",
      "[I 2024-12-17 20:03:45,932] Trial 41 finished with value: 0.6753539954677874 and parameters: {'learning_rate': 0.01895525140540815, 'depth': 4, 'subsample': 0.6348025361180057, 'colsample_bylevel': 0.7695914037824021, 'min_data_in_leaf': 25}. Best is trial 32 with value: 0.6695033380697093.\n",
      "[I 2024-12-17 20:03:48,924] Trial 42 finished with value: 0.6752244869590611 and parameters: {'learning_rate': 0.014785308610658337, 'depth': 3, 'subsample': 0.7139896511914986, 'colsample_bylevel': 0.7306991668120295, 'min_data_in_leaf': 5}. Best is trial 32 with value: 0.6695033380697093.\n",
      "[I 2024-12-17 20:03:57,500] Trial 43 finished with value: 0.6717215279209379 and parameters: {'learning_rate': 0.0083972654023372, 'depth': 5, 'subsample': 0.5314190267819202, 'colsample_bylevel': 0.9195924366828104, 'min_data_in_leaf': 18}. Best is trial 32 with value: 0.6695033380697093.\n",
      "[I 2024-12-17 20:04:06,540] Trial 44 finished with value: 0.6731613563238744 and parameters: {'learning_rate': 0.008629462661444971, 'depth': 5, 'subsample': 0.5297435384664533, 'colsample_bylevel': 0.9095490934439873, 'min_data_in_leaf': 19}. Best is trial 32 with value: 0.6695033380697093.\n",
      "[I 2024-12-17 20:04:45,459] Trial 45 finished with value: 0.6776195305650158 and parameters: {'learning_rate': 0.005086062964191636, 'depth': 7, 'subsample': 0.5659792492318146, 'colsample_bylevel': 0.9290401561633396, 'min_data_in_leaf': 33}. Best is trial 32 with value: 0.6695033380697093.\n",
      "[I 2024-12-17 20:04:53,500] Trial 46 finished with value: 0.6729311622828097 and parameters: {'learning_rate': 0.010415507670251059, 'depth': 5, 'subsample': 0.46998117824204244, 'colsample_bylevel': 0.8423842149468478, 'min_data_in_leaf': 11}. Best is trial 32 with value: 0.6695033380697093.\n",
      "[I 2024-12-17 20:04:56,571] Trial 47 finished with value: 0.6766564547171661 and parameters: {'learning_rate': 0.0077770265321002955, 'depth': 3, 'subsample': 0.41552369801015177, 'colsample_bylevel': 0.8015070680842368, 'min_data_in_leaf': 49}. Best is trial 32 with value: 0.6695033380697093.\n",
      "[I 2024-12-17 20:05:16,662] Trial 48 finished with value: 0.6723048051795236 and parameters: {'learning_rate': 0.025224453964101223, 'depth': 6, 'subsample': 0.5826653060605179, 'colsample_bylevel': 0.7268344205423816, 'min_data_in_leaf': 16}. Best is trial 32 with value: 0.6695033380697093.\n",
      "[I 2024-12-17 20:05:38,319] Trial 49 finished with value: 0.6719891345856729 and parameters: {'learning_rate': 0.025781223601946072, 'depth': 6, 'subsample': 0.6515444396318097, 'colsample_bylevel': 0.8740949152841602, 'min_data_in_leaf': 16}. Best is trial 32 with value: 0.6695033380697093.\n"
     ]
    }
   ],
   "source": [
    "study = optuna.create_study(direction='minimize')\n",
    "study.optimize(objective_cat, n_trials=50)"
   ]
  },
  {
   "cell_type": "code",
   "execution_count": 12,
   "id": "af1c3c9f",
   "metadata": {
    "execution": {
     "iopub.execute_input": "2024-12-17T20:05:38.347908Z",
     "iopub.status.busy": "2024-12-17T20:05:38.347530Z",
     "iopub.status.idle": "2024-12-17T20:05:38.354115Z",
     "shell.execute_reply": "2024-12-17T20:05:38.353147Z"
    },
    "papermill": {
     "duration": 0.020046,
     "end_time": "2024-12-17T20:05:38.356045",
     "exception": false,
     "start_time": "2024-12-17T20:05:38.335999",
     "status": "completed"
    },
    "tags": []
   },
   "outputs": [
    {
     "data": {
      "text/plain": [
       "{'learning_rate': 0.017747581822839028,\n",
       " 'depth': 5,\n",
       " 'subsample': 0.5324952077642681,\n",
       " 'colsample_bylevel': 0.8180498009117981,\n",
       " 'min_data_in_leaf': 15}"
      ]
     },
     "execution_count": 12,
     "metadata": {},
     "output_type": "execute_result"
    }
   ],
   "source": [
    "study.best_params"
   ]
  },
  {
   "cell_type": "code",
   "execution_count": 13,
   "id": "6753a432",
   "metadata": {
    "collapsed": true,
    "execution": {
     "iopub.execute_input": "2024-12-17T20:05:38.378259Z",
     "iopub.status.busy": "2024-12-17T20:05:38.377851Z",
     "iopub.status.idle": "2024-12-17T20:29:04.397498Z",
     "shell.execute_reply": "2024-12-17T20:29:04.396296Z"
    },
    "jupyter": {
     "outputs_hidden": true
    },
    "papermill": {
     "duration": 1406.037839,
     "end_time": "2024-12-17T20:29:04.404242",
     "exception": false,
     "start_time": "2024-12-17T20:05:38.366403",
     "status": "completed"
    },
    "tags": []
   },
   "outputs": [
    {
     "name": "stderr",
     "output_type": "stream",
     "text": [
      "[I 2024-12-17 20:05:38,387] A new study created in memory with name: no-name-5ee7c393-2c55-4b3c-a7ad-69c2d28beae2\n",
      "[I 2024-12-17 20:05:51,379] Trial 0 finished with value: 0.34204328958509733 and parameters: {'lambda_l1': 4.718459997855032, 'lambda_l2': 1.0322466064058957, 'num_leaves': 239, 'feature_fraction': 0.7686115949175772, 'bagging_fraction': 0.47891443415760887, 'bagging_freq': 6, 'min_child_samples': 44, 'learning_rate': 0.02229513592166741}. Best is trial 0 with value: 0.34204328958509733.\n",
      "[I 2024-12-17 20:06:01,424] Trial 1 finished with value: 0.34751401969465234 and parameters: {'lambda_l1': 0.407883355496291, 'lambda_l2': 2.2097848501210655, 'num_leaves': 213, 'feature_fraction': 0.8163751390051828, 'bagging_fraction': 0.4750133723151295, 'bagging_freq': 1, 'min_child_samples': 83, 'learning_rate': 0.05729477460279862}. Best is trial 1 with value: 0.34751401969465234.\n",
      "[I 2024-12-17 20:06:24,924] Trial 2 finished with value: 0.2793752697453603 and parameters: {'lambda_l1': 2.3672145109031023e-05, 'lambda_l2': 0.1288220868916329, 'num_leaves': 207, 'feature_fraction': 0.64091961144642, 'bagging_fraction': 0.7494035892864912, 'bagging_freq': 5, 'min_child_samples': 50, 'learning_rate': 0.06429441050042584}. Best is trial 1 with value: 0.34751401969465234.\n",
      "[I 2024-12-17 20:07:29,671] Trial 3 finished with value: 0.318796869905445 and parameters: {'lambda_l1': 1.1281673457149723e-06, 'lambda_l2': 0.010816918750735628, 'num_leaves': 104, 'feature_fraction': 0.7423590028877598, 'bagging_fraction': 0.8795453645228457, 'bagging_freq': 2, 'min_child_samples': 20, 'learning_rate': 0.016617378101375434}. Best is trial 1 with value: 0.34751401969465234.\n",
      "[I 2024-12-17 20:07:48,941] Trial 4 finished with value: 0.33554116509028376 and parameters: {'lambda_l1': 0.7440831785487544, 'lambda_l2': 0.0015525573642381934, 'num_leaves': 221, 'feature_fraction': 0.8132072093019803, 'bagging_fraction': 0.8554100474552255, 'bagging_freq': 6, 'min_child_samples': 79, 'learning_rate': 0.02822071864633848}. Best is trial 1 with value: 0.34751401969465234.\n",
      "[I 2024-12-17 20:07:56,302] Trial 5 finished with value: 0.2776770215301708 and parameters: {'lambda_l1': 1.3864467839605784e-08, 'lambda_l2': 0.038982445697451046, 'num_leaves': 4, 'feature_fraction': 0.6944952060983385, 'bagging_fraction': 0.9732137726338105, 'bagging_freq': 1, 'min_child_samples': 48, 'learning_rate': 0.08661090090104753}. Best is trial 1 with value: 0.34751401969465234.\n",
      "[I 2024-12-17 20:08:09,871] Trial 6 finished with value: 0.36665488265847224 and parameters: {'lambda_l1': 0.0002512664698562264, 'lambda_l2': 0.20563994667973615, 'num_leaves': 81, 'feature_fraction': 0.4435422213236368, 'bagging_fraction': 0.576887220429047, 'bagging_freq': 6, 'min_child_samples': 66, 'learning_rate': 0.012767500918921152}. Best is trial 6 with value: 0.36665488265847224.\n",
      "[I 2024-12-17 20:08:29,036] Trial 7 finished with value: 0.26358048093587516 and parameters: {'lambda_l1': 2.7180514581107625e-07, 'lambda_l2': 0.0007588637399937298, 'num_leaves': 149, 'feature_fraction': 0.5359136802192148, 'bagging_fraction': 0.515329237106829, 'bagging_freq': 6, 'min_child_samples': 47, 'learning_rate': 0.035781154812956684}. Best is trial 6 with value: 0.36665488265847224.\n",
      "[I 2024-12-17 20:08:48,379] Trial 8 finished with value: 0.28131269316271756 and parameters: {'lambda_l1': 7.81376672495096e-06, 'lambda_l2': 0.006502697778419581, 'num_leaves': 57, 'feature_fraction': 0.7741510206790676, 'bagging_fraction': 0.4918533355042258, 'bagging_freq': 7, 'min_child_samples': 44, 'learning_rate': 0.06594768753362823}. Best is trial 6 with value: 0.36665488265847224.\n",
      "[I 2024-12-17 20:09:25,009] Trial 9 finished with value: 0.2785436220136519 and parameters: {'lambda_l1': 3.828544195351636e-08, 'lambda_l2': 2.2127787580360135e-08, 'num_leaves': 100, 'feature_fraction': 0.5431357632335341, 'bagging_fraction': 0.9643103773674802, 'bagging_freq': 3, 'min_child_samples': 40, 'learning_rate': 0.055578414370428854}. Best is trial 6 with value: 0.36665488265847224.\n",
      "[I 2024-12-17 20:09:36,738] Trial 10 finished with value: 0.38143200641196895 and parameters: {'lambda_l1': 0.003595555829627837, 'lambda_l2': 7.944078808841377e-06, 'num_leaves': 37, 'feature_fraction': 0.4025273152033914, 'bagging_fraction': 0.6324340565253753, 'bagging_freq': 4, 'min_child_samples': 100, 'learning_rate': 0.010068118573644978}. Best is trial 10 with value: 0.38143200641196895.\n",
      "[I 2024-12-17 20:09:48,350] Trial 11 finished with value: 0.3817492012779553 and parameters: {'lambda_l1': 0.003982114399863528, 'lambda_l2': 2.8556123373165968e-06, 'num_leaves': 36, 'feature_fraction': 0.4030848777057884, 'bagging_fraction': 0.6227473544190818, 'bagging_freq': 4, 'min_child_samples': 98, 'learning_rate': 0.010593151921572569}. Best is trial 11 with value: 0.3817492012779553.\n",
      "[I 2024-12-17 20:09:58,960] Trial 12 finished with value: 0.3745795290725613 and parameters: {'lambda_l1': 0.004911373299277032, 'lambda_l2': 7.123598454483728e-06, 'num_leaves': 5, 'feature_fraction': 0.9600189515946973, 'bagging_fraction': 0.6612532056809844, 'bagging_freq': 4, 'min_child_samples': 98, 'learning_rate': 0.010362344735251387}. Best is trial 11 with value: 0.3817492012779553.\n",
      "[I 2024-12-17 20:10:11,124] Trial 13 finished with value: 0.3671592119275826 and parameters: {'lambda_l1': 0.017793492374344588, 'lambda_l2': 5.98026943184791e-06, 'num_leaves': 45, 'feature_fraction': 0.40653234277434797, 'bagging_fraction': 0.6599920981158004, 'bagging_freq': 4, 'min_child_samples': 99, 'learning_rate': 0.010063517043732869}. Best is trial 11 with value: 0.3817492012779553.\n",
      "[I 2024-12-17 20:10:28,983] Trial 14 finished with value: 0.3256813559322035 and parameters: {'lambda_l1': 0.006373583677406717, 'lambda_l2': 1.5743989088647717e-05, 'num_leaves': 139, 'feature_fraction': 0.5011075939904042, 'bagging_fraction': 0.7542604297554121, 'bagging_freq': 3, 'min_child_samples': 81, 'learning_rate': 0.016218176901848274}. Best is trial 11 with value: 0.3817492012779553.\n",
      "[I 2024-12-17 20:10:44,829] Trial 15 finished with value: 0.32578020805548147 and parameters: {'lambda_l1': 0.00035413847144968354, 'lambda_l2': 1.2437493531049602e-07, 'num_leaves': 38, 'feature_fraction': 0.6125155645807907, 'bagging_fraction': 0.5706631515971555, 'bagging_freq': 3, 'min_child_samples': 67, 'learning_rate': 0.015700656942387543}. Best is trial 11 with value: 0.3817492012779553.\n",
      "[I 2024-12-17 20:11:16,151] Trial 16 finished with value: 0.24891595547822254 and parameters: {'lambda_l1': 0.06179052596557446, 'lambda_l2': 3.716944000946351e-07, 'num_leaves': 31, 'feature_fraction': 0.47254717018051917, 'bagging_fraction': 0.40665220352414544, 'bagging_freq': 5, 'min_child_samples': 8, 'learning_rate': 0.02264112765803749}. Best is trial 11 with value: 0.3817492012779553.\n",
      "[I 2024-12-17 20:11:31,442] Trial 17 finished with value: 0.3612711342139814 and parameters: {'lambda_l1': 0.0008993883502866185, 'lambda_l2': 7.105480390897848e-05, 'num_leaves': 170, 'feature_fraction': 0.4114927473173302, 'bagging_fraction': 0.6164092015674191, 'bagging_freq': 5, 'min_child_samples': 94, 'learning_rate': 0.012390572866517829}. Best is trial 11 with value: 0.3817492012779553.\n",
      "[I 2024-12-17 20:11:55,843] Trial 18 finished with value: 0.2830548665812642 and parameters: {'lambda_l1': 2.3997590034933737e-05, 'lambda_l2': 6.775663813664217e-07, 'num_leaves': 91, 'feature_fraction': 0.5884773786243267, 'bagging_fraction': 0.7757567599270627, 'bagging_freq': 2, 'min_child_samples': 67, 'learning_rate': 0.036812714892177786}. Best is trial 11 with value: 0.3817492012779553.\n",
      "[I 2024-12-17 20:12:10,707] Trial 19 finished with value: 0.36209952644249843 and parameters: {'lambda_l1': 0.12753277148735181, 'lambda_l2': 5.908421555472649e-05, 'num_leaves': 71, 'feature_fraction': 0.4847297741876152, 'bagging_fraction': 0.6971179460879565, 'bagging_freq': 4, 'min_child_samples': 87, 'learning_rate': 0.020803864936116273}. Best is trial 11 with value: 0.3817492012779553.\n",
      "[I 2024-12-17 20:12:26,637] Trial 20 finished with value: 0.36457090159487904 and parameters: {'lambda_l1': 0.0027688119160009864, 'lambda_l2': 9.071360991440057e-07, 'num_leaves': 23, 'feature_fraction': 0.919141922358347, 'bagging_fraction': 0.5697907846985547, 'bagging_freq': 4, 'min_child_samples': 74, 'learning_rate': 0.013404306258892482}. Best is trial 11 with value: 0.3817492012779553.\n",
      "[I 2024-12-17 20:12:44,235] Trial 21 finished with value: 0.3255977496483825 and parameters: {'lambda_l1': 0.00015396223941403488, 'lambda_l2': 4.3381555310850234e-06, 'num_leaves': 13, 'feature_fraction': 0.9975123280168994, 'bagging_fraction': 0.665355986687284, 'bagging_freq': 4, 'min_child_samples': 93, 'learning_rate': 0.010373927082578508}. Best is trial 11 with value: 0.3817492012779553.\n",
      "[I 2024-12-17 20:12:57,758] Trial 22 finished with value: 0.3610878222594843 and parameters: {'lambda_l1': 0.009882186972256032, 'lambda_l2': 0.00011685871591642068, 'num_leaves': 59, 'feature_fraction': 0.8875341349734231, 'bagging_fraction': 0.6274437436740748, 'bagging_freq': 3, 'min_child_samples': 100, 'learning_rate': 0.010794485387236255}. Best is trial 11 with value: 0.3817492012779553.\n",
      "[I 2024-12-17 20:13:16,509] Trial 23 finished with value: 0.3405759660620564 and parameters: {'lambda_l1': 0.0017657062467376094, 'lambda_l2': 4.466143566426904e-06, 'num_leaves': 13, 'feature_fraction': 0.9932116526077798, 'bagging_fraction': 0.7333626480430102, 'bagging_freq': 5, 'min_child_samples': 91, 'learning_rate': 0.014013119561827252}. Best is trial 11 with value: 0.3817492012779553.\n",
      "[I 2024-12-17 20:13:32,509] Trial 24 finished with value: 0.3032655246252678 and parameters: {'lambda_l1': 0.03005220124604109, 'lambda_l2': 1.2600610358691839e-08, 'num_leaves': 122, 'feature_fraction': 0.6468448848781715, 'bagging_fraction': 0.831810102687076, 'bagging_freq': 2, 'min_child_samples': 100, 'learning_rate': 0.01910518761117457}. Best is trial 11 with value: 0.3817492012779553.\n",
      "[I 2024-12-17 20:13:53,378] Trial 25 finished with value: 0.32366721372227225 and parameters: {'lambda_l1': 9.480909281481155e-05, 'lambda_l2': 8.772295721988032e-08, 'num_leaves': 48, 'feature_fraction': 0.8744929627596574, 'bagging_fraction': 0.6928813556899941, 'bagging_freq': 4, 'min_child_samples': 74, 'learning_rate': 0.01179110490270966}. Best is trial 11 with value: 0.3817492012779553.\n",
      "[I 2024-12-17 20:14:01,516] Trial 26 finished with value: 0.3772727272727273 and parameters: {'lambda_l1': 0.24864754446133078, 'lambda_l2': 2.148193517535578e-05, 'num_leaves': 5, 'feature_fraction': 0.5428720987219747, 'bagging_fraction': 0.6330140906343656, 'bagging_freq': 3, 'min_child_samples': 59, 'learning_rate': 0.028218815466344378}. Best is trial 11 with value: 0.3817492012779553.\n",
      "[I 2024-12-17 20:14:20,138] Trial 27 finished with value: 0.29706298655343244 and parameters: {'lambda_l1': 2.468535437955265, 'lambda_l2': 3.722050441321962e-05, 'num_leaves': 26, 'feature_fraction': 0.5447331320568117, 'bagging_fraction': 0.6081717709332941, 'bagging_freq': 3, 'min_child_samples': 31, 'learning_rate': 0.02796100122762272}. Best is trial 11 with value: 0.3817492012779553.\n",
      "[I 2024-12-17 20:14:33,861] Trial 28 finished with value: 0.2994572924620923 and parameters: {'lambda_l1': 0.20869064547491986, 'lambda_l2': 0.0005907287295670762, 'num_leaves': 66, 'feature_fraction': 0.4458820183981457, 'bagging_fraction': 0.5398766483472572, 'bagging_freq': 2, 'min_child_samples': 59, 'learning_rate': 0.044375200114094376}. Best is trial 11 with value: 0.3817492012779553.\n",
      "[I 2024-12-17 20:14:44,439] Trial 29 finished with value: 0.32327507140798195 and parameters: {'lambda_l1': 3.9146932715900626, 'lambda_l2': 1.6004994377262894e-06, 'num_leaves': 121, 'feature_fraction': 0.5133220307819379, 'bagging_fraction': 0.6222524925733538, 'bagging_freq': 5, 'min_child_samples': 57, 'learning_rate': 0.09935844953654038}. Best is trial 11 with value: 0.3817492012779553.\n",
      "[I 2024-12-17 20:15:09,308] Trial 30 finished with value: 0.30924997274610266 and parameters: {'lambda_l1': 1.0411900202489814, 'lambda_l2': 0.00014836667929975, 'num_leaves': 163, 'feature_fraction': 0.44508172964870646, 'bagging_fraction': 0.8008993215826467, 'bagging_freq': 7, 'min_child_samples': 27, 'learning_rate': 0.0259091627092075}. Best is trial 11 with value: 0.3817492012779553.\n",
      "[I 2024-12-17 20:15:17,725] Trial 31 finished with value: 0.38252293334747345 and parameters: {'lambda_l1': 0.04167361955070865, 'lambda_l2': 1.891178174615656e-05, 'num_leaves': 4, 'feature_fraction': 0.5810113713759764, 'bagging_fraction': 0.6634179444475591, 'bagging_freq': 4, 'min_child_samples': 86, 'learning_rate': 0.014788490399713103}. Best is trial 31 with value: 0.38252293334747345.\n",
      "[I 2024-12-17 20:15:33,807] Trial 32 finished with value: 0.33833532868959515 and parameters: {'lambda_l1': 0.049270069788093764, 'lambda_l2': 2.079328150437677e-05, 'num_leaves': 25, 'feature_fraction': 0.5844184667552969, 'bagging_fraction': 0.7157592062537514, 'bagging_freq': 3, 'min_child_samples': 89, 'learning_rate': 0.014781827589283335}. Best is trial 31 with value: 0.38252293334747345.\n",
      "[I 2024-12-17 20:15:42,753] Trial 33 finished with value: 0.3653173480013886 and parameters: {'lambda_l1': 9.52949963821987, 'lambda_l2': 2.047651768684606e-06, 'num_leaves': 39, 'feature_fraction': 0.6819714127586646, 'bagging_fraction': 0.6696427488638516, 'bagging_freq': 4, 'min_child_samples': 85, 'learning_rate': 0.019105598937190563}. Best is trial 31 with value: 0.38252293334747345.\n",
      "[I 2024-12-17 20:15:48,694] Trial 34 finished with value: 0.38892871365989634 and parameters: {'lambda_l1': 0.3303729489240838, 'lambda_l2': 2.957630031496446e-07, 'num_leaves': 3, 'feature_fraction': 0.40540032661582404, 'bagging_fraction': 0.43715375374756815, 'bagging_freq': 5, 'min_child_samples': 74, 'learning_rate': 0.011785023682317567}. Best is trial 34 with value: 0.38892871365989634.\n",
      "[I 2024-12-17 20:16:00,148] Trial 35 finished with value: 0.36618301775465323 and parameters: {'lambda_l1': 0.0015328809381666086, 'lambda_l2': 2.1290163859592605e-07, 'num_leaves': 21, 'feature_fraction': 0.425410207095405, 'bagging_fraction': 0.46358495947685013, 'bagging_freq': 5, 'min_child_samples': 76, 'learning_rate': 0.011912329737520327}. Best is trial 34 with value: 0.38892871365989634.\n",
      "[I 2024-12-17 20:16:08,817] Trial 36 finished with value: 0.3798074414235767 and parameters: {'lambda_l1': 1.0743489121855545, 'lambda_l2': 5.04834342098224e-08, 'num_leaves': 250, 'feature_fraction': 0.4761668516781765, 'bagging_fraction': 0.4030355081909029, 'bagging_freq': 5, 'min_child_samples': 83, 'learning_rate': 0.017876440251683372}. Best is trial 34 with value: 0.38892871365989634.\n",
      "[I 2024-12-17 20:16:20,716] Trial 37 finished with value: 0.3566349121159266 and parameters: {'lambda_l1': 0.08894529178753109, 'lambda_l2': 4.274216864933982e-07, 'num_leaves': 78, 'feature_fraction': 0.40291495018417584, 'bagging_fraction': 0.5295682782063212, 'bagging_freq': 6, 'min_child_samples': 94, 'learning_rate': 0.014020340729647278}. Best is trial 34 with value: 0.38892871365989634.\n",
      "[I 2024-12-17 20:16:29,536] Trial 38 finished with value: 0.3719313812481515 and parameters: {'lambda_l1': 0.6023235186393395, 'lambda_l2': 7.663732681777204, 'num_leaves': 54, 'feature_fraction': 0.4570967075888109, 'bagging_fraction': 0.44318373141681416, 'bagging_freq': 4, 'min_child_samples': 79, 'learning_rate': 0.011343211773289669}. Best is trial 34 with value: 0.38892871365989634.\n",
      "[I 2024-12-17 20:16:51,607] Trial 39 finished with value: 0.33486101289234615 and parameters: {'lambda_l1': 0.0006633221864123182, 'lambda_l2': 0.0038411148912207483, 'num_leaves': 191, 'feature_fraction': 0.5123735498733943, 'bagging_fraction': 0.9220339129551743, 'bagging_freq': 5, 'min_child_samples': 88, 'learning_rate': 0.01281893507434906}. Best is trial 34 with value: 0.38892871365989634.\n",
      "[I 2024-12-17 20:16:57,237] Trial 40 finished with value: 0.41092716084348213 and parameters: {'lambda_l1': 0.016824059834729427, 'lambda_l2': 0.00037743282455813285, 'num_leaves': 3, 'feature_fraction': 0.7508074801154194, 'bagging_fraction': 0.49662906052970757, 'bagging_freq': 6, 'min_child_samples': 71, 'learning_rate': 0.016923351876225543}. Best is trial 40 with value: 0.41092716084348213.\n",
      "[I 2024-12-17 20:17:10,367] Trial 41 finished with value: 0.3618291562787036 and parameters: {'lambda_l1': 0.03571937721261418, 'lambda_l2': 0.00018768603701386667, 'num_leaves': 16, 'feature_fraction': 0.7431760640623628, 'bagging_fraction': 0.44594614683873823, 'bagging_freq': 6, 'min_child_samples': 71, 'learning_rate': 0.016926397024812887}. Best is trial 40 with value: 0.41092716084348213.\n",
      "[I 2024-12-17 20:17:17,670] Trial 42 finished with value: 0.38871676729160054 and parameters: {'lambda_l1': 0.013236129046214195, 'lambda_l2': 0.0022988625094464126, 'num_leaves': 4, 'feature_fraction': 0.8233825779317129, 'bagging_fraction': 0.4953973363511317, 'bagging_freq': 6, 'min_child_samples': 85, 'learning_rate': 0.014456034186032845}. Best is trial 40 with value: 0.41092716084348213.\n",
      "[I 2024-12-17 20:17:22,814] Trial 43 finished with value: 0.41332275971451227 and parameters: {'lambda_l1': 0.013393265717823517, 'lambda_l2': 0.07905743755731379, 'num_leaves': 2, 'feature_fraction': 0.8067913890273929, 'bagging_fraction': 0.520908232635138, 'bagging_freq': 7, 'min_child_samples': 82, 'learning_rate': 0.015526724048998103}. Best is trial 43 with value: 0.41332275971451227.\n",
      "[I 2024-12-17 20:17:28,154] Trial 44 finished with value: 0.37949395673484054 and parameters: {'lambda_l1': 0.022839539649527837, 'lambda_l2': 0.03312700534956359, 'num_leaves': 3, 'feature_fraction': 0.8113526517374656, 'bagging_fraction': 0.5056706562537749, 'bagging_freq': 7, 'min_child_samples': 78, 'learning_rate': 0.02321757657227748}. Best is trial 43 with value: 0.41332275971451227.\n",
      "[I 2024-12-17 20:17:44,381] Trial 45 finished with value: 0.3583942376190602 and parameters: {'lambda_l1': 0.012206820088591211, 'lambda_l2': 0.5971984853412624, 'num_leaves': 11, 'feature_fraction': 0.7854741395688304, 'bagging_fraction': 0.4686905081008058, 'bagging_freq': 6, 'min_child_samples': 69, 'learning_rate': 0.015335741514216007}. Best is trial 43 with value: 0.41332275971451227.\n",
      "[I 2024-12-17 20:17:54,969] Trial 46 finished with value: 0.38826657030766043 and parameters: {'lambda_l1': 0.3485421522832919, 'lambda_l2': 0.002267225721795387, 'num_leaves': 3, 'feature_fraction': 0.719276217637573, 'bagging_fraction': 0.53706246245082, 'bagging_freq': 7, 'min_child_samples': 81, 'learning_rate': 0.01851866991995622}. Best is trial 43 with value: 0.41332275971451227.\n",
      "[I 2024-12-17 20:18:21,013] Trial 47 finished with value: 0.3221086979779608 and parameters: {'lambda_l1': 0.31629876577973437, 'lambda_l2': 0.0021657564177740415, 'num_leaves': 26, 'feature_fraction': 0.742505432689926, 'bagging_fraction': 0.4947556197280903, 'bagging_freq': 7, 'min_child_samples': 55, 'learning_rate': 0.01769830370208826}. Best is trial 43 with value: 0.41332275971451227.\n",
      "[I 2024-12-17 20:18:35,303] Trial 48 finished with value: 0.36971452538862815 and parameters: {'lambda_l1': 1.3676362507667843, 'lambda_l2': 0.046206785723646296, 'num_leaves': 223, 'feature_fraction': 0.7083093323079288, 'bagging_fraction': 0.4288181393880294, 'bagging_freq': 7, 'min_child_samples': 62, 'learning_rate': 0.019525441358244938}. Best is trial 43 with value: 0.41332275971451227.\n",
      "[I 2024-12-17 20:18:52,096] Trial 49 finished with value: 0.32893331909668466 and parameters: {'lambda_l1': 0.10159203422973889, 'lambda_l2': 0.018341016993371317, 'num_leaves': 41, 'feature_fraction': 0.8388490520283756, 'bagging_fraction': 0.5474105471057451, 'bagging_freq': 6, 'min_child_samples': 64, 'learning_rate': 0.024870792473938856}. Best is trial 43 with value: 0.41332275971451227.\n",
      "[I 2024-12-17 20:19:04,869] Trial 50 finished with value: 0.3266229182462286 and parameters: {'lambda_l1': 9.276970191852744e-07, 'lambda_l2': 0.12073171978807504, 'num_leaves': 17, 'feature_fraction': 0.7125311079581805, 'bagging_fraction': 0.48342389192218904, 'bagging_freq': 7, 'min_child_samples': 82, 'learning_rate': 0.020810746039082006}. Best is trial 43 with value: 0.41332275971451227.\n",
      "[I 2024-12-17 20:19:12,161] Trial 51 finished with value: 0.3959213668932574 and parameters: {'lambda_l1': 0.4366790822088759, 'lambda_l2': 0.00044408224412014326, 'num_leaves': 4, 'feature_fraction': 0.794167646034728, 'bagging_fraction': 0.5801128448012647, 'bagging_freq': 6, 'min_child_samples': 71, 'learning_rate': 0.014695306516798968}. Best is trial 43 with value: 0.41332275971451227.\n",
      "[I 2024-12-17 20:19:15,747] Trial 52 finished with value: 0.4272755955197981 and parameters: {'lambda_l1': 0.3958754953528503, 'lambda_l2': 0.0004916199597661849, 'num_leaves': 2, 'feature_fraction': 0.7934382188979396, 'bagging_fraction': 0.5165364918441219, 'bagging_freq': 6, 'min_child_samples': 71, 'learning_rate': 0.016561741947618006}. Best is trial 52 with value: 0.4272755955197981.\n",
      "[I 2024-12-17 20:19:24,407] Trial 53 finished with value: 0.3601688187976291 and parameters: {'lambda_l1': 9.416902222208961, 'lambda_l2': 0.000558707784299099, 'num_leaves': 31, 'feature_fraction': 0.8397782684701136, 'bagging_fraction': 0.5925581080730393, 'bagging_freq': 6, 'min_child_samples': 71, 'learning_rate': 0.016522503906094572}. Best is trial 52 with value: 0.4272755955197981.\n",
      "[I 2024-12-17 20:19:37,185] Trial 54 finished with value: 0.37092943473900897 and parameters: {'lambda_l1': 2.100007325531152, 'lambda_l2': 0.010744131150444782, 'num_leaves': 14, 'feature_fraction': 0.7889928350599041, 'bagging_fraction': 0.5058502483150418, 'bagging_freq': 6, 'min_child_samples': 73, 'learning_rate': 0.013429521223025112}. Best is trial 52 with value: 0.4272755955197981.\n",
      "[I 2024-12-17 20:19:56,281] Trial 55 finished with value: 0.3107152570029915 and parameters: {'lambda_l1': 0.1263315823069134, 'lambda_l2': 0.000299280370442028, 'num_leaves': 48, 'feature_fraction': 0.8276767838543402, 'bagging_fraction': 0.5675520794551869, 'bagging_freq': 6, 'min_child_samples': 50, 'learning_rate': 0.033522083377841266}. Best is trial 52 with value: 0.4272755955197981.\n",
      "[I 2024-12-17 20:20:10,276] Trial 56 finished with value: 0.36146796177346074 and parameters: {'lambda_l1': 0.5283342442644777, 'lambda_l2': 0.0012913745754224305, 'num_leaves': 35, 'feature_fraction': 0.8705475401764472, 'bagging_fraction': 0.4305110560528787, 'bagging_freq': 6, 'min_child_samples': 63, 'learning_rate': 0.012549068985028031}. Best is trial 52 with value: 0.4272755955197981.\n",
      "[I 2024-12-17 20:20:24,061] Trial 57 finished with value: 0.3651545956222111 and parameters: {'lambda_l1': 0.00827960250174924, 'lambda_l2': 0.0008488953230400961, 'num_leaves': 16, 'feature_fraction': 0.7600862930146441, 'bagging_fraction': 0.4623815020411747, 'bagging_freq': 7, 'min_child_samples': 77, 'learning_rate': 0.01577487725134016}. Best is trial 52 with value: 0.4272755955197981.\n",
      "[I 2024-12-17 20:20:29,544] Trial 58 finished with value: 0.42680024566252106 and parameters: {'lambda_l1': 0.005414978986407797, 'lambda_l2': 0.0062610037291606375, 'num_leaves': 3, 'feature_fraction': 0.8060314471896672, 'bagging_fraction': 0.5157537442881016, 'bagging_freq': 6, 'min_child_samples': 68, 'learning_rate': 0.020929649533413173}. Best is trial 52 with value: 0.4272755955197981.\n",
      "[I 2024-12-17 20:20:45,339] Trial 59 finished with value: 0.33210114646951683 and parameters: {'lambda_l1': 0.004796987395448098, 'lambda_l2': 0.005908424856960926, 'num_leaves': 29, 'feature_fraction': 0.7679094317821208, 'bagging_fraction': 0.5181488152008078, 'bagging_freq': 5, 'min_child_samples': 66, 'learning_rate': 0.021112056627294047}. Best is trial 52 with value: 0.4272755955197981.\n",
      "[I 2024-12-17 20:20:59,400] Trial 60 finished with value: 0.3389120782708106 and parameters: {'lambda_l1': 0.17902149145540303, 'lambda_l2': 0.17880586653597155, 'num_leaves': 12, 'feature_fraction': 0.6615350572162636, 'bagging_fraction': 0.5468956224363716, 'bagging_freq': 6, 'min_child_samples': 69, 'learning_rate': 0.016926418180224116}. Best is trial 52 with value: 0.4272755955197981.\n",
      "[I 2024-12-17 20:21:05,075] Trial 61 finished with value: 0.4192808254692524 and parameters: {'lambda_l1': 0.014618242019716314, 'lambda_l2': 0.004120191547758994, 'num_leaves': 3, 'feature_fraction': 0.8617143855392598, 'bagging_fraction': 0.4874292889178081, 'bagging_freq': 6, 'min_child_samples': 75, 'learning_rate': 0.014352976603321323}. Best is trial 52 with value: 0.4272755955197981.\n",
      "[I 2024-12-17 20:21:08,799] Trial 62 finished with value: 0.4270172135556751 and parameters: {'lambda_l1': 0.002247166345254554, 'lambda_l2': 0.0003965427430677626, 'num_leaves': 2, 'feature_fraction': 0.8537910437214379, 'bagging_fraction': 0.4757961656802401, 'bagging_freq': 7, 'min_child_samples': 74, 'learning_rate': 0.01121175694321753}. Best is trial 52 with value: 0.4272755955197981.\n",
      "[I 2024-12-17 20:21:26,751] Trial 63 finished with value: 0.33428405429673047 and parameters: {'lambda_l1': 0.0020508043056359873, 'lambda_l2': 0.0003642329775172012, 'num_leaves': 24, 'feature_fraction': 0.9007593290496972, 'bagging_fraction': 0.5891417687056212, 'bagging_freq': 7, 'min_child_samples': 70, 'learning_rate': 0.013066530348596915}. Best is trial 52 with value: 0.4272755955197981.\n",
      "[I 2024-12-17 20:21:42,871] Trial 64 finished with value: 0.3791270504649462 and parameters: {'lambda_l1': 0.0007026045673420709, 'lambda_l2': 0.00485471279874285, 'num_leaves': 11, 'feature_fraction': 0.9348170665791001, 'bagging_fraction': 0.520843772478751, 'bagging_freq': 7, 'min_child_samples': 61, 'learning_rate': 0.011141424800408051}. Best is trial 52 with value: 0.4272755955197981.\n",
      "[I 2024-12-17 20:21:58,386] Trial 65 finished with value: 0.34673024523160767 and parameters: {'lambda_l1': 0.005780945346501092, 'lambda_l2': 0.07739005050450354, 'num_leaves': 19, 'feature_fraction': 0.7942423474775316, 'bagging_fraction': 0.5628937872150653, 'bagging_freq': 7, 'min_child_samples': 76, 'learning_rate': 0.013740567562560809}. Best is trial 52 with value: 0.4272755955197981.\n",
      "[I 2024-12-17 20:22:11,616] Trial 66 finished with value: 0.3554212117229596 and parameters: {'lambda_l1': 7.072322604353859e-05, 'lambda_l2': 0.01464799231892842, 'num_leaves': 9, 'feature_fraction': 0.8563691853719473, 'bagging_fraction': 0.4796258192349528, 'bagging_freq': 6, 'min_child_samples': 67, 'learning_rate': 0.016155899131910595}. Best is trial 52 with value: 0.4272755955197981.\n",
      "[I 2024-12-17 20:22:33,074] Trial 67 finished with value: 0.3781601308914341 and parameters: {'lambda_l1': 0.00031222398533220345, 'lambda_l2': 9.777089695648391e-05, 'num_leaves': 33, 'feature_fraction': 0.8047874632643149, 'bagging_fraction': 0.5551650846288173, 'bagging_freq': 6, 'min_child_samples': 54, 'learning_rate': 0.015189972988312865}. Best is trial 52 with value: 0.4272755955197981.\n",
      "[I 2024-12-17 20:22:47,243] Trial 68 finished with value: 0.33828455685683867 and parameters: {'lambda_l1': 0.01566215353005852, 'lambda_l2': 0.542192724047412, 'num_leaves': 101, 'feature_fraction': 0.8963394045800785, 'bagging_fraction': 0.5137612474049389, 'bagging_freq': 7, 'min_child_samples': 80, 'learning_rate': 0.01981875717723024}. Best is trial 52 with value: 0.4272755955197981.\n",
      "[I 2024-12-17 20:23:06,982] Trial 69 finished with value: 0.3087023142766564 and parameters: {'lambda_l1': 0.05432209014206765, 'lambda_l2': 0.0010614850729193852, 'num_leaves': 53, 'feature_fraction': 0.8554195602462037, 'bagging_fraction': 0.6002242506983329, 'bagging_freq': 6, 'min_child_samples': 43, 'learning_rate': 0.06797011668696253}. Best is trial 52 with value: 0.4272755955197981.\n",
      "[I 2024-12-17 20:23:19,873] Trial 70 finished with value: 0.32264752791068574 and parameters: {'lambda_l1': 0.0012140918946733183, 'lambda_l2': 5.290458533430662e-05, 'num_leaves': 24, 'feature_fraction': 0.757539328223845, 'bagging_fraction': 0.45709781474248823, 'bagging_freq': 6, 'min_child_samples': 73, 'learning_rate': 0.018049688882712637}. Best is trial 52 with value: 0.4272755955197981.\n",
      "[I 2024-12-17 20:23:23,630] Trial 71 finished with value: 0.39825378970485836 and parameters: {'lambda_l1': 0.0034543917351194044, 'lambda_l2': 0.00031331031376646, 'num_leaves': 2, 'feature_fraction': 0.8024612031303615, 'bagging_fraction': 0.4820638239097551, 'bagging_freq': 5, 'min_child_samples': 75, 'learning_rate': 0.011852166693154004}. Best is trial 52 with value: 0.4272755955197981.\n",
      "[I 2024-12-17 20:23:27,513] Trial 72 finished with value: 0.3874759049046905 and parameters: {'lambda_l1': 0.0036480090860744347, 'lambda_l2': 0.0002109844433860884, 'num_leaves': 2, 'feature_fraction': 0.7775808107812232, 'bagging_fraction': 0.48741528718991706, 'bagging_freq': 5, 'min_child_samples': 66, 'learning_rate': 0.010695028273097536}. Best is trial 52 with value: 0.4272755955197981.\n",
      "[I 2024-12-17 20:23:39,164] Trial 73 finished with value: 0.34417776605565076 and parameters: {'lambda_l1': 0.002688294371544131, 'lambda_l2': 0.0005391263870506344, 'num_leaves': 10, 'feature_fraction': 0.8073592292990619, 'bagging_fraction': 0.4165109747491963, 'bagging_freq': 7, 'min_child_samples': 77, 'learning_rate': 0.0121228948044903}. Best is trial 52 with value: 0.4272755955197981.\n",
      "[I 2024-12-17 20:24:07,968] Trial 74 finished with value: 0.30265229666630467 and parameters: {'lambda_l1': 0.025588417611368618, 'lambda_l2': 0.00030338278201677186, 'num_leaves': 19, 'feature_fraction': 0.7261287158408392, 'bagging_fraction': 0.47319697333996374, 'bagging_freq': 6, 'min_child_samples': 10, 'learning_rate': 0.01009270785656842}. Best is trial 52 with value: 0.4272755955197981.\n",
      "[I 2024-12-17 20:24:23,992] Trial 75 finished with value: 0.3086782880889417 and parameters: {'lambda_l1': 0.0009209039186844713, 'lambda_l2': 0.0034378789722511174, 'num_leaves': 42, 'feature_fraction': 0.8480948939497424, 'bagging_fraction': 0.5308297529833941, 'bagging_freq': 6, 'min_child_samples': 72, 'learning_rate': 0.041487628883346284}. Best is trial 52 with value: 0.4272755955197981.\n",
      "[I 2024-12-17 20:24:38,038] Trial 76 finished with value: 0.3583942376190602 and parameters: {'lambda_l1': 0.00898549572084557, 'lambda_l2': 0.00853825192139222, 'num_leaves': 10, 'feature_fraction': 0.8273973185677983, 'bagging_fraction': 0.5051296707912729, 'bagging_freq': 5, 'min_child_samples': 75, 'learning_rate': 0.014197103751318337}. Best is trial 52 with value: 0.4272755955197981.\n",
      "[I 2024-12-17 20:25:01,649] Trial 77 finished with value: 0.3608541494494948 and parameters: {'lambda_l1': 0.07992596860616479, 'lambda_l2': 0.0012688680921383792, 'num_leaves': 19, 'feature_fraction': 0.8641463020915743, 'bagging_fraction': 0.9942048370766914, 'bagging_freq': 1, 'min_child_samples': 91, 'learning_rate': 0.013059577966514462}. Best is trial 52 with value: 0.4272755955197981.\n",
      "[I 2024-12-17 20:25:15,053] Trial 78 finished with value: 0.3580465455302754 and parameters: {'lambda_l1': 0.000153000577624475, 'lambda_l2': 0.00010755891403010921, 'num_leaves': 31, 'feature_fraction': 0.6867005896187706, 'bagging_fraction': 0.45198279620658155, 'bagging_freq': 6, 'min_child_samples': 82, 'learning_rate': 0.017342202942547406}. Best is trial 52 with value: 0.4272755955197981.\n",
      "[I 2024-12-17 20:25:33,383] Trial 79 finished with value: 0.33947085683588507 and parameters: {'lambda_l1': 0.02174346498966993, 'lambda_l2': 4.6881622878029666e-05, 'num_leaves': 64, 'feature_fraction': 0.9163630233724747, 'bagging_fraction': 0.5242504782912276, 'bagging_freq': 5, 'min_child_samples': 59, 'learning_rate': 0.02234108074457502}. Best is trial 52 with value: 0.4272755955197981.\n",
      "[I 2024-12-17 20:25:47,460] Trial 80 finished with value: 0.3701107695569218 and parameters: {'lambda_l1': 0.0005613925439025193, 'lambda_l2': 0.00042548465358747755, 'num_leaves': 7, 'feature_fraction': 0.8805078426382422, 'bagging_fraction': 0.5788479621976663, 'bagging_freq': 7, 'min_child_samples': 68, 'learning_rate': 0.011239255112439684}. Best is trial 52 with value: 0.4272755955197981.\n",
      "[I 2024-12-17 20:25:50,900] Trial 81 finished with value: 0.3979179828055045 and parameters: {'lambda_l1': 0.18104512492242025, 'lambda_l2': 1.9392701899436608, 'num_leaves': 2, 'feature_fraction': 0.7960428459478504, 'bagging_fraction': 0.4193202868341146, 'bagging_freq': 5, 'min_child_samples': 75, 'learning_rate': 0.011638927937221289}. Best is trial 52 with value: 0.4272755955197981.\n",
      "[I 2024-12-17 20:25:56,087] Trial 82 finished with value: 0.40757921220221727 and parameters: {'lambda_l1': 0.16199569451301232, 'lambda_l2': 1.1546557516022553, 'num_leaves': 3, 'feature_fraction': 0.7916906238500531, 'bagging_fraction': 0.41794379387249087, 'bagging_freq': 5, 'min_child_samples': 84, 'learning_rate': 0.01226636241053033}. Best is trial 52 with value: 0.4272755955197981.\n",
      "[I 2024-12-17 20:25:59,372] Trial 83 finished with value: 0.3974545754418758 and parameters: {'lambda_l1': 0.0432335362233908, 'lambda_l2': 2.346038141696371, 'num_leaves': 2, 'feature_fraction': 0.7500309203803318, 'bagging_fraction': 0.4174153206893814, 'bagging_freq': 5, 'min_child_samples': 78, 'learning_rate': 0.01231550423431203}. Best is trial 52 with value: 0.4272755955197981.\n",
      "[I 2024-12-17 20:26:09,046] Trial 84 finished with value: 0.37735428945645055 and parameters: {'lambda_l1': 0.005947017645814472, 'lambda_l2': 1.4718612252597312, 'num_leaves': 20, 'feature_fraction': 0.7295670089063486, 'bagging_fraction': 0.40087169064931966, 'bagging_freq': 5, 'min_child_samples': 85, 'learning_rate': 0.0134537498170408}. Best is trial 52 with value: 0.4272755955197981.\n",
      "[I 2024-12-17 20:26:20,654] Trial 85 finished with value: 0.35839919108059914 and parameters: {'lambda_l1': 0.20079665909808006, 'lambda_l2': 4.5387765238587505, 'num_leaves': 26, 'feature_fraction': 0.7713303203889684, 'bagging_fraction': 0.427241716387187, 'bagging_freq': 5, 'min_child_samples': 80, 'learning_rate': 0.011454108352457788}. Best is trial 52 with value: 0.4272755955197981.\n",
      "[I 2024-12-17 20:26:31,196] Trial 86 finished with value: 0.36860556722689064 and parameters: {'lambda_l1': 0.002790011455668833, 'lambda_l2': 0.7374390173543715, 'num_leaves': 11, 'feature_fraction': 0.8132472252931842, 'bagging_fraction': 0.451878106329793, 'bagging_freq': 4, 'min_child_samples': 90, 'learning_rate': 0.015576817326862752}. Best is trial 52 with value: 0.4272755955197981.\n",
      "[I 2024-12-17 20:26:47,027] Trial 87 finished with value: 0.3669494844015142 and parameters: {'lambda_l1': 8.536064027856055e-08, 'lambda_l2': 2.1462088175285934, 'num_leaves': 15, 'feature_fraction': 0.8271900773178756, 'bagging_fraction': 0.47786886515864985, 'bagging_freq': 5, 'min_child_samples': 64, 'learning_rate': 0.010774443743159254}. Best is trial 52 with value: 0.4272755955197981.\n",
      "[I 2024-12-17 20:27:01,113] Trial 88 finished with value: 0.32434264748890007 and parameters: {'lambda_l1': 0.03151388925767805, 'lambda_l2': 0.01942936407026881, 'num_leaves': 198, 'feature_fraction': 0.7985226372062877, 'bagging_fraction': 0.49833391436580815, 'bagging_freq': 5, 'min_child_samples': 75, 'learning_rate': 0.01255167344497122}. Best is trial 52 with value: 0.4272755955197981.\n",
      "[I 2024-12-17 20:27:11,314] Trial 89 finished with value: 0.35287977243665014 and parameters: {'lambda_l1': 0.07032447044214389, 'lambda_l2': 0.2905254618609676, 'num_leaves': 8, 'feature_fraction': 0.8376470873661698, 'bagging_fraction': 0.41274970192504107, 'bagging_freq': 6, 'min_child_samples': 83, 'learning_rate': 0.011787841912288835}. Best is trial 52 with value: 0.4272755955197981.\n",
      "[I 2024-12-17 20:27:24,502] Trial 90 finished with value: 0.3568667157584684 and parameters: {'lambda_l1': 0.015018163368338487, 'lambda_l2': 0.37039181268148763, 'num_leaves': 20, 'feature_fraction': 0.7720248783929489, 'bagging_fraction': 0.4591255441875667, 'bagging_freq': 7, 'min_child_samples': 79, 'learning_rate': 0.014223443519631179}. Best is trial 52 with value: 0.4272755955197981.\n",
      "[I 2024-12-17 20:27:29,560] Trial 91 finished with value: 0.3808174774679808 and parameters: {'lambda_l1': 0.04642194005975277, 'lambda_l2': 3.60771793023127, 'num_leaves': 3, 'feature_fraction': 0.7480250826473056, 'bagging_fraction': 0.4167354574302237, 'bagging_freq': 5, 'min_child_samples': 87, 'learning_rate': 0.012310936922208863}. Best is trial 52 with value: 0.4272755955197981.\n",
      "[I 2024-12-17 20:27:33,059] Trial 92 finished with value: 0.3772727272727272 and parameters: {'lambda_l1': 0.009578790960545338, 'lambda_l2': 9.643309574942752, 'num_leaves': 2, 'feature_fraction': 0.7860419642941965, 'bagging_fraction': 0.44259803248607704, 'bagging_freq': 5, 'min_child_samples': 74, 'learning_rate': 0.01035502901801972}. Best is trial 52 with value: 0.4272755955197981.\n",
      "[I 2024-12-17 20:27:43,566] Trial 93 finished with value: 0.33578411785076845 and parameters: {'lambda_l1': 0.12682315841116937, 'lambda_l2': 1.4097933312109896, 'num_leaves': 8, 'feature_fraction': 0.7515287713984627, 'bagging_fraction': 0.42562530555415473, 'bagging_freq': 5, 'min_child_samples': 78, 'learning_rate': 0.010974783320012251}. Best is trial 52 with value: 0.4272755955197981.\n",
      "[I 2024-12-17 20:27:57,278] Trial 94 finished with value: 0.3401085086674607 and parameters: {'lambda_l1': 0.8327220128138668, 'lambda_l2': 3.804858484754366, 'num_leaves': 15, 'feature_fraction': 0.8191730704919504, 'bagging_fraction': 0.468298971014979, 'bagging_freq': 5, 'min_child_samples': 83, 'learning_rate': 0.012961080631139175}. Best is trial 52 with value: 0.4272755955197981.\n",
      "[I 2024-12-17 20:28:07,976] Trial 95 finished with value: 0.3843608364235682 and parameters: {'lambda_l1': 0.03552162436400596, 'lambda_l2': 0.0875327756383643, 'num_leaves': 37, 'feature_fraction': 0.697450857588726, 'bagging_fraction': 0.4378729567395848, 'bagging_freq': 6, 'min_child_samples': 97, 'learning_rate': 0.014935922800069433}. Best is trial 52 with value: 0.4272755955197981.\n",
      "[I 2024-12-17 20:28:12,345] Trial 96 finished with value: 0.416512353843712 and parameters: {'lambda_l1': 0.017750252015539505, 'lambda_l2': 0.9745684144058145, 'num_leaves': 2, 'feature_fraction': 0.7295910202794842, 'bagging_fraction': 0.48764091341820465, 'bagging_freq': 4, 'min_child_samples': 70, 'learning_rate': 0.016309646742135094}. Best is trial 52 with value: 0.4272755955197981.\n",
      "[I 2024-12-17 20:28:30,029] Trial 97 finished with value: 0.31925918052824587 and parameters: {'lambda_l1': 0.0017444405727907704, 'lambda_l2': 0.8860468425839181, 'num_leaves': 115, 'feature_fraction': 0.7380139804802892, 'bagging_fraction': 0.5128421547505712, 'bagging_freq': 4, 'min_child_samples': 70, 'learning_rate': 0.024053482801529896}. Best is trial 52 with value: 0.4272755955197981.\n",
      "[I 2024-12-17 20:28:46,490] Trial 98 finished with value: 0.3311679720575783 and parameters: {'lambda_l1': 0.005371079778715106, 'lambda_l2': 0.049452664478367006, 'num_leaves': 24, 'feature_fraction': 0.8434633912850538, 'bagging_fraction': 0.49267678524220726, 'bagging_freq': 4, 'min_child_samples': 66, 'learning_rate': 0.016044788820412804}. Best is trial 52 with value: 0.4272755955197981.\n",
      "[I 2024-12-17 20:29:04,374] Trial 99 finished with value: 0.3083772998741262 and parameters: {'lambda_l1': 0.021870374567907618, 'lambda_l2': 0.0020812081327267686, 'num_leaves': 169, 'feature_fraction': 0.7777589474827118, 'bagging_fraction': 0.5431027158856581, 'bagging_freq': 4, 'min_child_samples': 71, 'learning_rate': 0.020085896755636892}. Best is trial 52 with value: 0.4272755955197981.\n"
     ]
    },
    {
     "name": "stdout",
     "output_type": "stream",
     "text": [
      "Number of finished trials: 100\n",
      "Best trial:\n",
      "  Value: 0.4272755955197981\n",
      "  Params:\n",
      "    lambda_l1: 0.3958754953528503\n",
      "    lambda_l2: 0.0004916199597661849\n",
      "    num_leaves: 2\n",
      "    feature_fraction: 0.7934382188979396\n",
      "    bagging_fraction: 0.5165364918441219\n",
      "    bagging_freq: 6\n",
      "    min_child_samples: 71\n",
      "    learning_rate: 0.016561741947618006\n"
     ]
    }
   ],
   "source": [
    "def objective_xgb(trial):\n",
    "    dtrain = xgb.DMatrix(X_train, label=y_train)\n",
    "    dvalid = xgb.DMatrix(X_val, label=y_val)\n",
    "\n",
    "    param = {\n",
    "        \"verbosity\": 0,\n",
    "        \"objective\": \"binary:logistic\",\n",
    "        # use exact for small dataset.\n",
    "        \"tree_method\": \"approx\",\n",
    "        # defines booster, gblinear for linear functions.\n",
    "        \"booster\": trial.suggest_categorical(\"booster\", [\"gbtree\", \"gblinear\", \"dart\"]),\n",
    "        # L2 regularization weight.\n",
    "        \"lambda\": trial.suggest_float(\"lambda\", 1e-8, 1.0, log=True),\n",
    "        # L1 regularization weight.\n",
    "        \"alpha\": trial.suggest_float(\"alpha\", 1e-8, 1.0, log=True),\n",
    "        # sampling ratio for training data.\n",
    "        \"subsample\": trial.suggest_float(\"subsample\", 0.2, 1.0),\n",
    "        # sampling according to each tree.\n",
    "        \"colsample_bytree\": trial.suggest_float(\"colsample_bytree\", 0.2, 1.0),\n",
    "        \"learning_rate\": 0.05\n",
    "    }\n",
    "\n",
    "    if param[\"booster\"] in [\"gbtree\", \"dart\"]:\n",
    "        # maximum depth of the tree, signifies complexity of the tree.\n",
    "        param[\"max_depth\"] = trial.suggest_int(\"max_depth\", 3, 9, step=2)\n",
    "        # minimum child weight, larger the term more conservative the tree.\n",
    "        param[\"min_child_weight\"] = trial.suggest_int(\"min_child_weight\", 2, 10)\n",
    "        param[\"eta\"] = trial.suggest_float(\"eta\", 1e-8, 1.0, log=True)\n",
    "        # defines how selective algorithm is.\n",
    "        param[\"gamma\"] = trial.suggest_float(\"gamma\", 1e-8, 1.0, log=True)\n",
    "        param[\"grow_policy\"] = trial.suggest_categorical(\"grow_policy\", [\"depthwise\", \"lossguide\"])\n",
    "\n",
    "    if param[\"booster\"] == \"dart\":\n",
    "        param[\"sample_type\"] = trial.suggest_categorical(\"sample_type\", [\"uniform\", \"weighted\"])\n",
    "        param[\"normalize_type\"] = trial.suggest_categorical(\"normalize_type\", [\"tree\", \"forest\"])\n",
    "        param[\"rate_drop\"] = trial.suggest_float(\"rate_drop\", 1e-8, 1.0, log=True)\n",
    "        param[\"skip_drop\"] = trial.suggest_float(\"skip_drop\", 1e-8, 1.0, log=True)\n",
    "\n",
    "    bst = xgb.train(param, dtrain)\n",
    "    preds = bst.predict(dvalid)\n",
    "    pred_labels = np.rint(preds)\n",
    "    accuracy = sklearn.metrics.accuracy_score(y_val, pred_labels)\n",
    "    return accuracy\n",
    "\n",
    "# Create a study that tries to maximize accuracy\n",
    "study = optuna.create_study(direction=\"maximize\")\n",
    "study.optimize(objective, n_trials=100)\n",
    "\n",
    "print(\"Number of finished trials:\", len(study.trials))\n",
    "print(\"Best trial:\")\n",
    "best_trial = study.best_trial\n",
    "print(\"  Value:\", best_trial.value)\n",
    "print(\"  Params:\")\n",
    "for key, value in best_trial.params.items():\n",
    "    print(f\"    {key}: {value}\")"
   ]
  },
  {
   "cell_type": "code",
   "execution_count": 14,
   "id": "5646e6e3",
   "metadata": {
    "execution": {
     "iopub.execute_input": "2024-12-17T20:29:04.439391Z",
     "iopub.status.busy": "2024-12-17T20:29:04.438915Z",
     "iopub.status.idle": "2024-12-17T20:29:04.446743Z",
     "shell.execute_reply": "2024-12-17T20:29:04.445642Z"
    },
    "papermill": {
     "duration": 0.027656,
     "end_time": "2024-12-17T20:29:04.448958",
     "exception": false,
     "start_time": "2024-12-17T20:29:04.421302",
     "status": "completed"
    },
    "tags": []
   },
   "outputs": [
    {
     "data": {
      "text/plain": [
       "{'lambda_l1': 0.3958754953528503,\n",
       " 'lambda_l2': 0.0004916199597661849,\n",
       " 'num_leaves': 2,\n",
       " 'feature_fraction': 0.7934382188979396,\n",
       " 'bagging_fraction': 0.5165364918441219,\n",
       " 'bagging_freq': 6,\n",
       " 'min_child_samples': 71,\n",
       " 'learning_rate': 0.016561741947618006}"
      ]
     },
     "execution_count": 14,
     "metadata": {},
     "output_type": "execute_result"
    }
   ],
   "source": [
    "study.best_params"
   ]
  },
  {
   "cell_type": "code",
   "execution_count": 15,
   "id": "b4b7dd4d",
   "metadata": {
    "execution": {
     "iopub.execute_input": "2024-12-17T20:29:04.483134Z",
     "iopub.status.busy": "2024-12-17T20:29:04.482737Z",
     "iopub.status.idle": "2024-12-17T20:29:04.489939Z",
     "shell.execute_reply": "2024-12-17T20:29:04.488814Z"
    },
    "papermill": {
     "duration": 0.02672,
     "end_time": "2024-12-17T20:29:04.491984",
     "exception": false,
     "start_time": "2024-12-17T20:29:04.465264",
     "status": "completed"
    },
    "tags": []
   },
   "outputs": [
    {
     "data": {
      "text/plain": [
       "{'lambda_l1': 0.3958754953528503,\n",
       " 'lambda_l2': 0.0004916199597661849,\n",
       " 'num_leaves': 2,\n",
       " 'feature_fraction': 0.7934382188979396,\n",
       " 'bagging_fraction': 0.5165364918441219,\n",
       " 'bagging_freq': 6,\n",
       " 'min_child_samples': 71,\n",
       " 'learning_rate': 0.016561741947618006}"
      ]
     },
     "execution_count": 15,
     "metadata": {},
     "output_type": "execute_result"
    }
   ],
   "source": [
    "study.best_params"
   ]
  },
  {
   "cell_type": "code",
   "execution_count": 16,
   "id": "cd3531f5",
   "metadata": {
    "execution": {
     "iopub.execute_input": "2024-12-17T20:29:04.526350Z",
     "iopub.status.busy": "2024-12-17T20:29:04.525957Z",
     "iopub.status.idle": "2024-12-17T20:29:04.531776Z",
     "shell.execute_reply": "2024-12-17T20:29:04.530704Z"
    },
    "papermill": {
     "duration": 0.025709,
     "end_time": "2024-12-17T20:29:04.533899",
     "exception": false,
     "start_time": "2024-12-17T20:29:04.508190",
     "status": "completed"
    },
    "tags": []
   },
   "outputs": [],
   "source": [
    "def objective_ridge(trial):\n",
    "    # Load dataset\n",
    "    # Suggest hyperparameters\n",
    "    alpha = trial.suggest_float (\"alpha\", 0.0, 1.0)\n",
    "    # Train and evaluate model\n",
    "    model = Ridge(alpha=alpha)\n",
    "    model.fit(X_train, y_train)\n",
    "    y_pred = model.predict(X_val)\n",
    "    score = mean_squared_error(y_val, y_val)\n",
    "    return score"
   ]
  },
  {
   "cell_type": "code",
   "execution_count": 17,
   "id": "4825e448",
   "metadata": {
    "execution": {
     "iopub.execute_input": "2024-12-17T20:29:04.568768Z",
     "iopub.status.busy": "2024-12-17T20:29:04.568323Z",
     "iopub.status.idle": "2024-12-17T20:54:47.786616Z",
     "shell.execute_reply": "2024-12-17T20:54:47.785610Z"
    },
    "papermill": {
     "duration": 1543.25762,
     "end_time": "2024-12-17T20:54:47.808018",
     "exception": false,
     "start_time": "2024-12-17T20:29:04.550398",
     "status": "completed"
    },
    "tags": []
   },
   "outputs": [
    {
     "name": "stderr",
     "output_type": "stream",
     "text": [
      "[I 2024-12-17 20:29:04,570] A new study created in memory with name: no-name-6202bd3f-5a44-4a5e-88c2-e6600b666fda\n",
      "[I 2024-12-17 20:29:28,187] Trial 0 finished with value: 0.30128447298828864 and parameters: {'lambda_l1': 1.807036856812152e-06, 'lambda_l2': 0.00016406690014671014, 'num_leaves': 72, 'feature_fraction': 0.5965549901115533, 'bagging_fraction': 0.9338399634333298, 'bagging_freq': 2, 'min_child_samples': 75, 'learning_rate': 0.07149787048839838}. Best is trial 0 with value: 0.30128447298828864.\n",
      "[I 2024-12-17 20:29:49,322] Trial 1 finished with value: 0.30456852791878164 and parameters: {'lambda_l1': 4.0955798221336083e-07, 'lambda_l2': 0.017221614774990474, 'num_leaves': 182, 'feature_fraction': 0.6422700054964624, 'bagging_fraction': 0.9753467208698285, 'bagging_freq': 1, 'min_child_samples': 91, 'learning_rate': 0.07894012800017834}. Best is trial 0 with value: 0.30128447298828864.\n",
      "[I 2024-12-17 20:30:09,457] Trial 2 finished with value: 0.3680304853590053 and parameters: {'lambda_l1': 2.0166589543572468e-05, 'lambda_l2': 0.07766161224585431, 'num_leaves': 35, 'feature_fraction': 0.9261973521542942, 'bagging_fraction': 0.6358365045997649, 'bagging_freq': 7, 'min_child_samples': 82, 'learning_rate': 0.010395524111916426}. Best is trial 0 with value: 0.30128447298828864.\n",
      "[I 2024-12-17 20:30:57,655] Trial 3 finished with value: 0.29339760526167846 and parameters: {'lambda_l1': 0.00039668148815910116, 'lambda_l2': 0.0013160620332034998, 'num_leaves': 233, 'feature_fraction': 0.8727121920984732, 'bagging_fraction': 0.5382146955894734, 'bagging_freq': 3, 'min_child_samples': 21, 'learning_rate': 0.018246373043107278}. Best is trial 3 with value: 0.29339760526167846.\n",
      "[I 2024-12-17 20:31:13,798] Trial 4 finished with value: 0.3826241878012995 and parameters: {'lambda_l1': 7.790301289533446e-06, 'lambda_l2': 0.5443685430127431, 'num_leaves': 35, 'feature_fraction': 0.6534623389869187, 'bagging_fraction': 0.6897053249333789, 'bagging_freq': 1, 'min_child_samples': 97, 'learning_rate': 0.011160421517181048}. Best is trial 3 with value: 0.29339760526167846.\n",
      "[I 2024-12-17 20:31:26,666] Trial 5 finished with value: 0.30326649847297826 and parameters: {'lambda_l1': 0.7408557253581017, 'lambda_l2': 7.935631936441754e-05, 'num_leaves': 69, 'feature_fraction': 0.8422221866946661, 'bagging_fraction': 0.6669402215198185, 'bagging_freq': 3, 'min_child_samples': 38, 'learning_rate': 0.09186276359158527}. Best is trial 3 with value: 0.29339760526167846.\n",
      "[I 2024-12-17 20:31:38,492] Trial 6 finished with value: 0.39220752107309687 and parameters: {'lambda_l1': 1.0165380678803408, 'lambda_l2': 2.6240434062753415e-06, 'num_leaves': 26, 'feature_fraction': 0.7128066498455524, 'bagging_fraction': 0.5292037867871802, 'bagging_freq': 5, 'min_child_samples': 94, 'learning_rate': 0.011021116162309334}. Best is trial 3 with value: 0.29339760526167846.\n",
      "[I 2024-12-17 20:31:53,011] Trial 7 finished with value: 0.3328277183458407 and parameters: {'lambda_l1': 1.390052148703668, 'lambda_l2': 0.003792578004395071, 'num_leaves': 175, 'feature_fraction': 0.5453122132801875, 'bagging_fraction': 0.9713636731652744, 'bagging_freq': 3, 'min_child_samples': 93, 'learning_rate': 0.03666395541174973}. Best is trial 3 with value: 0.29339760526167846.\n",
      "[I 2024-12-17 20:32:09,347] Trial 8 finished with value: 0.28723488970881006 and parameters: {'lambda_l1': 1.2173685847317308e-07, 'lambda_l2': 3.410640260709462e-05, 'num_leaves': 58, 'feature_fraction': 0.7599141262226954, 'bagging_fraction': 0.5247913552554778, 'bagging_freq': 2, 'min_child_samples': 80, 'learning_rate': 0.03005812050197274}. Best is trial 8 with value: 0.28723488970881006.\n",
      "[I 2024-12-17 20:32:27,988] Trial 9 finished with value: 0.3145355932203391 and parameters: {'lambda_l1': 2.262396616351699e-07, 'lambda_l2': 1.9734780385243835, 'num_leaves': 21, 'feature_fraction': 0.521199860196128, 'bagging_fraction': 0.7283330847678551, 'bagging_freq': 1, 'min_child_samples': 69, 'learning_rate': 0.013819485954234266}. Best is trial 8 with value: 0.28723488970881006.\n",
      "[I 2024-12-17 20:32:47,778] Trial 10 finished with value: 0.3019060210433536 and parameters: {'lambda_l1': 1.7237149286263174e-08, 'lambda_l2': 2.5579325330152566e-08, 'num_leaves': 108, 'feature_fraction': 0.7718436247922705, 'bagging_fraction': 0.4323066032501452, 'bagging_freq': 5, 'min_child_samples': 55, 'learning_rate': 0.03085126938610126}. Best is trial 8 with value: 0.28723488970881006.\n",
      "[I 2024-12-17 20:33:53,731] Trial 11 finished with value: 0.2803443759209737 and parameters: {'lambda_l1': 0.0021245231148703542, 'lambda_l2': 3.398078257966461e-06, 'num_leaves': 232, 'feature_fraction': 0.9953775089809016, 'bagging_fraction': 0.5061777853425261, 'bagging_freq': 3, 'min_child_samples': 12, 'learning_rate': 0.022054829242965594}. Best is trial 11 with value: 0.2803443759209737.\n",
      "[I 2024-12-17 20:34:59,321] Trial 12 finished with value: 0.2245981358908551 and parameters: {'lambda_l1': 0.008638290489531169, 'lambda_l2': 4.276639609213897e-07, 'num_leaves': 251, 'feature_fraction': 0.9750971113373583, 'bagging_fraction': 0.4010789247698506, 'bagging_freq': 4, 'min_child_samples': 6, 'learning_rate': 0.025662196064358354}. Best is trial 12 with value: 0.2245981358908551.\n",
      "[I 2024-12-17 20:36:27,219] Trial 13 finished with value: 0.2883969953651909 and parameters: {'lambda_l1': 0.005796679872408531, 'lambda_l2': 1.990432552529063e-07, 'num_leaves': 252, 'feature_fraction': 0.995124724565287, 'bagging_fraction': 0.45689776711830327, 'bagging_freq': 5, 'min_child_samples': 5, 'learning_rate': 0.020369886138912895}. Best is trial 12 with value: 0.2245981358908551.\n",
      "[I 2024-12-17 20:37:05,327] Trial 14 finished with value: 0.2951046508503721 and parameters: {'lambda_l1': 0.007053693304868558, 'lambda_l2': 2.0575705582683342e-06, 'num_leaves': 205, 'feature_fraction': 0.4076730200769302, 'bagging_fraction': 0.4085647990498523, 'bagging_freq': 4, 'min_child_samples': 8, 'learning_rate': 0.05010901873775449}. Best is trial 12 with value: 0.2245981358908551.\n",
      "[I 2024-12-17 20:37:55,075] Trial 15 finished with value: 0.29031026773542723 and parameters: {'lambda_l1': 0.01476231444441547, 'lambda_l2': 2.550958196576169e-06, 'num_leaves': 139, 'feature_fraction': 0.9959638474116209, 'bagging_fraction': 0.7794479973571917, 'bagging_freq': 7, 'min_child_samples': 28, 'learning_rate': 0.022002556752763608}. Best is trial 12 with value: 0.2245981358908551.\n",
      "[I 2024-12-17 20:38:42,305] Trial 16 finished with value: 0.30061471084845937 and parameters: {'lambda_l1': 0.00030830415891970505, 'lambda_l2': 1.0946687530288254e-08, 'num_leaves': 220, 'feature_fraction': 0.8878107104650907, 'bagging_fraction': 0.5964197024143286, 'bagging_freq': 4, 'min_child_samples': 22, 'learning_rate': 0.045470833449081156}. Best is trial 12 with value: 0.2245981358908551.\n",
      "[I 2024-12-17 20:39:05,424] Trial 17 finished with value: 0.2991070242113375 and parameters: {'lambda_l1': 0.14123309668616174, 'lambda_l2': 2.1515760093823307e-07, 'num_leaves': 256, 'feature_fraction': 0.9423803853225416, 'bagging_fraction': 0.4837807839098892, 'bagging_freq': 6, 'min_child_samples': 44, 'learning_rate': 0.024371594864196277}. Best is trial 12 with value: 0.2245981358908551.\n",
      "[I 2024-12-17 20:40:45,720] Trial 18 finished with value: 0.3102055495615127 and parameters: {'lambda_l1': 0.00034275959154544716, 'lambda_l2': 1.7700422405530103e-05, 'num_leaves': 156, 'feature_fraction': 0.828154090567027, 'bagging_fraction': 0.8419025200683772, 'bagging_freq': 4, 'min_child_samples': 13, 'learning_rate': 0.015044189422089866}. Best is trial 12 with value: 0.2245981358908551.\n",
      "[I 2024-12-17 20:41:16,186] Trial 19 finished with value: 0.29205274411974347 and parameters: {'lambda_l1': 0.049718945502353576, 'lambda_l2': 1.8451719489674793e-07, 'num_leaves': 198, 'feature_fraction': 0.9336719641029362, 'bagging_fraction': 0.5883128555843308, 'bagging_freq': 2, 'min_child_samples': 34, 'learning_rate': 0.027049262785198185}. Best is trial 12 with value: 0.2245981358908551.\n",
      "[I 2024-12-17 20:41:31,735] Trial 20 finished with value: 0.3258087498021004 and parameters: {'lambda_l1': 0.0018184948888198592, 'lambda_l2': 8.389757618818454e-06, 'num_leaves': 107, 'feature_fraction': 0.7920117991334982, 'bagging_fraction': 0.4076059650581911, 'bagging_freq': 6, 'min_child_samples': 52, 'learning_rate': 0.03826906842137865}. Best is trial 12 with value: 0.2245981358908551.\n",
      "[I 2024-12-17 20:41:49,861] Trial 21 finished with value: 0.29034304138696543 and parameters: {'lambda_l1': 9.199294860596857e-05, 'lambda_l2': 3.569607642382442e-05, 'num_leaves': 227, 'feature_fraction': 0.7165996614587086, 'bagging_fraction': 0.5157436452199328, 'bagging_freq': 2, 'min_child_samples': 65, 'learning_rate': 0.029325647674080656}. Best is trial 12 with value: 0.2245981358908551.\n",
      "[I 2024-12-17 20:41:55,603] Trial 22 finished with value: 0.3481912659809159 and parameters: {'lambda_l1': 7.020145578519493, 'lambda_l2': 0.00046795784921406535, 'num_leaves': 3, 'feature_fraction': 0.9905738006179168, 'bagging_fraction': 0.4883003422096608, 'bagging_freq': 3, 'min_child_samples': 16, 'learning_rate': 0.01753924109067146}. Best is trial 12 with value: 0.2245981358908551.\n",
      "[I 2024-12-17 20:42:11,926] Trial 23 finished with value: 0.31133452245824544 and parameters: {'lambda_l1': 1.7547620443567895e-08, 'lambda_l2': 4.839553109045625e-07, 'num_leaves': 69, 'feature_fraction': 0.7521641007795917, 'bagging_fraction': 0.5650593068836404, 'bagging_freq': 2, 'min_child_samples': 81, 'learning_rate': 0.050993421938408945}. Best is trial 12 with value: 0.2245981358908551.\n",
      "[I 2024-12-17 20:42:27,241] Trial 24 finished with value: 0.30359592264866464 and parameters: {'lambda_l1': 0.0015743299418244563, 'lambda_l2': 4.9989405053278695e-08, 'num_leaves': 110, 'feature_fraction': 0.8799644374117113, 'bagging_fraction': 0.46075988235163656, 'bagging_freq': 4, 'min_child_samples': 60, 'learning_rate': 0.024572696450984866}. Best is trial 12 with value: 0.2245981358908551.\n",
      "[I 2024-12-17 20:42:50,970] Trial 25 finished with value: 0.27385818617833013 and parameters: {'lambda_l1': 0.06885535795666024, 'lambda_l2': 1.1426693920907918e-05, 'num_leaves': 237, 'feature_fraction': 0.9475260603849495, 'bagging_fraction': 0.6170502719931019, 'bagging_freq': 3, 'min_child_samples': 44, 'learning_rate': 0.03824105940855297}. Best is trial 12 with value: 0.2245981358908551.\n",
      "[I 2024-12-17 20:43:18,983] Trial 26 finished with value: 0.3027530193555191 and parameters: {'lambda_l1': 0.15934080022484826, 'lambda_l2': 1.0826747646394298e-06, 'num_leaves': 236, 'feature_fraction': 0.9447412389038655, 'bagging_fraction': 0.6334636602381947, 'bagging_freq': 3, 'min_child_samples': 26, 'learning_rate': 0.038584753141118665}. Best is trial 12 with value: 0.2245981358908551.\n",
      "[I 2024-12-17 20:43:58,904] Trial 27 finished with value: 0.3143310546875 and parameters: {'lambda_l1': 0.03444076181338805, 'lambda_l2': 8.716889517255404e-06, 'num_leaves': 195, 'feature_fraction': 0.9097272438824778, 'bagging_fraction': 0.7619195255760411, 'bagging_freq': 5, 'min_child_samples': 13, 'learning_rate': 0.035558687569030745}. Best is trial 12 with value: 0.2245981358908551.\n",
      "[I 2024-12-17 20:44:24,159] Trial 28 finished with value: 0.28843997009186073 and parameters: {'lambda_l1': 0.0030984177418423658, 'lambda_l2': 0.0004459020690193908, 'num_leaves': 221, 'feature_fraction': 0.9631284771928996, 'bagging_fraction': 0.6184247029413259, 'bagging_freq': 3, 'min_child_samples': 43, 'learning_rate': 0.05819852318897325}. Best is trial 12 with value: 0.2245981358908551.\n",
      "[I 2024-12-17 20:45:03,833] Trial 29 finished with value: 0.29286692223439215 and parameters: {'lambda_l1': 0.14532224623124407, 'lambda_l2': 0.0002030973237665127, 'num_leaves': 245, 'feature_fraction': 0.8529777692302818, 'bagging_fraction': 0.8367921495868841, 'bagging_freq': 4, 'min_child_samples': 30, 'learning_rate': 0.016002988610009802}. Best is trial 12 with value: 0.2245981358908551.\n",
      "[I 2024-12-17 20:45:51,252] Trial 30 finished with value: 0.31902137793531227 and parameters: {'lambda_l1': 3.255376553881027e-05, 'lambda_l2': 5.6858912811571256e-08, 'num_leaves': 163, 'feature_fraction': 0.8219142151691085, 'bagging_fraction': 0.5656794517514188, 'bagging_freq': 4, 'min_child_samples': 20, 'learning_rate': 0.021324470797615014}. Best is trial 12 with value: 0.2245981358908551.\n",
      "[I 2024-12-17 20:46:07,067] Trial 31 finished with value: 0.2907071718395954 and parameters: {'lambda_l1': 0.02471709524447134, 'lambda_l2': 2.7258622460035493e-05, 'num_leaves': 211, 'feature_fraction': 0.9694914301578119, 'bagging_fraction': 0.49721283327000904, 'bagging_freq': 2, 'min_child_samples': 77, 'learning_rate': 0.026315542865754573}. Best is trial 12 with value: 0.2245981358908551.\n",
      "[I 2024-12-17 20:46:18,799] Trial 32 finished with value: 0.2926424488290613 and parameters: {'lambda_l1': 1.3175715772886828e-06, 'lambda_l2': 6.0360899633652286e-06, 'num_leaves': 88, 'feature_fraction': 0.9083579545396381, 'bagging_fraction': 0.45511437667441346, 'bagging_freq': 2, 'min_child_samples': 86, 'learning_rate': 0.033749708497996606}. Best is trial 12 with value: 0.2245981358908551.\n",
      "[I 2024-12-17 20:46:34,507] Trial 33 finished with value: 0.31747346129829224 and parameters: {'lambda_l1': 1.2757537015407373e-07, 'lambda_l2': 6.188938698045794e-05, 'num_leaves': 240, 'feature_fraction': 0.6578438441026663, 'bagging_fraction': 0.5334722472686162, 'bagging_freq': 2, 'min_child_samples': 71, 'learning_rate': 0.04535443839685949}. Best is trial 12 with value: 0.2245981358908551.\n",
      "[I 2024-12-17 20:46:52,870] Trial 34 finished with value: 0.2868806154839404 and parameters: {'lambda_l1': 0.0008314619325109444, 'lambda_l2': 6.809439403726135e-07, 'num_leaves': 185, 'feature_fraction': 0.5641968103683785, 'bagging_fraction': 0.5669193717460119, 'bagging_freq': 3, 'min_child_samples': 49, 'learning_rate': 0.06007311199072214}. Best is trial 12 with value: 0.2245981358908551.\n",
      "[I 2024-12-17 20:47:14,354] Trial 35 finished with value: 0.28279993523665614 and parameters: {'lambda_l1': 0.001094202752763852, 'lambda_l2': 7.063527873993242e-07, 'num_leaves': 182, 'feature_fraction': 0.5782772837309732, 'bagging_fraction': 0.6611936627582956, 'bagging_freq': 3, 'min_child_samples': 48, 'learning_rate': 0.06862912252638668}. Best is trial 12 with value: 0.2245981358908551.\n",
      "[I 2024-12-17 20:47:40,494] Trial 36 finished with value: 0.32103524229074887 and parameters: {'lambda_l1': 4.615170001524984e-05, 'lambda_l2': 5.005743056317508e-07, 'num_leaves': 213, 'feature_fraction': 0.4837072943081696, 'bagging_fraction': 0.7128849009497649, 'bagging_freq': 3, 'min_child_samples': 39, 'learning_rate': 0.07161553083620151}. Best is trial 12 with value: 0.2245981358908551.\n",
      "[I 2024-12-17 20:48:00,571] Trial 37 finished with value: 0.2987737352456582 and parameters: {'lambda_l1': 0.00011444300695594278, 'lambda_l2': 3.8875609584889065e-06, 'num_leaves': 232, 'feature_fraction': 0.6179273222992337, 'bagging_fraction': 0.6693512769912519, 'bagging_freq': 3, 'min_child_samples': 58, 'learning_rate': 0.09159294760125858}. Best is trial 12 with value: 0.2245981358908551.\n",
      "[I 2024-12-17 20:48:27,673] Trial 38 finished with value: 0.275575673544844 and parameters: {'lambda_l1': 0.005318509293425211, 'lambda_l2': 0.002623794606588886, 'num_leaves': 184, 'feature_fraction': 0.6836375465608737, 'bagging_fraction': 0.6688179474443021, 'bagging_freq': 1, 'min_child_samples': 8, 'learning_rate': 0.07762569237558543}. Best is trial 12 with value: 0.2245981358908551.\n",
      "[I 2024-12-17 20:50:03,029] Trial 39 finished with value: 0.31486824389305634 and parameters: {'lambda_l1': 6.879224739839523e-06, 'lambda_l2': 0.007402585896861509, 'num_leaves': 164, 'feature_fraction': 0.7038577690640337, 'bagging_fraction': 0.753698184131324, 'bagging_freq': 1, 'min_child_samples': 9, 'learning_rate': 0.013731910661623265}. Best is trial 12 with value: 0.2245981358908551.\n",
      "[I 2024-12-17 20:50:20,253] Trial 40 finished with value: 0.2973329425556859 and parameters: {'lambda_l1': 0.38017944679963683, 'lambda_l2': 0.08835644711408588, 'num_leaves': 139, 'feature_fraction': 0.6538637406856755, 'bagging_fraction': 0.607259920571483, 'bagging_freq': 1, 'min_child_samples': 16, 'learning_rate': 0.08131687840059523}. Best is trial 12 with value: 0.2245981358908551.\n",
      "[I 2024-12-17 20:50:50,824] Trial 41 finished with value: 0.2929366623432771 and parameters: {'lambda_l1': 0.00874513241865153, 'lambda_l2': 0.001149519764329283, 'num_leaves': 188, 'feature_fraction': 0.6181552541073511, 'bagging_fraction': 0.6606530728443122, 'bagging_freq': 4, 'min_child_samples': 9, 'learning_rate': 0.06626242895946449}. Best is trial 12 with value: 0.2245981358908551.\n",
      "[I 2024-12-17 20:51:15,172] Trial 42 finished with value: 0.28655169706644323 and parameters: {'lambda_l1': 0.06431740974810433, 'lambda_l2': 0.03620581923674432, 'num_leaves': 178, 'feature_fraction': 0.47849464323946045, 'bagging_fraction': 0.6966513454467136, 'bagging_freq': 3, 'min_child_samples': 5, 'learning_rate': 0.08101810324732953}. Best is trial 12 with value: 0.2245981358908551.\n",
      "[I 2024-12-17 20:51:39,064] Trial 43 finished with value: 0.2962265173900078 and parameters: {'lambda_l1': 0.0009355749496496362, 'lambda_l2': 0.0025001545244131766, 'num_leaves': 249, 'feature_fraction': 0.5704513867868587, 'bagging_fraction': 0.6585263573491194, 'bagging_freq': 5, 'min_child_samples': 23, 'learning_rate': 0.09591905321590898}. Best is trial 12 with value: 0.2245981358908551.\n",
      "[I 2024-12-17 20:52:18,673] Trial 44 finished with value: 0.30840264857174127 and parameters: {'lambda_l1': 0.015187947076473732, 'lambda_l2': 0.0001205858328769692, 'num_leaves': 203, 'feature_fraction': 0.6753667657019563, 'bagging_fraction': 0.799369183713841, 'bagging_freq': 1, 'min_child_samples': 33, 'learning_rate': 0.019092497483974468}. Best is trial 12 with value: 0.2245981358908551.\n",
      "[I 2024-12-17 20:52:40,607] Trial 45 finished with value: 0.308690428514217 and parameters: {'lambda_l1': 0.003705302458047427, 'lambda_l2': 1.1544447143023667e-06, 'num_leaves': 224, 'feature_fraction': 0.965347949897598, 'bagging_fraction': 0.6392868648770672, 'bagging_freq': 4, 'min_child_samples': 47, 'learning_rate': 0.06995742757405553}. Best is trial 12 with value: 0.2245981358908551.\n",
      "[I 2024-12-17 20:53:18,406] Trial 46 finished with value: 0.2917905450649526 and parameters: {'lambda_l1': 0.00026209307475411867, 'lambda_l2': 8.202328212985659, 'num_leaves': 240, 'feature_fraction': 0.7387579012806197, 'bagging_fraction': 0.7226343236228274, 'bagging_freq': 3, 'min_child_samples': 17, 'learning_rate': 0.06092483891646682}. Best is trial 12 with value: 0.2245981358908551.\n",
      "[I 2024-12-17 20:53:35,891] Trial 47 finished with value: 0.31240322494527206 and parameters: {'lambda_l1': 2.1341300710818034, 'lambda_l2': 9.842846392930845e-08, 'num_leaves': 142, 'feature_fraction': 0.5201982247921271, 'bagging_fraction': 0.4277545526779344, 'bagging_freq': 1, 'min_child_samples': 12, 'learning_rate': 0.04096063566141774}. Best is trial 12 with value: 0.2245981358908551.\n",
      "[I 2024-12-17 20:54:04,512] Trial 48 finished with value: 0.2844219481988046 and parameters: {'lambda_l1': 0.0006572775112916751, 'lambda_l2': 0.2235135034686292, 'num_leaves': 212, 'feature_fraction': 0.9111232006365216, 'bagging_fraction': 0.6822144274231907, 'bagging_freq': 5, 'min_child_samples': 39, 'learning_rate': 0.05107481761290149}. Best is trial 12 with value: 0.2245981358908551.\n",
      "[I 2024-12-17 20:54:47,782] Trial 49 finished with value: 0.31650080511047163 and parameters: {'lambda_l1': 0.39842259155867626, 'lambda_l2': 1.3206495673884262e-08, 'num_leaves': 173, 'feature_fraction': 0.7993523614145525, 'bagging_fraction': 0.5563667422861267, 'bagging_freq': 3, 'min_child_samples': 5, 'learning_rate': 0.02376742620650124}. Best is trial 12 with value: 0.2245981358908551.\n"
     ]
    }
   ],
   "source": [
    "# Create a study object\n",
    "study = optuna.create_study(direction=\"minimize\")\n",
    "\n",
    "# Optimize the objective function\n",
    "study.optimize(objective, n_trials=50)"
   ]
  }
 ],
 "metadata": {
  "kaggle": {
   "accelerator": "none",
   "dataSources": [
    {
     "datasetId": 6307015,
     "sourceId": 10205783,
     "sourceType": "datasetVersion"
    }
   ],
   "dockerImageVersionId": 30804,
   "isGpuEnabled": false,
   "isInternetEnabled": true,
   "language": "python",
   "sourceType": "notebook"
  },
  "kernelspec": {
   "display_name": "Python 3",
   "language": "python",
   "name": "python3"
  },
  "language_info": {
   "codemirror_mode": {
    "name": "ipython",
    "version": 3
   },
   "file_extension": ".py",
   "mimetype": "text/x-python",
   "name": "python",
   "nbconvert_exporter": "python",
   "pygments_lexer": "ipython3",
   "version": "3.10.14"
  },
  "papermill": {
   "default_parameters": {},
   "duration": 4686.95337,
   "end_time": "2024-12-17T20:54:48.648399",
   "environment_variables": {},
   "exception": null,
   "input_path": "__notebook__.ipynb",
   "output_path": "__notebook__.ipynb",
   "parameters": {},
   "start_time": "2024-12-17T19:36:41.695029",
   "version": "2.6.0"
  }
 },
 "nbformat": 4,
 "nbformat_minor": 5
}
