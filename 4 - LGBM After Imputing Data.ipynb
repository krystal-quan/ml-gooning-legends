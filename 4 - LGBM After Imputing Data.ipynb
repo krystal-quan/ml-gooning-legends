{
 "cells": [
  {
   "cell_type": "code",
   "execution_count": 1,
   "id": "69b28dbf",
   "metadata": {
    "_cell_guid": "b1076dfc-b9ad-4769-8c92-a6c4dae69d19",
    "_uuid": "8f2839f25d086af736a60e9eeb907d3b93b6e0e5",
    "execution": {
     "iopub.execute_input": "2024-12-18T11:07:16.829145Z",
     "iopub.status.busy": "2024-12-18T11:07:16.828767Z",
     "iopub.status.idle": "2024-12-18T11:07:25.359020Z",
     "shell.execute_reply": "2024-12-18T11:07:25.357836Z"
    },
    "papermill": {
     "duration": 8.538071,
     "end_time": "2024-12-18T11:07:25.361709",
     "exception": false,
     "start_time": "2024-12-18T11:07:16.823638",
     "status": "completed"
    },
    "tags": []
   },
   "outputs": [],
   "source": [
    "import torch\n",
    "\n",
    "\n",
    "import numpy as np\n",
    "import polars as pl\n",
    "import pandas as pd\n",
    "from sklearn.base import clone, BaseEstimator, RegressorMixin\n",
    "from copy import deepcopy\n",
    "import optuna\n",
    "from scipy.optimize import minimize\n",
    "import os\n",
    "import matplotlib.pyplot as plt\n",
    "import seaborn as sns\n",
    "\n",
    "import re\n",
    "from colorama import Fore, Style\n",
    "\n",
    "from tqdm import tqdm\n",
    "from IPython.display import clear_output\n",
    "from concurrent.futures import ThreadPoolExecutor\n",
    "\n",
    "import warnings\n",
    "\n",
    "warnings.filterwarnings(\"ignore\")\n",
    "pd.options.display.max_columns = None\n",
    "\n",
    "import lightgbm as lgb\n",
    "from catboost import CatBoostRegressor, CatBoostClassifier\n",
    "from xgboost import XGBRegressor\n",
    "from sklearn.ensemble import (\n",
    "    VotingRegressor,\n",
    "    StackingRegressor,\n",
    "    GradientBoostingRegressor,\n",
    ")\n",
    "from sklearn.model_selection import *\n",
    "from sklearn.metrics import *\n",
    "from sklearn.impute import SimpleImputer, KNNImputer\n",
    "from sklearn.linear_model import Ridge, LinearRegression\n",
    "\n",
    "SEED = 42\n",
    "n_splits = 5"
   ]
  },
  {
   "cell_type": "code",
   "execution_count": 2,
   "id": "6b6919d9",
   "metadata": {
    "execution": {
     "iopub.execute_input": "2024-12-18T11:07:25.370184Z",
     "iopub.status.busy": "2024-12-18T11:07:25.369510Z",
     "iopub.status.idle": "2024-12-18T11:08:53.109533Z",
     "shell.execute_reply": "2024-12-18T11:08:53.108335Z"
    },
    "papermill": {
     "duration": 87.747425,
     "end_time": "2024-12-18T11:08:53.112288",
     "exception": false,
     "start_time": "2024-12-18T11:07:25.364863",
     "status": "completed"
    },
    "tags": []
   },
   "outputs": [
    {
     "name": "stderr",
     "output_type": "stream",
     "text": [
      "100%|██████████| 996/996 [01:27<00:00, 11.42it/s]\n",
      "100%|██████████| 2/2 [00:00<00:00,  8.22it/s]"
     ]
    },
    {
     "name": "stdout",
     "output_type": "stream",
     "text": [
      "Train Shape : (2736, 155) || Test Shape : (20, 154)\n",
      "CPU times: user 3min 56s, sys: 20.4 s, total: 4min 16s\n",
      "Wall time: 1min 27s\n"
     ]
    },
    {
     "name": "stderr",
     "output_type": "stream",
     "text": [
      "\n"
     ]
    }
   ],
   "source": [
    "%%time\n",
    "\n",
    "def process_file(filename, dirname):\n",
    "    df = pd.read_parquet(os.path.join(dirname, filename, 'part-0.parquet'))\n",
    "    df.drop('step', axis=1, inplace=True)\n",
    "    return df.describe().values.reshape(-1), filename.split('=')[1]\n",
    "\n",
    "def load_time_series(dirname) -> pd.DataFrame:\n",
    "    ids = os.listdir(dirname)\n",
    "    \n",
    "    with ThreadPoolExecutor() as executor:\n",
    "        results = list(tqdm(executor.map(lambda fname: process_file(fname, dirname), ids), total=len(ids)))\n",
    "    \n",
    "    stats, indexes = zip(*results)\n",
    "    \n",
    "    df = pd.DataFrame(stats, columns=[f\"Stat_{i}\" for i in range(len(stats[0]))])\n",
    "    df['id'] = indexes\n",
    "    \n",
    "    return df\n",
    "\n",
    "train = pd.read_csv('/kaggle/input/child-mind-institute-problematic-internet-use/train.csv')\n",
    "test = pd.read_csv('/kaggle/input/child-mind-institute-problematic-internet-use/test.csv')\n",
    "sample = pd.read_csv('/kaggle/input/child-mind-institute-problematic-internet-use/sample_submission.csv')\n",
    "\n",
    "train_ts = load_time_series(\"/kaggle/input/child-mind-institute-problematic-internet-use/series_train.parquet\")\n",
    "test_ts = load_time_series(\"/kaggle/input/child-mind-institute-problematic-internet-use/series_test.parquet\")\n",
    "time_series_cols = train_ts.columns.tolist()\n",
    "time_series_cols.remove(\"id\")\n",
    "\n",
    "train = pd.merge(train, train_ts, how=\"left\", on='id')\n",
    "test = pd.merge(test, test_ts, how=\"left\", on='id')\n",
    "\n",
    "train = train.drop('id', axis=1)\n",
    "test = test.drop('id', axis=1)\n",
    "\n",
    "featuresCols = ['Basic_Demos-Enroll_Season', 'Basic_Demos-Age', 'Basic_Demos-Sex',\n",
    "                'CGAS-Season', 'CGAS-CGAS_Score', 'Physical-Season', 'Physical-BMI',\n",
    "                'Physical-Height', 'Physical-Weight', 'Physical-Waist_Circumference',\n",
    "                'Physical-Diastolic_BP', 'Physical-HeartRate', 'Physical-Systolic_BP',\n",
    "                'Fitness_Endurance-Season', 'Fitness_Endurance-Max_Stage',\n",
    "                'Fitness_Endurance-Time_Mins', 'Fitness_Endurance-Time_Sec',\n",
    "                'FGC-Season', 'FGC-FGC_CU', 'FGC-FGC_CU_Zone', 'FGC-FGC_GSND',\n",
    "                'FGC-FGC_GSND_Zone', 'FGC-FGC_GSD', 'FGC-FGC_GSD_Zone', 'FGC-FGC_PU',\n",
    "                'FGC-FGC_PU_Zone', 'FGC-FGC_SRL', 'FGC-FGC_SRL_Zone', 'FGC-FGC_SRR',\n",
    "                'FGC-FGC_SRR_Zone', 'FGC-FGC_TL', 'FGC-FGC_TL_Zone', 'BIA-Season',\n",
    "                'BIA-BIA_Activity_Level_num', 'BIA-BIA_BMC', 'BIA-BIA_BMI',\n",
    "                'BIA-BIA_BMR', 'BIA-BIA_DEE', 'BIA-BIA_ECW', 'BIA-BIA_FFM',\n",
    "                'BIA-BIA_FFMI', 'BIA-BIA_FMI', 'BIA-BIA_Fat', 'BIA-BIA_Frame_num',\n",
    "                'BIA-BIA_ICW', 'BIA-BIA_LDM', 'BIA-BIA_LST', 'BIA-BIA_SMM',\n",
    "                'BIA-BIA_TBW', 'PAQ_A-Season', 'PAQ_A-PAQ_A_Total', 'PAQ_C-Season',\n",
    "                'PAQ_C-PAQ_C_Total', 'SDS-Season', 'SDS-SDS_Total_Raw',\n",
    "                'SDS-SDS_Total_T', 'PreInt_EduHx-Season',\n",
    "                'PreInt_EduHx-computerinternet_hoursday', 'sii']\n",
    "\n",
    "featuresCols += time_series_cols\n",
    "\n",
    "train = train[featuresCols]\n",
    "train = train.dropna(subset='sii')\n",
    "\n",
    "cat_c = ['Basic_Demos-Enroll_Season', 'CGAS-Season', 'Physical-Season', 'Fitness_Endurance-Season', \n",
    "          'FGC-Season', 'BIA-Season', 'PAQ_A-Season', 'PAQ_C-Season', 'SDS-Season', 'PreInt_EduHx-Season']\n",
    "\n",
    "def update(df):\n",
    "    for c in cat_c: \n",
    "        df[c] = df[c].fillna('Missing')\n",
    "        df[c] = df[c].astype('category')\n",
    "    return df\n",
    "        \n",
    "train = update(train)\n",
    "test = update(test)\n",
    "\n",
    "def create_mapping(column, dataset):\n",
    "    unique_values = dataset[column].unique()\n",
    "    return {value: idx for idx, value in enumerate(unique_values)}\n",
    "\n",
    "\n",
    "\n",
    "for col in cat_c:\n",
    "    mapping_train = create_mapping(col, train)\n",
    "    mapping_test = create_mapping(col, test)\n",
    "    \n",
    "    train[col] = train[col].replace(mapping_train).astype(int)\n",
    "    test[col] = test[col].replace(mapping_train).astype(int)\n",
    "\n",
    "print(f'Train Shape : {train.shape} || Test Shape : {test.shape}')\n"
   ]
  },
  {
   "cell_type": "code",
   "execution_count": 3,
   "id": "834b89b4",
   "metadata": {
    "execution": {
     "iopub.execute_input": "2024-12-18T11:08:53.157459Z",
     "iopub.status.busy": "2024-12-18T11:08:53.157038Z",
     "iopub.status.idle": "2024-12-18T11:08:53.162338Z",
     "shell.execute_reply": "2024-12-18T11:08:53.161262Z"
    },
    "papermill": {
     "duration": 0.029761,
     "end_time": "2024-12-18T11:08:53.164498",
     "exception": false,
     "start_time": "2024-12-18T11:08:53.134737",
     "status": "completed"
    },
    "tags": []
   },
   "outputs": [],
   "source": [
    "all_importances = pd.DataFrame({\"feature\": featuresCols})"
   ]
  },
  {
   "cell_type": "code",
   "execution_count": 4,
   "id": "e4622bec",
   "metadata": {
    "execution": {
     "iopub.execute_input": "2024-12-18T11:08:53.207936Z",
     "iopub.status.busy": "2024-12-18T11:08:53.207116Z",
     "iopub.status.idle": "2024-12-18T11:08:59.701944Z",
     "shell.execute_reply": "2024-12-18T11:08:59.700498Z"
    },
    "papermill": {
     "duration": 6.519283,
     "end_time": "2024-12-18T11:08:59.704449",
     "exception": false,
     "start_time": "2024-12-18T11:08:53.185166",
     "status": "completed"
    },
    "tags": []
   },
   "outputs": [],
   "source": [
    "imputer = KNNImputer(n_neighbors=5)\n",
    "train_imputer = imputer.fit_transform(train)\n",
    "train = pd.DataFrame(train_imputer, columns=train.columns)\n",
    "test_imputer = imputer.fit_transform(test)\n",
    "test = pd.DataFrame(test_imputer, columns=test.columns)"
   ]
  },
  {
   "cell_type": "code",
   "execution_count": 5,
   "id": "99d12edc",
   "metadata": {
    "execution": {
     "iopub.execute_input": "2024-12-18T11:08:59.751006Z",
     "iopub.status.busy": "2024-12-18T11:08:59.750638Z",
     "iopub.status.idle": "2024-12-18T11:08:59.767175Z",
     "shell.execute_reply": "2024-12-18T11:08:59.765856Z"
    },
    "papermill": {
     "duration": 0.043667,
     "end_time": "2024-12-18T11:08:59.769412",
     "exception": false,
     "start_time": "2024-12-18T11:08:59.725745",
     "status": "completed"
    },
    "tags": []
   },
   "outputs": [
    {
     "name": "stdout",
     "output_type": "stream",
     "text": [
      "CPU times: user 0 ns, sys: 7 µs, total: 7 µs\n",
      "Wall time: 11.9 µs\n"
     ]
    }
   ],
   "source": [
    "%%time\n",
    "\n",
    "def quadratic_weighted_kappa(y_true, y_pred):\n",
    "    return cohen_kappa_score(y_true, y_pred, weights='quadratic')\n",
    "\n",
    "def threshold_Rounder(oof_non_rounded, thresholds):\n",
    "    return np.where(oof_non_rounded < thresholds[0], 0,\n",
    "                    np.where(oof_non_rounded < thresholds[1], 1,\n",
    "                             np.where(oof_non_rounded < thresholds[2], 2, 3)))\n",
    "\n",
    "def evaluate_predictions(thresholds, y_true, oof_non_rounded):\n",
    "    rounded_p = threshold_Rounder(oof_non_rounded, thresholds)\n",
    "    return -quadratic_weighted_kappa(y_true, rounded_p)\n",
    "\n",
    "def TrainML(model_class, test_data):\n",
    "    \n",
    "    X = train.drop(['sii'], axis=1)\n",
    "    y = train['sii']\n",
    "\n",
    "    SKF = RepeatedStratifiedKFold(n_splits=n_splits, n_repeats=1, random_state=SEED)\n",
    "    \n",
    "    train_S = []\n",
    "    test_S = []\n",
    "    \n",
    "    oof_non_rounded = np.zeros(len(y), dtype=float) \n",
    "    oof_rounded = np.zeros(len(y), dtype=int) \n",
    "    test_preds = np.zeros((len(test_data), n_splits))\n",
    "\n",
    "    for fold, (train_idx, test_idx) in enumerate(tqdm(SKF.split(X, y), desc=\"Training Folds\", total=n_splits)):\n",
    "        X_train, X_val = X.iloc[train_idx], X.iloc[test_idx]\n",
    "        y_train, y_val = y.iloc[train_idx], y.iloc[test_idx]\n",
    "\n",
    "        model = clone(model_class)\n",
    "        model.fit(X_train, y_train)\n",
    "\n",
    "        y_train_pred = model.predict(X_train)\n",
    "        y_val_pred = model.predict(X_val)\n",
    "\n",
    "        oof_non_rounded[test_idx] = y_val_pred\n",
    "        y_val_pred_rounded = y_val_pred.round(0).astype(int)\n",
    "        oof_rounded[test_idx] = y_val_pred_rounded\n",
    "\n",
    "        train_kappa = quadratic_weighted_kappa(y_train, y_train_pred.round(0).astype(int))\n",
    "        val_kappa = quadratic_weighted_kappa(y_val, y_val_pred_rounded)\n",
    "\n",
    "        train_S.append(train_kappa)\n",
    "        test_S.append(val_kappa)\n",
    "        \n",
    "        test_preds[:, fold] = model.predict(test_data)\n",
    "        \n",
    "        print(f\"Fold {fold+1} - Train QWK: {train_kappa:.4f}, Validation QWK: {val_kappa:.4f}\")\n",
    "        clear_output(wait=True)\n",
    "\n",
    "    print(f\"Mean Train QWK --> {np.mean(train_S):.4f}\")\n",
    "    print(f\"Mean Validation QWK ---> {np.mean(test_S):.4f}\")\n",
    "\n",
    "    KappaOPtimizer = minimize(evaluate_predictions,\n",
    "                              x0=[0.5, 1.5, 2.5], args=(y, oof_non_rounded), \n",
    "                              method='Nelder-Mead') # Nelder-Mead | # Powell\n",
    "    assert KappaOPtimizer.success, \"Optimization did not converge.\"\n",
    "    \n",
    "    oof_tuned = threshold_Rounder(oof_non_rounded, KappaOPtimizer.x)\n",
    "    tKappa = quadratic_weighted_kappa(y, oof_tuned)\n",
    "\n",
    "    print(f\"----> || Optimized QWK SCORE :: {Fore.CYAN}{Style.BRIGHT} {tKappa:.3f}{Style.RESET_ALL}\")\n",
    "\n",
    "    tpm = test_preds.mean(axis=1)\n",
    "    tpTuned = threshold_Rounder(tpm, KappaOPtimizer.x)\n",
    "    \n",
    "    submission = pd.DataFrame({\n",
    "        'id': sample['id'],\n",
    "        'sii': tpTuned\n",
    "    })\n",
    "\n",
    "    return submission,model"
   ]
  },
  {
   "cell_type": "code",
   "execution_count": 6,
   "id": "91e8cd87",
   "metadata": {
    "execution": {
     "iopub.execute_input": "2024-12-18T11:08:59.823956Z",
     "iopub.status.busy": "2024-12-18T11:08:59.823551Z",
     "iopub.status.idle": "2024-12-18T11:08:59.830209Z",
     "shell.execute_reply": "2024-12-18T11:08:59.828758Z"
    },
    "papermill": {
     "duration": 0.036743,
     "end_time": "2024-12-18T11:08:59.832576",
     "exception": false,
     "start_time": "2024-12-18T11:08:59.795833",
     "status": "completed"
    },
    "tags": []
   },
   "outputs": [],
   "source": [
    "params4 = {\n",
    "    \"lambda_l1\": 6.867958298215203,\n",
    "    \"lambda_l2\": 0.0010621982857393474,\n",
    "    \"num_leaves\": 55,\n",
    "    \"feature_fraction\": 0.5053798017764384,\n",
    "    \"bagging_fraction\": 0.8712517983148399,\n",
    "    \"bagging_freq\": 3,\n",
    "    \"min_child_samples\": 62,\n",
    "    \"learning_rate\": 0.060063227417318364,\n",
    "}\n",
    "# catboost_params2 = {'learning_rate': 0.017747581822839028,\n",
    "#  'depth': 5,\n",
    "#  'subsample': 0.5324952077642681,\n",
    "#  'colsample_bylevel': 0.8180498009117981,\n",
    "#  'min_data_in_leaf': 15}\n",
    "# XGB_Params2 = {'lambda_l1': 0.3958754953528503,\n",
    "#  'lambda_l2': 0.0004916199597661849,\n",
    "#  'num_leaves': 2,\n",
    "#  'feature_fraction': 0.7934382188979396,\n",
    "#  'bagging_fraction': 0.5165364918441219,\n",
    "#  'bagging_freq': 6,\n",
    "#  'min_child_samples': 71,\n",
    "#  'learning_rate': 0.016561741947618006}"
   ]
  },
  {
   "cell_type": "code",
   "execution_count": 7,
   "id": "937a9384",
   "metadata": {
    "execution": {
     "iopub.execute_input": "2024-12-18T11:08:59.877117Z",
     "iopub.status.busy": "2024-12-18T11:08:59.876683Z",
     "iopub.status.idle": "2024-12-18T11:08:59.886316Z",
     "shell.execute_reply": "2024-12-18T11:08:59.885354Z"
    },
    "papermill": {
     "duration": 0.034013,
     "end_time": "2024-12-18T11:08:59.888417",
     "exception": false,
     "start_time": "2024-12-18T11:08:59.854404",
     "status": "completed"
    },
    "tags": []
   },
   "outputs": [],
   "source": [
    "Light1 = lgb.LGBMRegressor(**params4, random_state=SEED, verbose=-1, n_estimators=200)\n",
    "# Catboost_model = CatBoostRegressor(**catboost_params2)\n",
    "# XGB_Model = XGBRegressor(**XGB_Params2)\n",
    "# voting_model = VotingRegressor(estimators=[\n",
    "#     ('lightgbm1', Light1),\n",
    "#     ('xgboost', XGB_Model),\n",
    "#     ('catboost', Catboost_model)\n",
    "# ])"
   ]
  },
  {
   "cell_type": "code",
   "execution_count": 8,
   "id": "3fa3e6bf",
   "metadata": {
    "execution": {
     "iopub.execute_input": "2024-12-18T11:08:59.932641Z",
     "iopub.status.busy": "2024-12-18T11:08:59.932249Z",
     "iopub.status.idle": "2024-12-18T11:09:02.941112Z",
     "shell.execute_reply": "2024-12-18T11:09:02.939463Z"
    },
    "papermill": {
     "duration": 3.034515,
     "end_time": "2024-12-18T11:09:02.943986",
     "exception": false,
     "start_time": "2024-12-18T11:08:59.909471",
     "status": "completed"
    },
    "tags": []
   },
   "outputs": [
    {
     "name": "stderr",
     "output_type": "stream",
     "text": [
      "Training Folds: 100%|██████████| 5/5 [00:02<00:00,  1.87it/s]"
     ]
    },
    {
     "name": "stdout",
     "output_type": "stream",
     "text": [
      "Mean Train QWK --> 0.6911\n",
      "Mean Validation QWK ---> 0.3831\n"
     ]
    },
    {
     "name": "stderr",
     "output_type": "stream",
     "text": [
      "\n"
     ]
    },
    {
     "name": "stdout",
     "output_type": "stream",
     "text": [
      "----> || Optimized QWK SCORE :: \u001b[36m\u001b[1m 0.471\u001b[0m\n"
     ]
    }
   ],
   "source": [
    "Submission, model = TrainML(Light1, test)"
   ]
  },
  {
   "cell_type": "code",
   "execution_count": 9,
   "id": "33196431",
   "metadata": {
    "execution": {
     "iopub.execute_input": "2024-12-18T11:09:03.002044Z",
     "iopub.status.busy": "2024-12-18T11:09:03.001645Z",
     "iopub.status.idle": "2024-12-18T11:09:03.015025Z",
     "shell.execute_reply": "2024-12-18T11:09:03.013630Z"
    },
    "papermill": {
     "duration": 0.045868,
     "end_time": "2024-12-18T11:09:03.017559",
     "exception": false,
     "start_time": "2024-12-18T11:09:02.971691",
     "status": "completed"
    },
    "tags": []
   },
   "outputs": [
    {
     "name": "stdout",
     "output_type": "stream",
     "text": [
      "sii\n",
      "1    13\n",
      "0     7\n",
      "Name: count, dtype: int64\n",
      "CPU times: user 5.66 ms, sys: 59 µs, total: 5.72 ms\n",
      "Wall time: 7.33 ms\n"
     ]
    }
   ],
   "source": [
    "%%time\n",
    "\n",
    "Submission.to_csv('submission.csv', index=False)\n",
    "print(Submission['sii'].value_counts())"
   ]
  }
 ],
 "metadata": {
  "kaggle": {
   "accelerator": "none",
   "dataSources": [
    {
     "databundleVersionId": 9643020,
     "sourceId": 81933,
     "sourceType": "competition"
    },
    {
     "datasetId": 921302,
     "sourceId": 7453542,
     "sourceType": "datasetVersion"
    }
   ],
   "dockerImageVersionId": 30804,
   "isGpuEnabled": false,
   "isInternetEnabled": false,
   "language": "python",
   "sourceType": "notebook"
  },
  "kernelspec": {
   "display_name": "Python 3",
   "language": "python",
   "name": "python3"
  },
  "language_info": {
   "codemirror_mode": {
    "name": "ipython",
    "version": 3
   },
   "file_extension": ".py",
   "mimetype": "text/x-python",
   "name": "python",
   "nbconvert_exporter": "python",
   "pygments_lexer": "ipython3",
   "version": "3.10.14"
  },
  "papermill": {
   "default_parameters": {},
   "duration": 110.58236,
   "end_time": "2024-12-18T11:09:04.572999",
   "environment_variables": {},
   "exception": null,
   "input_path": "__notebook__.ipynb",
   "output_path": "__notebook__.ipynb",
   "parameters": {},
   "start_time": "2024-12-18T11:07:13.990639",
   "version": "2.6.0"
  }
 },
 "nbformat": 4,
 "nbformat_minor": 5
}
